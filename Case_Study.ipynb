{
 "cells": [
  {
   "cell_type": "markdown",
   "metadata": {},
   "source": [
    "# Datasets\n",
    "\n",
    "The attached file contains two data sets:\n",
    "\n",
    "·         Sales Data: gross mutual fund sales for Homemade Funds by dealers across selected metropolitan areas over a given period. Homemade Funds sales are comprised of financial advisors investing in various funds available to them.\n",
    "\n",
    "·         Region Data: Zillow Home Value Index and measures the value of homes in different regions across the country. More info is available at www.zillow.com  \n",
    "\n",
    " \n",
    "\n",
    "Questions\n",
    "\n",
    "Using the sales dataset:\n",
    "\n",
    "1.      Create a function (in any language) which will identify outliers\n",
    "\n",
    "o   Describe the outlier function and types of outliers you are interested in identifying\n",
    "\n",
    "2.      Based on your observations, what do you think code means?\n",
    "\n",
    "3.      What is the relationship between homemade sales and global sales?"
   ]
  },
  {
   "cell_type": "code",
   "execution_count": 1,
   "metadata": {
    "collapsed": true
   },
   "outputs": [],
   "source": [
    "import pandas as pd\n",
    "import numpy as np\n",
    "import matplotlib.pyplot as plt\n",
    "%matplotlib inline "
   ]
  },
  {
   "cell_type": "code",
   "execution_count": 2,
   "metadata": {
    "collapsed": false
   },
   "outputs": [],
   "source": [
    "# renamed xlsx file to CG_case_study\n",
    "funds_data = pd.read_excel(\"CG_case_study.xlsx\", \"SalesData\")"
   ]
  },
  {
   "cell_type": "code",
   "execution_count": 4,
   "metadata": {
    "collapsed": false
   },
   "outputs": [
    {
     "data": {
      "text/html": [
       "<div>\n",
       "<table border=\"1\" class=\"dataframe\">\n",
       "  <thead>\n",
       "    <tr style=\"text-align: right;\">\n",
       "      <th></th>\n",
       "      <th>Code</th>\n",
       "      <th>Dealer</th>\n",
       "      <th>STATE</th>\n",
       "      <th>METRO</th>\n",
       "      <th>MORNINGSTAR_FUND_CAT1</th>\n",
       "      <th>MORNINGSTAR_FUND_CAT2</th>\n",
       "      <th>HomeMade_RTL_SALES</th>\n",
       "      <th>Global_MF_SALES</th>\n",
       "    </tr>\n",
       "  </thead>\n",
       "  <tbody>\n",
       "    <tr>\n",
       "      <th>0</th>\n",
       "      <td>103</td>\n",
       "      <td>Dealer 1</td>\n",
       "      <td>CA</td>\n",
       "      <td>San Francisco-Oakland-Hayward CA</td>\n",
       "      <td>Allocation</td>\n",
       "      <td>US OE Aggressive Allocation</td>\n",
       "      <td>287.496</td>\n",
       "      <td>1737.480</td>\n",
       "    </tr>\n",
       "    <tr>\n",
       "      <th>1</th>\n",
       "      <td>103</td>\n",
       "      <td>Dealer 1</td>\n",
       "      <td>CA</td>\n",
       "      <td>San Francisco-Oakland-Hayward CA</td>\n",
       "      <td>Allocation</td>\n",
       "      <td>US OE Conservative Allocation</td>\n",
       "      <td>0.000</td>\n",
       "      <td>75075.000</td>\n",
       "    </tr>\n",
       "    <tr>\n",
       "      <th>2</th>\n",
       "      <td>103</td>\n",
       "      <td>Dealer 1</td>\n",
       "      <td>CA</td>\n",
       "      <td>San Francisco-Oakland-Hayward CA</td>\n",
       "      <td>Allocation</td>\n",
       "      <td>US OE Moderate Allocation</td>\n",
       "      <td>2000.358</td>\n",
       "      <td>11901.790</td>\n",
       "    </tr>\n",
       "    <tr>\n",
       "      <th>3</th>\n",
       "      <td>103</td>\n",
       "      <td>Dealer 1</td>\n",
       "      <td>CA</td>\n",
       "      <td>San Francisco-Oakland-Hayward CA</td>\n",
       "      <td>Allocation</td>\n",
       "      <td>US OE World Allocation</td>\n",
       "      <td>7506.232</td>\n",
       "      <td>38736.160</td>\n",
       "    </tr>\n",
       "    <tr>\n",
       "      <th>...</th>\n",
       "      <td>...</td>\n",
       "      <td>...</td>\n",
       "      <td>...</td>\n",
       "      <td>...</td>\n",
       "      <td>...</td>\n",
       "      <td>...</td>\n",
       "      <td>...</td>\n",
       "      <td>...</td>\n",
       "    </tr>\n",
       "    <tr>\n",
       "      <th>150105</th>\n",
       "      <td>1536</td>\n",
       "      <td>Dealer 9</td>\n",
       "      <td>CT</td>\n",
       "      <td>New Haven-Milford CT</td>\n",
       "      <td>Tax Preferred</td>\n",
       "      <td>US OE Muni National Interm</td>\n",
       "      <td>0.000</td>\n",
       "      <td>57498.925</td>\n",
       "    </tr>\n",
       "    <tr>\n",
       "      <th>150106</th>\n",
       "      <td>1536</td>\n",
       "      <td>Dealer 9</td>\n",
       "      <td>CT</td>\n",
       "      <td>New Haven-Milford CT</td>\n",
       "      <td>Tax Preferred</td>\n",
       "      <td>US OE Muni National Short</td>\n",
       "      <td>0.000</td>\n",
       "      <td>21281.810</td>\n",
       "    </tr>\n",
       "    <tr>\n",
       "      <th>150107</th>\n",
       "      <td>1536</td>\n",
       "      <td>Dealer 9</td>\n",
       "      <td>CT</td>\n",
       "      <td>New Haven-Milford CT</td>\n",
       "      <td>Tax Preferred</td>\n",
       "      <td>US OE Muni New York Long</td>\n",
       "      <td>0.000</td>\n",
       "      <td>0.000</td>\n",
       "    </tr>\n",
       "    <tr>\n",
       "      <th>150108</th>\n",
       "      <td>1536</td>\n",
       "      <td>Dealer 9</td>\n",
       "      <td>CT</td>\n",
       "      <td>New Haven-Milford CT</td>\n",
       "      <td>Tax Preferred</td>\n",
       "      <td>US OE Muni Single State Long</td>\n",
       "      <td>0.000</td>\n",
       "      <td>0.000</td>\n",
       "    </tr>\n",
       "  </tbody>\n",
       "</table>\n",
       "<p>150109 rows × 8 columns</p>\n",
       "</div>"
      ],
      "text/plain": [
       "        Code    Dealer STATE                             METRO  \\\n",
       "0        103  Dealer 1    CA  San Francisco-Oakland-Hayward CA   \n",
       "1        103  Dealer 1    CA  San Francisco-Oakland-Hayward CA   \n",
       "2        103  Dealer 1    CA  San Francisco-Oakland-Hayward CA   \n",
       "3        103  Dealer 1    CA  San Francisco-Oakland-Hayward CA   \n",
       "...      ...       ...   ...                               ...   \n",
       "150105  1536  Dealer 9    CT              New Haven-Milford CT   \n",
       "150106  1536  Dealer 9    CT              New Haven-Milford CT   \n",
       "150107  1536  Dealer 9    CT              New Haven-Milford CT   \n",
       "150108  1536  Dealer 9    CT              New Haven-Milford CT   \n",
       "\n",
       "       MORNINGSTAR_FUND_CAT1          MORNINGSTAR_FUND_CAT2  \\\n",
       "0                 Allocation    US OE Aggressive Allocation   \n",
       "1                 Allocation  US OE Conservative Allocation   \n",
       "2                 Allocation      US OE Moderate Allocation   \n",
       "3                 Allocation         US OE World Allocation   \n",
       "...                      ...                            ...   \n",
       "150105         Tax Preferred     US OE Muni National Interm   \n",
       "150106         Tax Preferred      US OE Muni National Short   \n",
       "150107         Tax Preferred       US OE Muni New York Long   \n",
       "150108         Tax Preferred   US OE Muni Single State Long   \n",
       "\n",
       "        HomeMade_RTL_SALES  Global_MF_SALES  \n",
       "0                  287.496         1737.480  \n",
       "1                    0.000        75075.000  \n",
       "2                 2000.358        11901.790  \n",
       "3                 7506.232        38736.160  \n",
       "...                    ...              ...  \n",
       "150105               0.000        57498.925  \n",
       "150106               0.000        21281.810  \n",
       "150107               0.000            0.000  \n",
       "150108               0.000            0.000  \n",
       "\n",
       "[150109 rows x 8 columns]"
      ]
     },
     "execution_count": 4,
     "metadata": {},
     "output_type": "execute_result"
    }
   ],
   "source": [
    "pd.options.display.max_rows = 8\n",
    "funds_data"
   ]
  },
  {
   "cell_type": "code",
   "execution_count": null,
   "metadata": {
    "collapsed": true
   },
   "outputs": [],
   "source": [
    "# There are two types of outliers:\n",
    "#    1. Artificial (Error) / Non-natural outliers\n",
    "#    2. Natural outliers\n",
    "# interested in detecting artificial  outliers"
   ]
  },
  {
   "cell_type": "code",
   "execution_count": 5,
   "metadata": {
    "collapsed": false
   },
   "outputs": [
    {
     "data": {
      "text/html": [
       "<div>\n",
       "<table border=\"1\" class=\"dataframe\">\n",
       "  <thead>\n",
       "    <tr style=\"text-align: right;\">\n",
       "      <th></th>\n",
       "      <th>Code</th>\n",
       "      <th>HomeMade_RTL_SALES</th>\n",
       "      <th>Global_MF_SALES</th>\n",
       "    </tr>\n",
       "  </thead>\n",
       "  <tbody>\n",
       "    <tr>\n",
       "      <th>count</th>\n",
       "      <td>150109.000000</td>\n",
       "      <td>1.501090e+05</td>\n",
       "      <td>1.501090e+05</td>\n",
       "    </tr>\n",
       "    <tr>\n",
       "      <th>mean</th>\n",
       "      <td>566.029325</td>\n",
       "      <td>2.660449e+03</td>\n",
       "      <td>1.005701e+05</td>\n",
       "    </tr>\n",
       "    <tr>\n",
       "      <th>std</th>\n",
       "      <td>607.395226</td>\n",
       "      <td>2.045040e+04</td>\n",
       "      <td>5.662257e+05</td>\n",
       "    </tr>\n",
       "    <tr>\n",
       "      <th>min</th>\n",
       "      <td>103.000000</td>\n",
       "      <td>-2.899280e+04</td>\n",
       "      <td>-1.448390e+05</td>\n",
       "    </tr>\n",
       "    <tr>\n",
       "      <th>25%</th>\n",
       "      <td>141.000000</td>\n",
       "      <td>0.000000e+00</td>\n",
       "      <td>4.677000e+01</td>\n",
       "    </tr>\n",
       "    <tr>\n",
       "      <th>50%</th>\n",
       "      <td>176.000000</td>\n",
       "      <td>0.000000e+00</td>\n",
       "      <td>3.914940e+03</td>\n",
       "    </tr>\n",
       "    <tr>\n",
       "      <th>75%</th>\n",
       "      <td>1222.000000</td>\n",
       "      <td>0.000000e+00</td>\n",
       "      <td>3.866679e+04</td>\n",
       "    </tr>\n",
       "    <tr>\n",
       "      <th>max</th>\n",
       "      <td>1661.000000</td>\n",
       "      <td>1.549892e+06</td>\n",
       "      <td>9.465031e+07</td>\n",
       "    </tr>\n",
       "  </tbody>\n",
       "</table>\n",
       "</div>"
      ],
      "text/plain": [
       "                Code  HomeMade_RTL_SALES  Global_MF_SALES\n",
       "count  150109.000000        1.501090e+05     1.501090e+05\n",
       "mean      566.029325        2.660449e+03     1.005701e+05\n",
       "std       607.395226        2.045040e+04     5.662257e+05\n",
       "min       103.000000       -2.899280e+04    -1.448390e+05\n",
       "25%       141.000000        0.000000e+00     4.677000e+01\n",
       "50%       176.000000        0.000000e+00     3.914940e+03\n",
       "75%      1222.000000        0.000000e+00     3.866679e+04\n",
       "max      1661.000000        1.549892e+06     9.465031e+07"
      ]
     },
     "execution_count": 5,
     "metadata": {},
     "output_type": "execute_result"
    }
   ],
   "source": [
    "funds_data.describe()"
   ]
  },
  {
   "cell_type": "code",
   "execution_count": 6,
   "metadata": {
    "collapsed": false
   },
   "outputs": [
    {
     "data": {
      "text/plain": [
       "Code                     114390\n",
       "Dealer                   114390\n",
       "STATE                    114390\n",
       "METRO                    114390\n",
       "MORNINGSTAR_FUND_CAT1    114390\n",
       "MORNINGSTAR_FUND_CAT2    114390\n",
       "HomeMade_RTL_SALES       114390\n",
       "Global_MF_SALES          114390\n",
       "dtype: int64"
      ]
     },
     "execution_count": 6,
     "metadata": {},
     "output_type": "execute_result"
    }
   ],
   "source": [
    "# data exploration indicates high volume of cells with missing values (converted to 0 in pd df)\n",
    "# Will take average of unique 'code' and replace 0 cells with unique code's avg home sale value.\n",
    "funds_data[funds_data.HomeMade_RTL_SALES == 0].count()"
   ]
  },
  {
   "cell_type": "code",
   "execution_count": 7,
   "metadata": {
    "collapsed": false
   },
   "outputs": [
    {
     "data": {
      "text/plain": [
       "Code                     34320\n",
       "Dealer                   34320\n",
       "STATE                    34320\n",
       "METRO                    34320\n",
       "MORNINGSTAR_FUND_CAT1    34320\n",
       "MORNINGSTAR_FUND_CAT2    34320\n",
       "HomeMade_RTL_SALES       34320\n",
       "Global_MF_SALES          34320\n",
       "dtype: int64"
      ]
     },
     "execution_count": 7,
     "metadata": {},
     "output_type": "execute_result"
    }
   ],
   "source": [
    "# data exploration indicates multiple cells with missing values (converted to 0 in pd df) \n",
    "# Will take average of unique 'code' and replace 0 cells with unique code's avg global sale value. \n",
    "funds_data[funds_data.Global_MF_SALES == 0].count()"
   ]
  },
  {
   "cell_type": "code",
   "execution_count": 8,
   "metadata": {
    "collapsed": false
   },
   "outputs": [
    {
     "name": "stderr",
     "output_type": "stream",
     "text": [
      "//anaconda/lib/python2.7/site-packages/seaborn/categorical.py:2125: UserWarning: The boxplot API has been changed. Attempting to adjust your arguments for the new API (which might not work). Please update your code. See the version 0.6 release notes for more info.\n",
      "  warnings.warn(msg, UserWarning)\n"
     ]
    },
    {
     "data": {
      "image/png": "[encoded data removed]",
      "text/plain": [
       "<matplotlib.figure.Figure at 0x107e7ad50>"
      ]
     },
     "metadata": {},
     "output_type": "display_data"
    }
   ],
   "source": [
    "# extreem/missing values are causing high variation in the data\n",
    "import seaborn as sns \n",
    "sns.boxplot(pd.DataFrame(funds_data['Global_MF_SALES']))\n",
    "sns.despine()\n",
    "# or could use: plt.boxplot(funds_data['Global_MF_SALES'], 0, 'gD') or np.log(funds_data['Global_MF_SALES']).plot(kind = 'box')"
   ]
  },
  {
   "cell_type": "code",
   "execution_count": 9,
   "metadata": {
    "collapsed": false
   },
   "outputs": [
    {
     "data": {
      "image/png": "[encoded data removed]",
      "text/plain": [
       "<matplotlib.figure.Figure at 0x107725a50>"
      ]
     },
     "metadata": {},
     "output_type": "display_data"
    }
   ],
   "source": [
    "# extreem/missing values are causing high variation in the data\n",
    "import seaborn as sns \n",
    "sns.boxplot(pd.DataFrame(funds_data['HomeMade_RTL_SALES']))\n",
    "sns.despine()"
   ]
  },
  {
   "cell_type": "markdown",
   "metadata": {},
   "source": [
    "# Connecting SQL "
   ]
  },
  {
   "cell_type": "code",
   "execution_count": 17,
   "metadata": {
    "collapsed": true
   },
   "outputs": [],
   "source": [
    "dfs = [funds_data]\n",
    "names = ['funds_data']"
   ]
  },
  {
   "cell_type": "code",
   "execution_count": 18,
   "metadata": {
    "collapsed": false
   },
   "outputs": [
    {
     "data": {
      "text/plain": [
       "Index([u'Code', u'Dealer', u'STATE', u'METRO', u'MORNINGSTAR_FUND_CAT1',\n",
       "       u'MORNINGSTAR_FUND_CAT2', u'HomeMade_RTL_SALES', u'Global_MF_SALES'],\n",
       "      dtype='object')"
      ]
     },
     "execution_count": 18,
     "metadata": {},
     "output_type": "execute_result"
    }
   ],
   "source": [
    "funds_data.columns"
   ]
  },
  {
   "cell_type": "code",
   "execution_count": 19,
   "metadata": {
    "collapsed": false
   },
   "outputs": [],
   "source": [
    "import sqlite3 as sql\n",
    "import sys "
   ]
  },
  {
   "cell_type": "raw",
   "metadata": {},
   "source": [
    "#conn = sql.connect('SQLcapstone.db')\n",
    "#conn.text_factory = str\n",
    "#c = conn.cursor()"
   ]
  },
  {
   "cell_type": "code",
   "execution_count": 20,
   "metadata": {
    "collapsed": false
   },
   "outputs": [],
   "source": [
    "for name,df in zip(names,dfs):\n",
    "    with sql.connect('funds.db') as conn:\n",
    "        conn.text_factory = str\n",
    "        df.to_sql(name, conn, flavor='sqlite',if_exists='replace',index=False)\n",
    "c = conn.cursor()        "
   ]
  },
  {
   "cell_type": "markdown",
   "metadata": {
    "collapsed": true
   },
   "source": [
    "# HOME: Imputing missing values"
   ]
  },
  {
   "cell_type": "code",
   "execution_count": 21,
   "metadata": {
    "collapsed": false
   },
   "outputs": [
    {
     "data": {
      "text/plain": [
       "<sqlite3.Cursor at 0x109e43c70>"
      ]
     },
     "execution_count": 21,
     "metadata": {},
     "output_type": "execute_result"
    }
   ],
   "source": [
    "c.execute(\"\"\"DROP TABLE avg_funds_data_test\"\"\")"
   ]
  },
  {
   "cell_type": "code",
   "execution_count": 22,
   "metadata": {
    "collapsed": false
   },
   "outputs": [
    {
     "data": {
      "text/plain": [
       "<sqlite3.Cursor at 0x109e43c70>"
      ]
     },
     "execution_count": 22,
     "metadata": {},
     "output_type": "execute_result"
    }
   ],
   "source": [
    "# Finding avg of unique 'Code', dealer' and 'Metro' to replace 0 cells with this avg value.\n",
    "c.execute(\"\"\"Create table avg_funds_data_test as \n",
    "          SELECT DISTINCT(Code) AS Code, Dealer,\n",
    "          AVG(HomeMade_RTL_SALES) AS avg_homesales,\n",
    "          AVG(Global_MF_SALES) AS avg_globalsales\n",
    "          FROM funds_data\n",
    "          GROUP BY Code, Dealer\"\"\")\n"
   ]
  },
  {
   "cell_type": "code",
   "execution_count": 23,
   "metadata": {
    "collapsed": false
   },
   "outputs": [
    {
     "name": "stdout",
     "output_type": "stream",
     "text": [
      "['Code', 'Dealer', 'avg_homesales', 'avg_globalsales']\n"
     ]
    },
    {
     "data": {
      "text/html": [
       "<div>\n",
       "<table border=\"1\" class=\"dataframe\">\n",
       "  <thead>\n",
       "    <tr style=\"text-align: right;\">\n",
       "      <th></th>\n",
       "      <th>0</th>\n",
       "      <th>1</th>\n",
       "      <th>2</th>\n",
       "      <th>3</th>\n",
       "    </tr>\n",
       "  </thead>\n",
       "  <tbody>\n",
       "    <tr>\n",
       "      <th>0</th>\n",
       "      <td>103</td>\n",
       "      <td>Dealer 1</td>\n",
       "      <td>2465.533932</td>\n",
       "      <td>3.307991e+04</td>\n",
       "    </tr>\n",
       "    <tr>\n",
       "      <th>1</th>\n",
       "      <td>103</td>\n",
       "      <td>Dealer 10</td>\n",
       "      <td>818.228080</td>\n",
       "      <td>2.679089e+04</td>\n",
       "    </tr>\n",
       "    <tr>\n",
       "      <th>2</th>\n",
       "      <td>103</td>\n",
       "      <td>Dealer 11</td>\n",
       "      <td>388.692491</td>\n",
       "      <td>1.891360e+05</td>\n",
       "    </tr>\n",
       "    <tr>\n",
       "      <th>3</th>\n",
       "      <td>103</td>\n",
       "      <td>Dealer 12</td>\n",
       "      <td>303.829545</td>\n",
       "      <td>8.061465e+03</td>\n",
       "    </tr>\n",
       "    <tr>\n",
       "      <th>4</th>\n",
       "      <td>103</td>\n",
       "      <td>Dealer 13</td>\n",
       "      <td>311.485257</td>\n",
       "      <td>1.327767e+04</td>\n",
       "    </tr>\n",
       "    <tr>\n",
       "      <th>...</th>\n",
       "      <td>...</td>\n",
       "      <td>...</td>\n",
       "      <td>...</td>\n",
       "      <td>...</td>\n",
       "    </tr>\n",
       "    <tr>\n",
       "      <th>1063</th>\n",
       "      <td>1661</td>\n",
       "      <td>Dealer 19</td>\n",
       "      <td>27567.277278</td>\n",
       "      <td>4.579651e+06</td>\n",
       "    </tr>\n",
       "    <tr>\n",
       "      <th>1064</th>\n",
       "      <td>1661</td>\n",
       "      <td>Dealer 2</td>\n",
       "      <td>1210.758864</td>\n",
       "      <td>4.358199e+04</td>\n",
       "    </tr>\n",
       "    <tr>\n",
       "      <th>1065</th>\n",
       "      <td>1661</td>\n",
       "      <td>Dealer 24</td>\n",
       "      <td>20508.785063</td>\n",
       "      <td>1.897637e+06</td>\n",
       "    </tr>\n",
       "    <tr>\n",
       "      <th>1066</th>\n",
       "      <td>1661</td>\n",
       "      <td>Dealer 29</td>\n",
       "      <td>4798.113155</td>\n",
       "      <td>9.183563e+05</td>\n",
       "    </tr>\n",
       "    <tr>\n",
       "      <th>1067</th>\n",
       "      <td>1661</td>\n",
       "      <td>Dealer 43</td>\n",
       "      <td>6915.489345</td>\n",
       "      <td>2.434718e+05</td>\n",
       "    </tr>\n",
       "  </tbody>\n",
       "</table>\n",
       "<p>1068 rows × 4 columns</p>\n",
       "</div>"
      ],
      "text/plain": [
       "         0          1             2             3\n",
       "0      103   Dealer 1   2465.533932  3.307991e+04\n",
       "1      103  Dealer 10    818.228080  2.679089e+04\n",
       "2      103  Dealer 11    388.692491  1.891360e+05\n",
       "3      103  Dealer 12    303.829545  8.061465e+03\n",
       "4      103  Dealer 13    311.485257  1.327767e+04\n",
       "...    ...        ...           ...           ...\n",
       "1063  1661  Dealer 19  27567.277278  4.579651e+06\n",
       "1064  1661   Dealer 2   1210.758864  4.358199e+04\n",
       "1065  1661  Dealer 24  20508.785063  1.897637e+06\n",
       "1066  1661  Dealer 29   4798.113155  9.183563e+05\n",
       "1067  1661  Dealer 43   6915.489345  2.434718e+05\n",
       "\n",
       "[1068 rows x 4 columns]"
      ]
     },
     "execution_count": 23,
     "metadata": {},
     "output_type": "execute_result"
    }
   ],
   "source": [
    "pd.options.display.max_rows = 10\n",
    "c.execute(\"\"\"SELECT * FROM avg_funds_data_test\"\"\")\n",
    "names = [description[0] for description in c.description]\n",
    "print names\n",
    "data = c.fetchall()\n",
    "avg_funds_data = pd.DataFrame(data)\n",
    "avg_funds_data"
   ]
  },
  {
   "cell_type": "code",
   "execution_count": 24,
   "metadata": {
    "collapsed": false
   },
   "outputs": [
    {
     "data": {
      "text/plain": [
       "<sqlite3.Cursor at 0x109e43c70>"
      ]
     },
     "execution_count": 24,
     "metadata": {},
     "output_type": "execute_result"
    }
   ],
   "source": [
    "c.execute(\"\"\"DROP TABLE funds_data_duplicate\"\"\")"
   ]
  },
  {
   "cell_type": "code",
   "execution_count": 25,
   "metadata": {
    "collapsed": false
   },
   "outputs": [
    {
     "data": {
      "text/plain": [
       "<sqlite3.Cursor at 0x109e43c70>"
      ]
     },
     "execution_count": 25,
     "metadata": {},
     "output_type": "execute_result"
    }
   ],
   "source": [
    "#duplicating funds_data\n",
    "c.execute(\"\"\"CREATE TABLE funds_data_duplicate AS\n",
    "             SELECT * FROM funds_data\"\"\")"
   ]
  },
  {
   "cell_type": "code",
   "execution_count": 26,
   "metadata": {
    "collapsed": false
   },
   "outputs": [
    {
     "data": {
      "text/plain": [
       "<sqlite3.Cursor at 0x109e43c70>"
      ]
     },
     "execution_count": 26,
     "metadata": {},
     "output_type": "execute_result"
    }
   ],
   "source": [
    "c.execute(\"\"\"DROP TABLE funds_merged_home_test\"\"\")"
   ]
  },
  {
   "cell_type": "code",
   "execution_count": 27,
   "metadata": {
    "collapsed": false
   },
   "outputs": [
    {
     "data": {
      "text/plain": [
       "<sqlite3.Cursor at 0x109e43c70>"
      ]
     },
     "execution_count": 27,
     "metadata": {},
     "output_type": "execute_result"
    }
   ],
   "source": [
    "c.execute(\"\"\"CREATE TABLE funds_merged_home_test AS\n",
    "            SELECT * FROM funds_data_duplicate AS fdd\n",
    "            LEFT JOIN avg_funds_data_test AS afd\n",
    "            ON fdd.Code = afd.Code \n",
    "            AND fdd.Dealer = afd.Dealer\n",
    "            \"\"\")"
   ]
  },
  {
   "cell_type": "code",
   "execution_count": 28,
   "metadata": {
    "collapsed": false
   },
   "outputs": [
    {
     "name": "stdout",
     "output_type": "stream",
     "text": [
      "['Code', 'Dealer', 'STATE', 'METRO', 'MORNINGSTAR_FUND_CAT1', 'MORNINGSTAR_FUND_CAT2', 'HomeMade_RTL_SALES', 'Global_MF_SALES', 'Code:1', 'Dealer:1', 'avg_homesales', 'avg_globalsales']\n"
     ]
    },
    {
     "data": {
      "text/html": [
       "<div>\n",
       "<table border=\"1\" class=\"dataframe\">\n",
       "  <thead>\n",
       "    <tr style=\"text-align: right;\">\n",
       "      <th></th>\n",
       "      <th>0</th>\n",
       "      <th>1</th>\n",
       "      <th>2</th>\n",
       "      <th>3</th>\n",
       "      <th>4</th>\n",
       "      <th>5</th>\n",
       "      <th>6</th>\n",
       "      <th>7</th>\n",
       "      <th>8</th>\n",
       "      <th>9</th>\n",
       "      <th>10</th>\n",
       "      <th>11</th>\n",
       "    </tr>\n",
       "  </thead>\n",
       "  <tbody>\n",
       "    <tr>\n",
       "      <th>0</th>\n",
       "      <td>103</td>\n",
       "      <td>Dealer 1</td>\n",
       "      <td>CA</td>\n",
       "      <td>San Francisco-Oakland-Hayward CA</td>\n",
       "      <td>Allocation</td>\n",
       "      <td>US OE Aggressive Allocation</td>\n",
       "      <td>287.496</td>\n",
       "      <td>1737.480</td>\n",
       "      <td>103</td>\n",
       "      <td>Dealer 1</td>\n",
       "      <td>2465.533932</td>\n",
       "      <td>33079.912055</td>\n",
       "    </tr>\n",
       "    <tr>\n",
       "      <th>1</th>\n",
       "      <td>103</td>\n",
       "      <td>Dealer 1</td>\n",
       "      <td>CA</td>\n",
       "      <td>San Francisco-Oakland-Hayward CA</td>\n",
       "      <td>Allocation</td>\n",
       "      <td>US OE Conservative Allocation</td>\n",
       "      <td>0.000</td>\n",
       "      <td>75075.000</td>\n",
       "      <td>103</td>\n",
       "      <td>Dealer 1</td>\n",
       "      <td>2465.533932</td>\n",
       "      <td>33079.912055</td>\n",
       "    </tr>\n",
       "    <tr>\n",
       "      <th>2</th>\n",
       "      <td>103</td>\n",
       "      <td>Dealer 1</td>\n",
       "      <td>CA</td>\n",
       "      <td>San Francisco-Oakland-Hayward CA</td>\n",
       "      <td>Allocation</td>\n",
       "      <td>US OE Moderate Allocation</td>\n",
       "      <td>2000.358</td>\n",
       "      <td>11901.790</td>\n",
       "      <td>103</td>\n",
       "      <td>Dealer 1</td>\n",
       "      <td>2465.533932</td>\n",
       "      <td>33079.912055</td>\n",
       "    </tr>\n",
       "    <tr>\n",
       "      <th>3</th>\n",
       "      <td>103</td>\n",
       "      <td>Dealer 1</td>\n",
       "      <td>CA</td>\n",
       "      <td>San Francisco-Oakland-Hayward CA</td>\n",
       "      <td>Allocation</td>\n",
       "      <td>US OE World Allocation</td>\n",
       "      <td>7506.232</td>\n",
       "      <td>38736.160</td>\n",
       "      <td>103</td>\n",
       "      <td>Dealer 1</td>\n",
       "      <td>2465.533932</td>\n",
       "      <td>33079.912055</td>\n",
       "    </tr>\n",
       "    <tr>\n",
       "      <th>4</th>\n",
       "      <td>103</td>\n",
       "      <td>Dealer 1</td>\n",
       "      <td>CA</td>\n",
       "      <td>San Francisco-Oakland-Hayward CA</td>\n",
       "      <td>Alternative</td>\n",
       "      <td>US OE Long/Short Equity</td>\n",
       "      <td>0.000</td>\n",
       "      <td>0.000</td>\n",
       "      <td>103</td>\n",
       "      <td>Dealer 1</td>\n",
       "      <td>2465.533932</td>\n",
       "      <td>33079.912055</td>\n",
       "    </tr>\n",
       "    <tr>\n",
       "      <th>...</th>\n",
       "      <td>...</td>\n",
       "      <td>...</td>\n",
       "      <td>...</td>\n",
       "      <td>...</td>\n",
       "      <td>...</td>\n",
       "      <td>...</td>\n",
       "      <td>...</td>\n",
       "      <td>...</td>\n",
       "      <td>...</td>\n",
       "      <td>...</td>\n",
       "      <td>...</td>\n",
       "      <td>...</td>\n",
       "    </tr>\n",
       "    <tr>\n",
       "      <th>150104</th>\n",
       "      <td>1536</td>\n",
       "      <td>Dealer 9</td>\n",
       "      <td>CT</td>\n",
       "      <td>New Haven-Milford CT</td>\n",
       "      <td>Tax Preferred</td>\n",
       "      <td>US OE High Yield Muni</td>\n",
       "      <td>0.000</td>\n",
       "      <td>2498.925</td>\n",
       "      <td>1536</td>\n",
       "      <td>Dealer 9</td>\n",
       "      <td>895.004260</td>\n",
       "      <td>13745.141923</td>\n",
       "    </tr>\n",
       "    <tr>\n",
       "      <th>150105</th>\n",
       "      <td>1536</td>\n",
       "      <td>Dealer 9</td>\n",
       "      <td>CT</td>\n",
       "      <td>New Haven-Milford CT</td>\n",
       "      <td>Tax Preferred</td>\n",
       "      <td>US OE Muni National Interm</td>\n",
       "      <td>0.000</td>\n",
       "      <td>57498.925</td>\n",
       "      <td>1536</td>\n",
       "      <td>Dealer 9</td>\n",
       "      <td>895.004260</td>\n",
       "      <td>13745.141923</td>\n",
       "    </tr>\n",
       "    <tr>\n",
       "      <th>150106</th>\n",
       "      <td>1536</td>\n",
       "      <td>Dealer 9</td>\n",
       "      <td>CT</td>\n",
       "      <td>New Haven-Milford CT</td>\n",
       "      <td>Tax Preferred</td>\n",
       "      <td>US OE Muni National Short</td>\n",
       "      <td>0.000</td>\n",
       "      <td>21281.810</td>\n",
       "      <td>1536</td>\n",
       "      <td>Dealer 9</td>\n",
       "      <td>895.004260</td>\n",
       "      <td>13745.141923</td>\n",
       "    </tr>\n",
       "    <tr>\n",
       "      <th>150107</th>\n",
       "      <td>1536</td>\n",
       "      <td>Dealer 9</td>\n",
       "      <td>CT</td>\n",
       "      <td>New Haven-Milford CT</td>\n",
       "      <td>Tax Preferred</td>\n",
       "      <td>US OE Muni New York Long</td>\n",
       "      <td>0.000</td>\n",
       "      <td>0.000</td>\n",
       "      <td>1536</td>\n",
       "      <td>Dealer 9</td>\n",
       "      <td>895.004260</td>\n",
       "      <td>13745.141923</td>\n",
       "    </tr>\n",
       "    <tr>\n",
       "      <th>150108</th>\n",
       "      <td>1536</td>\n",
       "      <td>Dealer 9</td>\n",
       "      <td>CT</td>\n",
       "      <td>New Haven-Milford CT</td>\n",
       "      <td>Tax Preferred</td>\n",
       "      <td>US OE Muni Single State Long</td>\n",
       "      <td>0.000</td>\n",
       "      <td>0.000</td>\n",
       "      <td>1536</td>\n",
       "      <td>Dealer 9</td>\n",
       "      <td>895.004260</td>\n",
       "      <td>13745.141923</td>\n",
       "    </tr>\n",
       "  </tbody>\n",
       "</table>\n",
       "<p>150109 rows × 12 columns</p>\n",
       "</div>"
      ],
      "text/plain": [
       "          0         1   2                                 3              4   \\\n",
       "0        103  Dealer 1  CA  San Francisco-Oakland-Hayward CA     Allocation   \n",
       "1        103  Dealer 1  CA  San Francisco-Oakland-Hayward CA     Allocation   \n",
       "2        103  Dealer 1  CA  San Francisco-Oakland-Hayward CA     Allocation   \n",
       "3        103  Dealer 1  CA  San Francisco-Oakland-Hayward CA     Allocation   \n",
       "4        103  Dealer 1  CA  San Francisco-Oakland-Hayward CA    Alternative   \n",
       "...      ...       ...  ..                               ...            ...   \n",
       "150104  1536  Dealer 9  CT              New Haven-Milford CT  Tax Preferred   \n",
       "150105  1536  Dealer 9  CT              New Haven-Milford CT  Tax Preferred   \n",
       "150106  1536  Dealer 9  CT              New Haven-Milford CT  Tax Preferred   \n",
       "150107  1536  Dealer 9  CT              New Haven-Milford CT  Tax Preferred   \n",
       "150108  1536  Dealer 9  CT              New Haven-Milford CT  Tax Preferred   \n",
       "\n",
       "                                   5         6          7     8         9   \\\n",
       "0         US OE Aggressive Allocation   287.496   1737.480   103  Dealer 1   \n",
       "1       US OE Conservative Allocation     0.000  75075.000   103  Dealer 1   \n",
       "2           US OE Moderate Allocation  2000.358  11901.790   103  Dealer 1   \n",
       "3              US OE World Allocation  7506.232  38736.160   103  Dealer 1   \n",
       "4             US OE Long/Short Equity     0.000      0.000   103  Dealer 1   \n",
       "...                               ...       ...        ...   ...       ...   \n",
       "150104          US OE High Yield Muni     0.000   2498.925  1536  Dealer 9   \n",
       "150105     US OE Muni National Interm     0.000  57498.925  1536  Dealer 9   \n",
       "150106      US OE Muni National Short     0.000  21281.810  1536  Dealer 9   \n",
       "150107       US OE Muni New York Long     0.000      0.000  1536  Dealer 9   \n",
       "150108   US OE Muni Single State Long     0.000      0.000  1536  Dealer 9   \n",
       "\n",
       "                 10            11  \n",
       "0       2465.533932  33079.912055  \n",
       "1       2465.533932  33079.912055  \n",
       "2       2465.533932  33079.912055  \n",
       "3       2465.533932  33079.912055  \n",
       "4       2465.533932  33079.912055  \n",
       "...             ...           ...  \n",
       "150104   895.004260  13745.141923  \n",
       "150105   895.004260  13745.141923  \n",
       "150106   895.004260  13745.141923  \n",
       "150107   895.004260  13745.141923  \n",
       "150108   895.004260  13745.141923  \n",
       "\n",
       "[150109 rows x 12 columns]"
      ]
     },
     "execution_count": 28,
     "metadata": {},
     "output_type": "execute_result"
    }
   ],
   "source": [
    "c.execute(\"\"\"SELECT * FROM funds_merged_home_test\"\"\")\n",
    "names = [description[0] for description in c.description]\n",
    "print names\n",
    "data = c.fetchall()\n",
    "pd.DataFrame(data)"
   ]
  },
  {
   "cell_type": "code",
   "execution_count": 29,
   "metadata": {
    "collapsed": false
   },
   "outputs": [
    {
     "data": {
      "text/plain": [
       "<sqlite3.Cursor at 0x109e43c70>"
      ]
     },
     "execution_count": 29,
     "metadata": {},
     "output_type": "execute_result"
    }
   ],
   "source": [
    "c.execute(\"\"\"UPDATE funds_merged_home_test\n",
    "             SET HomeMade_RTL_SALES = avg_homesales\n",
    "             WHERE HomeMade_RTL_SALES == '0.000' \n",
    "             \"\"\")"
   ]
  },
  {
   "cell_type": "code",
   "execution_count": 30,
   "metadata": {
    "collapsed": false
   },
   "outputs": [
    {
     "name": "stdout",
     "output_type": "stream",
     "text": [
      "['Code', 'Dealer', 'HomeMade_RTL_SALES', 'avg_homesales', 'Global_MF_SALES', 'avg_globalsales']\n"
     ]
    },
    {
     "data": {
      "text/html": [
       "<div>\n",
       "<table border=\"1\" class=\"dataframe\">\n",
       "  <thead>\n",
       "    <tr style=\"text-align: right;\">\n",
       "      <th></th>\n",
       "      <th>Code</th>\n",
       "      <th>Dealer</th>\n",
       "      <th>HomeMade_RTL_SALES</th>\n",
       "      <th>avg_homesales</th>\n",
       "      <th>Global_MF_SALES</th>\n",
       "      <th>avg_globalsales</th>\n",
       "    </tr>\n",
       "  </thead>\n",
       "  <tbody>\n",
       "    <tr>\n",
       "      <th>0</th>\n",
       "      <td>103</td>\n",
       "      <td>Dealer 1</td>\n",
       "      <td>287.496000</td>\n",
       "      <td>2465.533932</td>\n",
       "      <td>1737.480</td>\n",
       "      <td>33079.912055</td>\n",
       "    </tr>\n",
       "    <tr>\n",
       "      <th>1</th>\n",
       "      <td>103</td>\n",
       "      <td>Dealer 1</td>\n",
       "      <td>2465.533932</td>\n",
       "      <td>2465.533932</td>\n",
       "      <td>75075.000</td>\n",
       "      <td>33079.912055</td>\n",
       "    </tr>\n",
       "    <tr>\n",
       "      <th>2</th>\n",
       "      <td>103</td>\n",
       "      <td>Dealer 1</td>\n",
       "      <td>2000.358000</td>\n",
       "      <td>2465.533932</td>\n",
       "      <td>11901.790</td>\n",
       "      <td>33079.912055</td>\n",
       "    </tr>\n",
       "    <tr>\n",
       "      <th>3</th>\n",
       "      <td>103</td>\n",
       "      <td>Dealer 1</td>\n",
       "      <td>7506.232000</td>\n",
       "      <td>2465.533932</td>\n",
       "      <td>38736.160</td>\n",
       "      <td>33079.912055</td>\n",
       "    </tr>\n",
       "    <tr>\n",
       "      <th>4</th>\n",
       "      <td>103</td>\n",
       "      <td>Dealer 1</td>\n",
       "      <td>2465.533932</td>\n",
       "      <td>2465.533932</td>\n",
       "      <td>0.000</td>\n",
       "      <td>33079.912055</td>\n",
       "    </tr>\n",
       "    <tr>\n",
       "      <th>...</th>\n",
       "      <td>...</td>\n",
       "      <td>...</td>\n",
       "      <td>...</td>\n",
       "      <td>...</td>\n",
       "      <td>...</td>\n",
       "      <td>...</td>\n",
       "    </tr>\n",
       "    <tr>\n",
       "      <th>150104</th>\n",
       "      <td>1536</td>\n",
       "      <td>Dealer 9</td>\n",
       "      <td>895.004260</td>\n",
       "      <td>895.004260</td>\n",
       "      <td>2498.925</td>\n",
       "      <td>13745.141923</td>\n",
       "    </tr>\n",
       "    <tr>\n",
       "      <th>150105</th>\n",
       "      <td>1536</td>\n",
       "      <td>Dealer 9</td>\n",
       "      <td>895.004260</td>\n",
       "      <td>895.004260</td>\n",
       "      <td>57498.925</td>\n",
       "      <td>13745.141923</td>\n",
       "    </tr>\n",
       "    <tr>\n",
       "      <th>150106</th>\n",
       "      <td>1536</td>\n",
       "      <td>Dealer 9</td>\n",
       "      <td>895.004260</td>\n",
       "      <td>895.004260</td>\n",
       "      <td>21281.810</td>\n",
       "      <td>13745.141923</td>\n",
       "    </tr>\n",
       "    <tr>\n",
       "      <th>150107</th>\n",
       "      <td>1536</td>\n",
       "      <td>Dealer 9</td>\n",
       "      <td>895.004260</td>\n",
       "      <td>895.004260</td>\n",
       "      <td>0.000</td>\n",
       "      <td>13745.141923</td>\n",
       "    </tr>\n",
       "    <tr>\n",
       "      <th>150108</th>\n",
       "      <td>1536</td>\n",
       "      <td>Dealer 9</td>\n",
       "      <td>895.004260</td>\n",
       "      <td>895.004260</td>\n",
       "      <td>0.000</td>\n",
       "      <td>13745.141923</td>\n",
       "    </tr>\n",
       "  </tbody>\n",
       "</table>\n",
       "<p>150109 rows × 6 columns</p>\n",
       "</div>"
      ],
      "text/plain": [
       "        Code    Dealer  HomeMade_RTL_SALES  avg_homesales  Global_MF_SALES  \\\n",
       "0        103  Dealer 1          287.496000    2465.533932         1737.480   \n",
       "1        103  Dealer 1         2465.533932    2465.533932        75075.000   \n",
       "2        103  Dealer 1         2000.358000    2465.533932        11901.790   \n",
       "3        103  Dealer 1         7506.232000    2465.533932        38736.160   \n",
       "4        103  Dealer 1         2465.533932    2465.533932            0.000   \n",
       "...      ...       ...                 ...            ...              ...   \n",
       "150104  1536  Dealer 9          895.004260     895.004260         2498.925   \n",
       "150105  1536  Dealer 9          895.004260     895.004260        57498.925   \n",
       "150106  1536  Dealer 9          895.004260     895.004260        21281.810   \n",
       "150107  1536  Dealer 9          895.004260     895.004260            0.000   \n",
       "150108  1536  Dealer 9          895.004260     895.004260            0.000   \n",
       "\n",
       "        avg_globalsales  \n",
       "0          33079.912055  \n",
       "1          33079.912055  \n",
       "2          33079.912055  \n",
       "3          33079.912055  \n",
       "4          33079.912055  \n",
       "...                 ...  \n",
       "150104     13745.141923  \n",
       "150105     13745.141923  \n",
       "150106     13745.141923  \n",
       "150107     13745.141923  \n",
       "150108     13745.141923  \n",
       "\n",
       "[150109 rows x 6 columns]"
      ]
     },
     "execution_count": 30,
     "metadata": {},
     "output_type": "execute_result"
    }
   ],
   "source": [
    "# imputed average of unique 'code' and replaced 0 \"HomeMade_RTL_SALES\" cells with unique code's avg_homesales value.\n",
    "c.execute(\"\"\"SELECT Code, Dealer, HomeMade_RTL_SALES, avg_homesales, Global_MF_SALES, avg_globalsales\n",
    "             FROM funds_merged_home_test\"\"\")\n",
    "names = [description[0] for description in c.description]\n",
    "print names\n",
    "data = c.fetchall()\n",
    "funds_merged_home_df = pd.DataFrame(data, columns = ['Code', 'Dealer','HomeMade_RTL_SALES', 'avg_homesales', 'Global_MF_SALES', 'avg_globalsales'])\n",
    "funds_merged_home_df"
   ]
  },
  {
   "cell_type": "markdown",
   "metadata": {
    "collapsed": true
   },
   "source": [
    "# Global: Imputing missing values"
   ]
  },
  {
   "cell_type": "code",
   "execution_count": 31,
   "metadata": {
    "collapsed": false
   },
   "outputs": [
    {
     "data": {
      "text/plain": [
       "<sqlite3.Cursor at 0x109e43c70>"
      ]
     },
     "execution_count": 31,
     "metadata": {},
     "output_type": "execute_result"
    }
   ],
   "source": [
    "c.execute(\"\"\"DROP TABLE funds_merged_global\"\"\")"
   ]
  },
  {
   "cell_type": "code",
   "execution_count": 32,
   "metadata": {
    "collapsed": false
   },
   "outputs": [
    {
     "data": {
      "text/plain": [
       "<sqlite3.Cursor at 0x109e43c70>"
      ]
     },
     "execution_count": 32,
     "metadata": {},
     "output_type": "execute_result"
    }
   ],
   "source": [
    "c.execute(\"\"\"CREATE TABLE funds_merged_global AS\n",
    "            SELECT * FROM funds_data_duplicate AS fdd\n",
    "            LEFT JOIN avg_funds_data_test AS afd\n",
    "            ON fdd.Code = afd.Code\n",
    "            AND fdd.Dealer = afd.Dealer\n",
    "            \"\"\")"
   ]
  },
  {
   "cell_type": "code",
   "execution_count": 33,
   "metadata": {
    "collapsed": false
   },
   "outputs": [
    {
     "data": {
      "text/plain": [
       "<sqlite3.Cursor at 0x109e43c70>"
      ]
     },
     "execution_count": 33,
     "metadata": {},
     "output_type": "execute_result"
    }
   ],
   "source": [
    "c.execute(\"\"\"UPDATE funds_merged_global\n",
    "            SET Global_MF_SALES = avg_globalsales\n",
    "             WHERE Global_MF_SALES == '0.000'\n",
    "             \"\"\")"
   ]
  },
  {
   "cell_type": "code",
   "execution_count": 34,
   "metadata": {
    "collapsed": false
   },
   "outputs": [
    {
     "name": "stdout",
     "output_type": "stream",
     "text": [
      "['Code', 'Dealer', 'Global_MF_SALES', 'avg_globalsales', 'HomeMade_RTL_SALES', 'avg_homesales']\n"
     ]
    },
    {
     "data": {
      "text/html": [
       "<div>\n",
       "<table border=\"1\" class=\"dataframe\">\n",
       "  <thead>\n",
       "    <tr style=\"text-align: right;\">\n",
       "      <th></th>\n",
       "      <th>Code</th>\n",
       "      <th>Dealer</th>\n",
       "      <th>Global_MF_SALES</th>\n",
       "      <th>avg_globalsales</th>\n",
       "      <th>HomeMade_RTL_SALES</th>\n",
       "      <th>avg_homesales</th>\n",
       "    </tr>\n",
       "  </thead>\n",
       "  <tbody>\n",
       "    <tr>\n",
       "      <th>0</th>\n",
       "      <td>103</td>\n",
       "      <td>Dealer 1</td>\n",
       "      <td>1737.480000</td>\n",
       "      <td>33079.912055</td>\n",
       "      <td>287.496</td>\n",
       "      <td>2465.533932</td>\n",
       "    </tr>\n",
       "    <tr>\n",
       "      <th>1</th>\n",
       "      <td>103</td>\n",
       "      <td>Dealer 1</td>\n",
       "      <td>75075.000000</td>\n",
       "      <td>33079.912055</td>\n",
       "      <td>0.000</td>\n",
       "      <td>2465.533932</td>\n",
       "    </tr>\n",
       "    <tr>\n",
       "      <th>2</th>\n",
       "      <td>103</td>\n",
       "      <td>Dealer 1</td>\n",
       "      <td>11901.790000</td>\n",
       "      <td>33079.912055</td>\n",
       "      <td>2000.358</td>\n",
       "      <td>2465.533932</td>\n",
       "    </tr>\n",
       "    <tr>\n",
       "      <th>3</th>\n",
       "      <td>103</td>\n",
       "      <td>Dealer 1</td>\n",
       "      <td>38736.160000</td>\n",
       "      <td>33079.912055</td>\n",
       "      <td>7506.232</td>\n",
       "      <td>2465.533932</td>\n",
       "    </tr>\n",
       "    <tr>\n",
       "      <th>4</th>\n",
       "      <td>103</td>\n",
       "      <td>Dealer 1</td>\n",
       "      <td>33079.912055</td>\n",
       "      <td>33079.912055</td>\n",
       "      <td>0.000</td>\n",
       "      <td>2465.533932</td>\n",
       "    </tr>\n",
       "    <tr>\n",
       "      <th>...</th>\n",
       "      <td>...</td>\n",
       "      <td>...</td>\n",
       "      <td>...</td>\n",
       "      <td>...</td>\n",
       "      <td>...</td>\n",
       "      <td>...</td>\n",
       "    </tr>\n",
       "    <tr>\n",
       "      <th>150104</th>\n",
       "      <td>1536</td>\n",
       "      <td>Dealer 9</td>\n",
       "      <td>2498.925000</td>\n",
       "      <td>13745.141923</td>\n",
       "      <td>0.000</td>\n",
       "      <td>895.004260</td>\n",
       "    </tr>\n",
       "    <tr>\n",
       "      <th>150105</th>\n",
       "      <td>1536</td>\n",
       "      <td>Dealer 9</td>\n",
       "      <td>57498.925000</td>\n",
       "      <td>13745.141923</td>\n",
       "      <td>0.000</td>\n",
       "      <td>895.004260</td>\n",
       "    </tr>\n",
       "    <tr>\n",
       "      <th>150106</th>\n",
       "      <td>1536</td>\n",
       "      <td>Dealer 9</td>\n",
       "      <td>21281.810000</td>\n",
       "      <td>13745.141923</td>\n",
       "      <td>0.000</td>\n",
       "      <td>895.004260</td>\n",
       "    </tr>\n",
       "    <tr>\n",
       "      <th>150107</th>\n",
       "      <td>1536</td>\n",
       "      <td>Dealer 9</td>\n",
       "      <td>13745.141923</td>\n",
       "      <td>13745.141923</td>\n",
       "      <td>0.000</td>\n",
       "      <td>895.004260</td>\n",
       "    </tr>\n",
       "    <tr>\n",
       "      <th>150108</th>\n",
       "      <td>1536</td>\n",
       "      <td>Dealer 9</td>\n",
       "      <td>13745.141923</td>\n",
       "      <td>13745.141923</td>\n",
       "      <td>0.000</td>\n",
       "      <td>895.004260</td>\n",
       "    </tr>\n",
       "  </tbody>\n",
       "</table>\n",
       "<p>150109 rows × 6 columns</p>\n",
       "</div>"
      ],
      "text/plain": [
       "        Code    Dealer  Global_MF_SALES  avg_globalsales  HomeMade_RTL_SALES  \\\n",
       "0        103  Dealer 1      1737.480000     33079.912055             287.496   \n",
       "1        103  Dealer 1     75075.000000     33079.912055               0.000   \n",
       "2        103  Dealer 1     11901.790000     33079.912055            2000.358   \n",
       "3        103  Dealer 1     38736.160000     33079.912055            7506.232   \n",
       "4        103  Dealer 1     33079.912055     33079.912055               0.000   \n",
       "...      ...       ...              ...              ...                 ...   \n",
       "150104  1536  Dealer 9      2498.925000     13745.141923               0.000   \n",
       "150105  1536  Dealer 9     57498.925000     13745.141923               0.000   \n",
       "150106  1536  Dealer 9     21281.810000     13745.141923               0.000   \n",
       "150107  1536  Dealer 9     13745.141923     13745.141923               0.000   \n",
       "150108  1536  Dealer 9     13745.141923     13745.141923               0.000   \n",
       "\n",
       "        avg_homesales  \n",
       "0         2465.533932  \n",
       "1         2465.533932  \n",
       "2         2465.533932  \n",
       "3         2465.533932  \n",
       "4         2465.533932  \n",
       "...               ...  \n",
       "150104     895.004260  \n",
       "150105     895.004260  \n",
       "150106     895.004260  \n",
       "150107     895.004260  \n",
       "150108     895.004260  \n",
       "\n",
       "[150109 rows x 6 columns]"
      ]
     },
     "execution_count": 34,
     "metadata": {},
     "output_type": "execute_result"
    }
   ],
   "source": [
    "# imputed average of unique 'code' and replaced 0 \"Global_MF_SALES\" cells with unique code's avg_homesales value.\n",
    "c.execute(\"\"\"SELECT Code, Dealer, Global_MF_SALES, avg_globalsales,  HomeMade_RTL_SALES, avg_homesales \n",
    "             FROM funds_merged_global\"\"\")\n",
    "names = [description[0] for description in c.description]\n",
    "print names\n",
    "data = c.fetchall()\n",
    "funds_merged_global_df = pd.DataFrame(data, columns = ['Code', 'Dealer','Global_MF_SALES', 'avg_globalsales', 'HomeMade_RTL_SALES', 'avg_homesales'])\n",
    "funds_merged_global_df"
   ]
  },
  {
   "cell_type": "markdown",
   "metadata": {},
   "source": [
    "# Combining data into one excel for #2 question "
   ]
  },
  {
   "cell_type": "code",
   "execution_count": 35,
   "metadata": {
    "collapsed": false
   },
   "outputs": [
    {
     "name": "stdout",
     "output_type": "stream",
     "text": [
      "['Code', 'Dealer', 'Global_MF_SALES']\n"
     ]
    },
    {
     "data": {
      "text/html": [
       "<div>\n",
       "<table border=\"1\" class=\"dataframe\">\n",
       "  <thead>\n",
       "    <tr style=\"text-align: right;\">\n",
       "      <th></th>\n",
       "      <th>Code</th>\n",
       "      <th>Dealer</th>\n",
       "      <th>Global_MF_SALES</th>\n",
       "    </tr>\n",
       "  </thead>\n",
       "  <tbody>\n",
       "    <tr>\n",
       "      <th>0</th>\n",
       "      <td>103</td>\n",
       "      <td>Dealer 1</td>\n",
       "      <td>1737.480000</td>\n",
       "    </tr>\n",
       "    <tr>\n",
       "      <th>1</th>\n",
       "      <td>103</td>\n",
       "      <td>Dealer 1</td>\n",
       "      <td>75075.000000</td>\n",
       "    </tr>\n",
       "    <tr>\n",
       "      <th>2</th>\n",
       "      <td>103</td>\n",
       "      <td>Dealer 1</td>\n",
       "      <td>11901.790000</td>\n",
       "    </tr>\n",
       "    <tr>\n",
       "      <th>3</th>\n",
       "      <td>103</td>\n",
       "      <td>Dealer 1</td>\n",
       "      <td>38736.160000</td>\n",
       "    </tr>\n",
       "    <tr>\n",
       "      <th>4</th>\n",
       "      <td>103</td>\n",
       "      <td>Dealer 1</td>\n",
       "      <td>33079.912055</td>\n",
       "    </tr>\n",
       "    <tr>\n",
       "      <th>...</th>\n",
       "      <td>...</td>\n",
       "      <td>...</td>\n",
       "      <td>...</td>\n",
       "    </tr>\n",
       "    <tr>\n",
       "      <th>150104</th>\n",
       "      <td>1536</td>\n",
       "      <td>Dealer 9</td>\n",
       "      <td>2498.925000</td>\n",
       "    </tr>\n",
       "    <tr>\n",
       "      <th>150105</th>\n",
       "      <td>1536</td>\n",
       "      <td>Dealer 9</td>\n",
       "      <td>57498.925000</td>\n",
       "    </tr>\n",
       "    <tr>\n",
       "      <th>150106</th>\n",
       "      <td>1536</td>\n",
       "      <td>Dealer 9</td>\n",
       "      <td>21281.810000</td>\n",
       "    </tr>\n",
       "    <tr>\n",
       "      <th>150107</th>\n",
       "      <td>1536</td>\n",
       "      <td>Dealer 9</td>\n",
       "      <td>13745.141923</td>\n",
       "    </tr>\n",
       "    <tr>\n",
       "      <th>150108</th>\n",
       "      <td>1536</td>\n",
       "      <td>Dealer 9</td>\n",
       "      <td>13745.141923</td>\n",
       "    </tr>\n",
       "  </tbody>\n",
       "</table>\n",
       "<p>150109 rows × 3 columns</p>\n",
       "</div>"
      ],
      "text/plain": [
       "        Code    Dealer  Global_MF_SALES\n",
       "0        103  Dealer 1      1737.480000\n",
       "1        103  Dealer 1     75075.000000\n",
       "2        103  Dealer 1     11901.790000\n",
       "3        103  Dealer 1     38736.160000\n",
       "4        103  Dealer 1     33079.912055\n",
       "...      ...       ...              ...\n",
       "150104  1536  Dealer 9      2498.925000\n",
       "150105  1536  Dealer 9     57498.925000\n",
       "150106  1536  Dealer 9     21281.810000\n",
       "150107  1536  Dealer 9     13745.141923\n",
       "150108  1536  Dealer 9     13745.141923\n",
       "\n",
       "[150109 rows x 3 columns]"
      ]
     },
     "execution_count": 35,
     "metadata": {},
     "output_type": "execute_result"
    }
   ],
   "source": [
    "c.execute(\"\"\"SELECT Code, Dealer, Global_MF_SALES \n",
    "             FROM funds_merged_global\"\"\")\n",
    "names = [description[0] for description in c.description]\n",
    "print names\n",
    "data = c.fetchall()\n",
    "global_df = pd.DataFrame(data, columns = ['Code', 'Dealer','Global_MF_SALES'])\n",
    "global_df"
   ]
  },
  {
   "cell_type": "code",
   "execution_count": 97,
   "metadata": {
    "collapsed": false
   },
   "outputs": [],
   "source": [
    "from pandas import ExcelWriter\n",
    "writer_glob = ExcelWriter('log_global_data_update.xlsx')\n",
    "global_df.to_excel(writer_glob,'Sheet1')\n",
    "writer_glob.save()"
   ]
  },
  {
   "cell_type": "code",
   "execution_count": 36,
   "metadata": {
    "collapsed": false
   },
   "outputs": [
    {
     "name": "stdout",
     "output_type": "stream",
     "text": [
      "['Code', 'Dealer', 'HomeMade_RTL_SALES']\n"
     ]
    },
    {
     "data": {
      "text/html": [
       "<div>\n",
       "<table border=\"1\" class=\"dataframe\">\n",
       "  <thead>\n",
       "    <tr style=\"text-align: right;\">\n",
       "      <th></th>\n",
       "      <th>Code</th>\n",
       "      <th>Dealer</th>\n",
       "      <th>HomeMade_RTL_SALES</th>\n",
       "    </tr>\n",
       "  </thead>\n",
       "  <tbody>\n",
       "    <tr>\n",
       "      <th>0</th>\n",
       "      <td>103</td>\n",
       "      <td>Dealer 1</td>\n",
       "      <td>287.496000</td>\n",
       "    </tr>\n",
       "    <tr>\n",
       "      <th>1</th>\n",
       "      <td>103</td>\n",
       "      <td>Dealer 1</td>\n",
       "      <td>2465.533932</td>\n",
       "    </tr>\n",
       "    <tr>\n",
       "      <th>2</th>\n",
       "      <td>103</td>\n",
       "      <td>Dealer 1</td>\n",
       "      <td>2000.358000</td>\n",
       "    </tr>\n",
       "    <tr>\n",
       "      <th>3</th>\n",
       "      <td>103</td>\n",
       "      <td>Dealer 1</td>\n",
       "      <td>7506.232000</td>\n",
       "    </tr>\n",
       "    <tr>\n",
       "      <th>4</th>\n",
       "      <td>103</td>\n",
       "      <td>Dealer 1</td>\n",
       "      <td>2465.533932</td>\n",
       "    </tr>\n",
       "    <tr>\n",
       "      <th>...</th>\n",
       "      <td>...</td>\n",
       "      <td>...</td>\n",
       "      <td>...</td>\n",
       "    </tr>\n",
       "    <tr>\n",
       "      <th>150104</th>\n",
       "      <td>1536</td>\n",
       "      <td>Dealer 9</td>\n",
       "      <td>895.004260</td>\n",
       "    </tr>\n",
       "    <tr>\n",
       "      <th>150105</th>\n",
       "      <td>1536</td>\n",
       "      <td>Dealer 9</td>\n",
       "      <td>895.004260</td>\n",
       "    </tr>\n",
       "    <tr>\n",
       "      <th>150106</th>\n",
       "      <td>1536</td>\n",
       "      <td>Dealer 9</td>\n",
       "      <td>895.004260</td>\n",
       "    </tr>\n",
       "    <tr>\n",
       "      <th>150107</th>\n",
       "      <td>1536</td>\n",
       "      <td>Dealer 9</td>\n",
       "      <td>895.004260</td>\n",
       "    </tr>\n",
       "    <tr>\n",
       "      <th>150108</th>\n",
       "      <td>1536</td>\n",
       "      <td>Dealer 9</td>\n",
       "      <td>895.004260</td>\n",
       "    </tr>\n",
       "  </tbody>\n",
       "</table>\n",
       "<p>150109 rows × 3 columns</p>\n",
       "</div>"
      ],
      "text/plain": [
       "        Code    Dealer  HomeMade_RTL_SALES\n",
       "0        103  Dealer 1          287.496000\n",
       "1        103  Dealer 1         2465.533932\n",
       "2        103  Dealer 1         2000.358000\n",
       "3        103  Dealer 1         7506.232000\n",
       "4        103  Dealer 1         2465.533932\n",
       "...      ...       ...                 ...\n",
       "150104  1536  Dealer 9          895.004260\n",
       "150105  1536  Dealer 9          895.004260\n",
       "150106  1536  Dealer 9          895.004260\n",
       "150107  1536  Dealer 9          895.004260\n",
       "150108  1536  Dealer 9          895.004260\n",
       "\n",
       "[150109 rows x 3 columns]"
      ]
     },
     "execution_count": 36,
     "metadata": {},
     "output_type": "execute_result"
    }
   ],
   "source": [
    "c.execute(\"\"\"SELECT Code, Dealer, HomeMade_RTL_SALES\n",
    "             FROM funds_merged_home_test\"\"\")\n",
    "names = [description[0] for description in c.description]\n",
    "print names\n",
    "data = c.fetchall()\n",
    "home_df = pd.DataFrame(data, columns = ['Code', 'Dealer','HomeMade_RTL_SALES'])\n",
    "home_df"
   ]
  },
  {
   "cell_type": "code",
   "execution_count": 98,
   "metadata": {
    "collapsed": false
   },
   "outputs": [],
   "source": [
    "writer = ExcelWriter('log_home_data_update.xlsx')\n",
    "home_df.to_excel(writer,'Sheet1')\n",
    "writer.save()"
   ]
  },
  {
   "cell_type": "code",
   "execution_count": null,
   "metadata": {
    "collapsed": false
   },
   "outputs": [],
   "source": [
    "# Below command kept timing out. Manually combined log_home_data.xlsx, log_global_data.xlsx in a duplicate excel aka \"CG_case_study_updated\"\n",
    "#pd.concat(home_df,global_df)"
   ]
  },
  {
   "cell_type": "markdown",
   "metadata": {
    "collapsed": true
   },
   "source": [
    "# Observing data after replacing 0s with average value"
   ]
  },
  {
   "cell_type": "code",
   "execution_count": 37,
   "metadata": {
    "collapsed": false
   },
   "outputs": [
    {
     "data": {
      "text/html": [
       "<div>\n",
       "<table border=\"1\" class=\"dataframe\">\n",
       "  <thead>\n",
       "    <tr style=\"text-align: right;\">\n",
       "      <th></th>\n",
       "      <th>Code</th>\n",
       "      <th>HomeMade_RTL_SALES</th>\n",
       "      <th>avg_homesales</th>\n",
       "      <th>Global_MF_SALES</th>\n",
       "      <th>avg_globalsales</th>\n",
       "    </tr>\n",
       "  </thead>\n",
       "  <tbody>\n",
       "    <tr>\n",
       "      <th>count</th>\n",
       "      <td>150109.000000</td>\n",
       "      <td>1.501090e+05</td>\n",
       "      <td>150109.000000</td>\n",
       "      <td>1.501090e+05</td>\n",
       "      <td>1.501090e+05</td>\n",
       "    </tr>\n",
       "    <tr>\n",
       "      <th>mean</th>\n",
       "      <td>566.029325</td>\n",
       "      <td>4.536681e+03</td>\n",
       "      <td>2660.448962</td>\n",
       "      <td>1.005701e+05</td>\n",
       "      <td>1.005701e+05</td>\n",
       "    </tr>\n",
       "    <tr>\n",
       "      <th>std</th>\n",
       "      <td>607.395226</td>\n",
       "      <td>2.051601e+04</td>\n",
       "      <td>4081.284430</td>\n",
       "      <td>5.662257e+05</td>\n",
       "      <td>2.010648e+05</td>\n",
       "    </tr>\n",
       "    <tr>\n",
       "      <th>min</th>\n",
       "      <td>103.000000</td>\n",
       "      <td>-2.899280e+04</td>\n",
       "      <td>0.000000</td>\n",
       "      <td>-1.448390e+05</td>\n",
       "      <td>0.000000e+00</td>\n",
       "    </tr>\n",
       "    <tr>\n",
       "      <th>25%</th>\n",
       "      <td>141.000000</td>\n",
       "      <td>3.131462e+02</td>\n",
       "      <td>431.244493</td>\n",
       "      <td>4.677000e+01</td>\n",
       "      <td>2.180829e+04</td>\n",
       "    </tr>\n",
       "    <tr>\n",
       "      <th>50%</th>\n",
       "      <td>176.000000</td>\n",
       "      <td>1.193570e+03</td>\n",
       "      <td>1298.404080</td>\n",
       "      <td>3.914940e+03</td>\n",
       "      <td>5.253420e+04</td>\n",
       "    </tr>\n",
       "    <tr>\n",
       "      <th>75%</th>\n",
       "      <td>1222.000000</td>\n",
       "      <td>3.098600e+03</td>\n",
       "      <td>2979.594318</td>\n",
       "      <td>3.866679e+04</td>\n",
       "      <td>1.129728e+05</td>\n",
       "    </tr>\n",
       "    <tr>\n",
       "      <th>max</th>\n",
       "      <td>1661.000000</td>\n",
       "      <td>1.549892e+06</td>\n",
       "      <td>38001.557290</td>\n",
       "      <td>9.465031e+07</td>\n",
       "      <td>4.579651e+06</td>\n",
       "    </tr>\n",
       "  </tbody>\n",
       "</table>\n",
       "</div>"
      ],
      "text/plain": [
       "                Code  HomeMade_RTL_SALES  avg_homesales  Global_MF_SALES  \\\n",
       "count  150109.000000        1.501090e+05  150109.000000     1.501090e+05   \n",
       "mean      566.029325        4.536681e+03    2660.448962     1.005701e+05   \n",
       "std       607.395226        2.051601e+04    4081.284430     5.662257e+05   \n",
       "min       103.000000       -2.899280e+04       0.000000    -1.448390e+05   \n",
       "25%       141.000000        3.131462e+02     431.244493     4.677000e+01   \n",
       "50%       176.000000        1.193570e+03    1298.404080     3.914940e+03   \n",
       "75%      1222.000000        3.098600e+03    2979.594318     3.866679e+04   \n",
       "max      1661.000000        1.549892e+06   38001.557290     9.465031e+07   \n",
       "\n",
       "       avg_globalsales  \n",
       "count     1.501090e+05  \n",
       "mean      1.005701e+05  \n",
       "std       2.010648e+05  \n",
       "min       0.000000e+00  \n",
       "25%       2.180829e+04  \n",
       "50%       5.253420e+04  \n",
       "75%       1.129728e+05  \n",
       "max       4.579651e+06  "
      ]
     },
     "execution_count": 37,
     "metadata": {},
     "output_type": "execute_result"
    }
   ],
   "source": [
    "funds_merged_home_df.describe()"
   ]
  },
  {
   "cell_type": "code",
   "execution_count": 38,
   "metadata": {
    "collapsed": false
   },
   "outputs": [
    {
     "data": {
      "text/plain": [
       "Code                  2520\n",
       "Dealer                2520\n",
       "HomeMade_RTL_SALES    2520\n",
       "avg_homesales         2520\n",
       "Global_MF_SALES       2520\n",
       "avg_globalsales       2520\n",
       "dtype: int64"
      ]
     },
     "execution_count": 38,
     "metadata": {},
     "output_type": "execute_result"
    }
   ],
   "source": [
    "# missing data still exists, so will drop these rows as they are minimal amount compaired to \n",
    "# entire data set\n",
    "funds_merged_home_df[funds_merged_home_df.HomeMade_RTL_SALES == 0].count()"
   ]
  },
  {
   "cell_type": "code",
   "execution_count": 43,
   "metadata": {
    "collapsed": false
   },
   "outputs": [
    {
     "data": {
      "text/plain": [
       "Code                  147589\n",
       "Dealer                147589\n",
       "HomeMade_RTL_SALES    147589\n",
       "avg_homesales         147589\n",
       "Global_MF_SALES       147589\n",
       "avg_globalsales       147589\n",
       "dtype: int64"
      ]
     },
     "execution_count": 43,
     "metadata": {},
     "output_type": "execute_result"
    }
   ],
   "source": [
    "# droping rows w 0 in HomeMade_RTL_SALES\n",
    "# 150109 - 2520 = 147589 rows\n",
    "funds_merged_home_df = funds_merged_home_df[funds_merged_home_df['HomeMade_RTL_SALES'] != 0]\n",
    "funds_merged_home_df.count()"
   ]
  },
  {
   "cell_type": "code",
   "execution_count": 44,
   "metadata": {
    "collapsed": false
   },
   "outputs": [
    {
     "data": {
      "text/html": [
       "<div>\n",
       "<table border=\"1\" class=\"dataframe\">\n",
       "  <thead>\n",
       "    <tr style=\"text-align: right;\">\n",
       "      <th></th>\n",
       "      <th>Code</th>\n",
       "      <th>Global_MF_SALES</th>\n",
       "      <th>avg_globalsales</th>\n",
       "      <th>HomeMade_RTL_SALES</th>\n",
       "      <th>avg_homesales</th>\n",
       "    </tr>\n",
       "  </thead>\n",
       "  <tbody>\n",
       "    <tr>\n",
       "      <th>count</th>\n",
       "      <td>150109.000000</td>\n",
       "      <td>1.501090e+05</td>\n",
       "      <td>1.501090e+05</td>\n",
       "      <td>1.501090e+05</td>\n",
       "      <td>150109.000000</td>\n",
       "    </tr>\n",
       "    <tr>\n",
       "      <th>mean</th>\n",
       "      <td>566.029325</td>\n",
       "      <td>1.189397e+05</td>\n",
       "      <td>1.005701e+05</td>\n",
       "      <td>2.660449e+03</td>\n",
       "      <td>2660.448962</td>\n",
       "    </tr>\n",
       "    <tr>\n",
       "      <th>std</th>\n",
       "      <td>607.395226</td>\n",
       "      <td>5.676261e+05</td>\n",
       "      <td>2.010648e+05</td>\n",
       "      <td>2.045040e+04</td>\n",
       "      <td>4081.284430</td>\n",
       "    </tr>\n",
       "    <tr>\n",
       "      <th>min</th>\n",
       "      <td>103.000000</td>\n",
       "      <td>-1.448390e+05</td>\n",
       "      <td>0.000000e+00</td>\n",
       "      <td>-2.899280e+04</td>\n",
       "      <td>0.000000</td>\n",
       "    </tr>\n",
       "    <tr>\n",
       "      <th>25%</th>\n",
       "      <td>141.000000</td>\n",
       "      <td>2.871300e+03</td>\n",
       "      <td>2.180829e+04</td>\n",
       "      <td>0.000000e+00</td>\n",
       "      <td>431.244493</td>\n",
       "    </tr>\n",
       "    <tr>\n",
       "      <th>50%</th>\n",
       "      <td>176.000000</td>\n",
       "      <td>1.947231e+04</td>\n",
       "      <td>5.253420e+04</td>\n",
       "      <td>0.000000e+00</td>\n",
       "      <td>1298.404080</td>\n",
       "    </tr>\n",
       "    <tr>\n",
       "      <th>75%</th>\n",
       "      <td>1222.000000</td>\n",
       "      <td>7.606158e+04</td>\n",
       "      <td>1.129728e+05</td>\n",
       "      <td>0.000000e+00</td>\n",
       "      <td>2979.594318</td>\n",
       "    </tr>\n",
       "    <tr>\n",
       "      <th>max</th>\n",
       "      <td>1661.000000</td>\n",
       "      <td>9.465031e+07</td>\n",
       "      <td>4.579651e+06</td>\n",
       "      <td>1.549892e+06</td>\n",
       "      <td>38001.557290</td>\n",
       "    </tr>\n",
       "  </tbody>\n",
       "</table>\n",
       "</div>"
      ],
      "text/plain": [
       "                Code  Global_MF_SALES  avg_globalsales  HomeMade_RTL_SALES  \\\n",
       "count  150109.000000     1.501090e+05     1.501090e+05        1.501090e+05   \n",
       "mean      566.029325     1.189397e+05     1.005701e+05        2.660449e+03   \n",
       "std       607.395226     5.676261e+05     2.010648e+05        2.045040e+04   \n",
       "min       103.000000    -1.448390e+05     0.000000e+00       -2.899280e+04   \n",
       "25%       141.000000     2.871300e+03     2.180829e+04        0.000000e+00   \n",
       "50%       176.000000     1.947231e+04     5.253420e+04        0.000000e+00   \n",
       "75%      1222.000000     7.606158e+04     1.129728e+05        0.000000e+00   \n",
       "max      1661.000000     9.465031e+07     4.579651e+06        1.549892e+06   \n",
       "\n",
       "       avg_homesales  \n",
       "count  150109.000000  \n",
       "mean     2660.448962  \n",
       "std      4081.284430  \n",
       "min         0.000000  \n",
       "25%       431.244493  \n",
       "50%      1298.404080  \n",
       "75%      2979.594318  \n",
       "max     38001.557290  "
      ]
     },
     "execution_count": 44,
     "metadata": {},
     "output_type": "execute_result"
    }
   ],
   "source": [
    "funds_merged_global_df.describe()"
   ]
  },
  {
   "cell_type": "code",
   "execution_count": 45,
   "metadata": {
    "collapsed": false
   },
   "outputs": [
    {
     "data": {
      "text/plain": [
       "Code                  10\n",
       "Dealer                10\n",
       "Global_MF_SALES       10\n",
       "avg_globalsales       10\n",
       "HomeMade_RTL_SALES    10\n",
       "avg_homesales         10\n",
       "dtype: int64"
      ]
     },
     "execution_count": 45,
     "metadata": {},
     "output_type": "execute_result"
    }
   ],
   "source": [
    "# missing data still exists, so will drop these rows as they are minimal amount compaired to \n",
    "# entire data set\n",
    "funds_merged_global_df[funds_merged_global_df.Global_MF_SALES == 0].count()"
   ]
  },
  {
   "cell_type": "code",
   "execution_count": 46,
   "metadata": {
    "collapsed": false
   },
   "outputs": [
    {
     "data": {
      "text/plain": [
       "Code                  150099\n",
       "Dealer                150099\n",
       "Global_MF_SALES       150099\n",
       "avg_globalsales       150099\n",
       "HomeMade_RTL_SALES    150099\n",
       "avg_homesales         150099\n",
       "dtype: int64"
      ]
     },
     "execution_count": 46,
     "metadata": {},
     "output_type": "execute_result"
    }
   ],
   "source": [
    "# droping rows w 0 in Global_MF_SALES\n",
    "# 150109 - 10 = 150099 rows\n",
    "funds_merged_global_df = funds_merged_global_df[funds_merged_global_df['Global_MF_SALES'] != 0]\n",
    "funds_merged_global_df.count()"
   ]
  },
  {
   "cell_type": "code",
   "execution_count": 61,
   "metadata": {
    "collapsed": false
   },
   "outputs": [
    {
     "data": {
      "text/plain": [
       "<matplotlib.axes._subplots.AxesSubplot at 0x112dd9590>"
      ]
     },
     "execution_count": 61,
     "metadata": {},
     "output_type": "execute_result"
    },
    {
     "data": {
      "image/png": "[encoded data removed]",
      "text/plain": [
       "<matplotlib.figure.Figure at 0x112fda150>"
      ]
     },
     "metadata": {},
     "output_type": "display_data"
    }
   ],
   "source": [
    "# A lot of variation due to extreem values still exists ...\n",
    "sns.boxplot(pd.DataFrame(funds_merged_home_df['HomeMade_RTL_SALES']))"
   ]
  },
  {
   "cell_type": "code",
   "execution_count": 62,
   "metadata": {
    "collapsed": false
   },
   "outputs": [
    {
     "data": {
      "text/plain": [
       "<matplotlib.axes._subplots.AxesSubplot at 0x11334d7d0>"
      ]
     },
     "execution_count": 62,
     "metadata": {},
     "output_type": "execute_result"
    },
    {
     "data": {
      "image/png": "[encoded data removed]",
      "text/plain": [
       "<matplotlib.figure.Figure at 0x113783b10>"
      ]
     },
     "metadata": {},
     "output_type": "display_data"
    }
   ],
   "source": [
    "# A lot of variation due to extreem values still exists ...\n",
    "sns.boxplot(pd.DataFrame(funds_merged_global_df['Global_MF_SALES']))"
   ]
  },
  {
   "cell_type": "code",
   "execution_count": 50,
   "metadata": {
    "collapsed": false
   },
   "outputs": [
    {
     "data": {
      "text/plain": [
       "count    147569.000000\n",
       "mean          6.889316\n",
       "std           1.890080\n",
       "min          -5.298317\n",
       "25%           5.830705\n",
       "50%           7.129282\n",
       "75%           8.056297\n",
       "max          14.253696\n",
       "Name: HomeMade_RTL_SALES, dtype: float64"
      ]
     },
     "execution_count": 50,
     "metadata": {},
     "output_type": "execute_result"
    }
   ],
   "source": [
    "# Natural log of a value reduces the variation caused by extreme values.\n",
    "np.log(funds_merged_home_df['HomeMade_RTL_SALES']).describe()"
   ]
  },
  {
   "cell_type": "code",
   "execution_count": 51,
   "metadata": {
    "collapsed": false
   },
   "outputs": [
    {
     "data": {
      "text/plain": [
       "count    149995.000000\n",
       "mean          9.458374\n",
       "std           2.524992\n",
       "min          -5.298317\n",
       "25%           7.967929\n",
       "50%           9.879532\n",
       "75%          11.239298\n",
       "max          18.365700\n",
       "Name: Global_MF_SALES, dtype: float64"
      ]
     },
     "execution_count": 51,
     "metadata": {},
     "output_type": "execute_result"
    }
   ],
   "source": [
    "# Natural log of a value reduces the variation caused by extreme values.\n",
    "np.log(funds_merged_global_df['Global_MF_SALES']).describe()"
   ]
  },
  {
   "cell_type": "code",
   "execution_count": 52,
   "metadata": {
    "collapsed": false
   },
   "outputs": [
    {
     "data": {
      "text/plain": [
       "<matplotlib.axes._subplots.AxesSubplot at 0x11390e090>"
      ]
     },
     "execution_count": 52,
     "metadata": {},
     "output_type": "execute_result"
    },
    {
     "data": {
      "image/png": "[encoded data removed]",
      "text/plain": [
       "<matplotlib.figure.Figure at 0x1108d4ed0>"
      ]
     },
     "metadata": {},
     "output_type": "display_data"
    }
   ],
   "source": [
    "# hist. shows data is more normally distributed. Now can detect outliers.\n",
    "np.log(funds_merged_home_df['HomeMade_RTL_SALES']).plot(kind = \"hist\")"
   ]
  },
  {
   "cell_type": "code",
   "execution_count": 53,
   "metadata": {
    "collapsed": false
   },
   "outputs": [
    {
     "data": {
      "text/plain": [
       "<matplotlib.axes._subplots.AxesSubplot at 0x1143f4fd0>"
      ]
     },
     "execution_count": 53,
     "metadata": {},
     "output_type": "execute_result"
    },
    {
     "data": {
      "image/png": "[encoded data removed]",
      "text/plain": [
       "<matplotlib.figure.Figure at 0x110612ad0>"
      ]
     },
     "metadata": {},
     "output_type": "display_data"
    }
   ],
   "source": [
    "# hist. shows data is more normally distributed. Now can detect outliers.\n",
    "np.log(funds_merged_global_df['Global_MF_SALES']).plot(kind = \"hist\")"
   ]
  },
  {
   "cell_type": "code",
   "execution_count": 54,
   "metadata": {
    "collapsed": false
   },
   "outputs": [
    {
     "data": {
      "text/plain": [
       "<matplotlib.axes._subplots.AxesSubplot at 0x11331a990>"
      ]
     },
     "execution_count": 54,
     "metadata": {},
     "output_type": "execute_result"
    },
    {
     "data": {
      "image/png": "[encoded data removed]",
      "text/plain": [
       "<matplotlib.figure.Figure at 0x110d88d90>"
      ]
     },
     "metadata": {},
     "output_type": "display_data"
    }
   ],
   "source": [
    "# Determining an outlier to be any value, beyond the range of -1.5 x IQR to 1.5 x IQR\n",
    "import seaborn as sns \n",
    "sns.boxplot(pd.DataFrame(np.log(funds_merged_home_df['HomeMade_RTL_SALES'])), whis=1.5)"
   ]
  },
  {
   "cell_type": "code",
   "execution_count": 55,
   "metadata": {
    "collapsed": false
   },
   "outputs": [
    {
     "name": "stdout",
     "output_type": "stream",
     "text": [
      "HomeMade Sale Outliers:\n",
      "IQR = 2.225592\n",
      "outliers < 2.492317\n",
      "outliers > 11.394685\n"
     ]
    }
   ],
   "source": [
    "                                    # HomeMade Sale (log)\n",
    "\n",
    "Q3 = 8.056297\n",
    "Q1 = 5.830705\n",
    "# Interquartile Range: \n",
    "IQR = Q3 - Q1\n",
    "\n",
    "# outliers: \n",
    "below = Q1 - 1.5*(IQR) \n",
    "above = Q3 + 1.5*(IQR)\n",
    "\n",
    "print \"HomeMade Sale Outliers:\"\n",
    "print \"IQR =\", IQR\n",
    "print \"outliers <\", below\n",
    "print \"outliers >\", above "
   ]
  },
  {
   "cell_type": "code",
   "execution_count": 56,
   "metadata": {
    "collapsed": false
   },
   "outputs": [
    {
     "data": {
      "text/plain": [
       "<matplotlib.axes._subplots.AxesSubplot at 0x11230f890>"
      ]
     },
     "execution_count": 56,
     "metadata": {},
     "output_type": "execute_result"
    },
    {
     "data": {
      "image/png": "[encoded data removed]",
      "text/plain": [
       "<matplotlib.figure.Figure at 0x110d93c10>"
      ]
     },
     "metadata": {},
     "output_type": "display_data"
    }
   ],
   "source": [
    "# Determining an outlier to be any value, beyond the range of -1.5 x IQR to 1.5 x IQR\n",
    "sns.boxplot(pd.DataFrame(np.log(funds_merged_global_df['Global_MF_SALES'])), whis=1.5)"
   ]
  },
  {
   "cell_type": "code",
   "execution_count": 57,
   "metadata": {
    "collapsed": false
   },
   "outputs": [
    {
     "name": "stdout",
     "output_type": "stream",
     "text": [
      "Global Sale Outliers:\n",
      "IQR = 3.271369\n",
      "outliers < 3.0608755\n",
      "outliers > 16.1463515\n"
     ]
    }
   ],
   "source": [
    "                                    # Global Sale (log)\n",
    "\n",
    "Q3 = 11.239298\n",
    "Q1 = 7.967929\n",
    "# Interquartile Range: \n",
    "IQR = Q3 - Q1\n",
    "\n",
    "# outliers: \n",
    "below = Q1 - 1.5*(IQR) \n",
    "above = Q3 + 1.5*(IQR)\n",
    "\n",
    "print \"Global Sale Outliers:\"\n",
    "print \"IQR =\", IQR\n",
    "print \"outliers <\", below\n",
    "print \"outliers >\", above "
   ]
  },
  {
   "cell_type": "markdown",
   "metadata": {},
   "source": [
    "# Interpretation of Code"
   ]
  },
  {
   "cell_type": "code",
   "execution_count": 171,
   "metadata": {
    "collapsed": true
   },
   "outputs": [],
   "source": [
    "# Code is a unique identifier that represents a distinct Dealer + State/Metro combination."
   ]
  },
  {
   "cell_type": "markdown",
   "metadata": {},
   "source": [
    "# Relationship between Home and Global Sales"
   ]
  },
  {
   "cell_type": "code",
   "execution_count": 58,
   "metadata": {
    "collapsed": true
   },
   "outputs": [],
   "source": [
    "log_home = np.log(funds_merged_home_df['HomeMade_RTL_SALES'])\n",
    "log_global = np.log(funds_merged_global_df['Global_MF_SALES'])"
   ]
  },
  {
   "cell_type": "code",
   "execution_count": 59,
   "metadata": {
    "collapsed": false
   },
   "outputs": [
    {
     "data": {
      "text/html": [
       "<div>\n",
       "<table border=\"1\" class=\"dataframe\">\n",
       "  <thead>\n",
       "    <tr style=\"text-align: right;\">\n",
       "      <th></th>\n",
       "      <th>Global</th>\n",
       "      <th>HomeMade</th>\n",
       "    </tr>\n",
       "  </thead>\n",
       "  <tbody>\n",
       "    <tr>\n",
       "      <th>Global</th>\n",
       "      <td>1.000000</td>\n",
       "      <td>0.364852</td>\n",
       "    </tr>\n",
       "    <tr>\n",
       "      <th>HomeMade</th>\n",
       "      <td>0.364852</td>\n",
       "      <td>1.000000</td>\n",
       "    </tr>\n",
       "  </tbody>\n",
       "</table>\n",
       "</div>"
      ],
      "text/plain": [
       "            Global  HomeMade\n",
       "Global    1.000000  0.364852\n",
       "HomeMade  0.364852  1.000000"
      ]
     },
     "execution_count": 59,
     "metadata": {},
     "output_type": "execute_result"
    }
   ],
   "source": [
    "# a positive but low correlation ( person's r = 0.365) exists between global and home sales\n",
    "df1=pd.DataFrame( {'HomeMade':log_home, \n",
    "                   'Global':log_global})\n",
    "df1.corr(method='pearson')"
   ]
  },
  {
   "cell_type": "code",
   "execution_count": 178,
   "metadata": {
    "collapsed": false
   },
   "outputs": [],
   "source": [
    "#x, y = pd.Series(log_home, name=\"HomeMade Sale\"), pd.Series(log_global, name=\"global Sale\")\n",
    "#ax = sns.regplot(x=x, y=y, marker=\"+\")"
   ]
  },
  {
   "cell_type": "code",
   "execution_count": 179,
   "metadata": {
    "collapsed": false
   },
   "outputs": [],
   "source": [
    "#x, y = pd.Series(np.log(funds_merged_home_df['HomeMade_RTL_SALES']), name=\"HomeMade Sale\"), pd.Series(np.log(funds_merged_global_df['Global_MF_SALES']), name=\"global Sale\")\n",
    "#ax = sns.regplot(x=x, y=y, marker=\"+\")"
   ]
  }
 ],
 "metadata": {
  "kernelspec": {
   "display_name": "Python 2",
   "language": "python",
   "name": "python2"
  },
  "language_info": {
   "codemirror_mode": {
    "name": "ipython",
    "version": 2
   },
   "file_extension": ".py",
   "mimetype": "text/x-python",
   "name": "python",
   "nbconvert_exporter": "python",
   "pygments_lexer": "ipython2",
   "version": "2.7.12"
  }
 },
 "nbformat": 4,
 "nbformat_minor": 0
}
