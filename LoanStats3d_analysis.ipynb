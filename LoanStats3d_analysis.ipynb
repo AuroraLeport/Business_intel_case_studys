{
 "cells": [
  {
   "cell_type": "code",
   "execution_count": 1,
   "metadata": {
    "collapsed": false
   },
   "outputs": [
    {
     "data": {
      "text/plain": [
       "u'/Users/auroraleport/Documents/LePort_git/BI_case_study/Paysafe'"
      ]
     },
     "execution_count": 1,
     "metadata": {},
     "output_type": "execute_result"
    }
   ],
   "source": [
    "pwd"
   ]
  },
  {
   "cell_type": "code",
   "execution_count": 2,
   "metadata": {
    "collapsed": false
   },
   "outputs": [
    {
     "name": "stderr",
     "output_type": "stream",
     "text": [
      "//anaconda/lib/python2.7/site-packages/IPython/core/interactiveshell.py:2723: DtypeWarning: Columns (0,19,55) have mixed types. Specify dtype option on import or set low_memory=False.\n",
      "  interactivity=interactivity, compiler=compiler, result=result)\n"
     ]
    }
   ],
   "source": [
    "import pandas as pd\n",
    "loan_data = pd.read_csv('/Users/auroraleport/Documents/LePort_git/BI_case_study/LoanStats3d.csv')"
   ]
  },
  {
   "cell_type": "code",
   "execution_count": 3,
   "metadata": {
    "collapsed": false
   },
   "outputs": [],
   "source": [
    "#dateparse = lambda dates: pd.datetime.strptime(dates, '%b-%y')\n",
    "#import pandas as pd\n",
    "#test = pd.read_csv('/Users/auroraleport/Documents/LePort_git/Untitled Folder/LoanStats3d.csv', parse_dates='earliest_cr_line', index_col='earliest_cr_line',date_parser=dateparse)"
   ]
  },
  {
   "cell_type": "code",
   "execution_count": 4,
   "metadata": {
    "collapsed": false
   },
   "outputs": [
    {
     "name": "stdout",
     "output_type": "stream",
     "text": [
      "numb of columns in dataframe: 111\n"
     ]
    },
    {
     "data": {
      "text/plain": [
       "20"
      ]
     },
     "execution_count": 4,
     "metadata": {},
     "output_type": "execute_result"
    }
   ],
   "source": [
    "print \"numb of columns in dataframe:\", len(loan_data.columns)\n",
    "pd.options.display.max_columns"
   ]
  },
  {
   "cell_type": "code",
   "execution_count": 5,
   "metadata": {
    "collapsed": true
   },
   "outputs": [],
   "source": [
    "pd.set_option(\"display.max_columns\",111)"
   ]
  },
  {
   "cell_type": "markdown",
   "metadata": {},
   "source": [
    "# 1:\tReview the dataset and summarize your thoughts on any structural issues:\n",
    "a.\tIs there missing data? Is the missing data random or structured: Are some attributes missing more than others?\n",
    "b.\tAre any data values glaringly erroneous? \n",
    "\n",
    "\n",
    "ANSWER: \n",
    "\n",
    "a. Yes, you can clearly see there is missing data by looking at the discrepency between number of rows in entire dataframe (i.e. 421,097) and count of rows from certain columns (e.g. mths_since_last_delinq = 217,133). \n",
    "\n",
    "The missing data seems semi-structured: most of the missing data is from columns dealing with co-borrowers, number of trades or accounts opened in the past x months, months since recent circumstances involving delinquency.\n",
    "\n",
    "b. Glaringly erronious data : A lot of missing data. Some data types are objects when they should be floats."
   ]
  },
  {
   "cell_type": "code",
   "execution_count": 6,
   "metadata": {
    "collapsed": false
   },
   "outputs": [
    {
     "name": "stdout",
     "output_type": "stream",
     "text": [
      "numb rows in entire dataframe: 421097\n"
     ]
    }
   ],
   "source": [
    "print \"numb rows in entire dataframe:\", len(loan_data)"
   ]
  },
  {
   "cell_type": "code",
   "execution_count": 7,
   "metadata": {
    "collapsed": false
   },
   "outputs": [
    {
     "data": {
      "text/plain": [
       "id                                 object\n",
       "member_id                         float64\n",
       "loan_amnt                         float64\n",
       "funded_amnt                       float64\n",
       "funded_amnt_inv                   float64\n",
       "term                               object\n",
       "int_rate                           object\n",
       "installment                       float64\n",
       "grade                              object\n",
       "sub_grade                          object\n",
       "emp_title                          object\n",
       "emp_length                         object\n",
       "home_ownership                     object\n",
       "annual_inc                        float64\n",
       "verification_status                object\n",
       "issue_d                            object\n",
       "loan_status                        object\n",
       "pymnt_plan                         object\n",
       "url                                object\n",
       "desc                               object\n",
       "purpose                            object\n",
       "title                              object\n",
       "zip_code                           object\n",
       "addr_state                         object\n",
       "dti                               float64\n",
       "delinq_2yrs                       float64\n",
       "earliest_cr_line                   object\n",
       "inq_last_6mths                    float64\n",
       "mths_since_last_delinq            float64\n",
       "mths_since_last_record            float64\n",
       "                                   ...   \n",
       "mo_sin_old_rev_tl_op              float64\n",
       "mo_sin_rcnt_rev_tl_op             float64\n",
       "mo_sin_rcnt_tl                    float64\n",
       "mort_acc                          float64\n",
       "mths_since_recent_bc              float64\n",
       "mths_since_recent_bc_dlq          float64\n",
       "mths_since_recent_inq             float64\n",
       "mths_since_recent_revol_delinq    float64\n",
       "num_accts_ever_120_pd             float64\n",
       "num_actv_bc_tl                    float64\n",
       "num_actv_rev_tl                   float64\n",
       "num_bc_sats                       float64\n",
       "num_bc_tl                         float64\n",
       "num_il_tl                         float64\n",
       "num_op_rev_tl                     float64\n",
       "num_rev_accts                     float64\n",
       "num_rev_tl_bal_gt_0               float64\n",
       "num_sats                          float64\n",
       "num_tl_120dpd_2m                  float64\n",
       "num_tl_30dpd                      float64\n",
       "num_tl_90g_dpd_24m                float64\n",
       "num_tl_op_past_12m                float64\n",
       "pct_tl_nvr_dlq                    float64\n",
       "percent_bc_gt_75                  float64\n",
       "pub_rec_bankruptcies              float64\n",
       "tax_liens                         float64\n",
       "tot_hi_cred_lim                   float64\n",
       "total_bal_ex_mort                 float64\n",
       "total_bc_limit                    float64\n",
       "total_il_high_credit_limit        float64\n",
       "dtype: object"
      ]
     },
     "execution_count": 7,
     "metadata": {},
     "output_type": "execute_result"
    }
   ],
   "source": [
    "loan_data.describe()\n",
    "loan_data.dtypes"
   ]
  },
  {
   "cell_type": "code",
   "execution_count": 8,
   "metadata": {
    "collapsed": false
   },
   "outputs": [
    {
     "data": {
      "text/html": [
       "<div>\n",
       "<table border=\"1\" class=\"dataframe\">\n",
       "  <thead>\n",
       "    <tr style=\"text-align: right;\">\n",
       "      <th></th>\n",
       "      <th>id</th>\n",
       "      <th>member_id</th>\n",
       "      <th>loan_amnt</th>\n",
       "      <th>funded_amnt</th>\n",
       "      <th>funded_amnt_inv</th>\n",
       "      <th>term</th>\n",
       "      <th>int_rate</th>\n",
       "      <th>installment</th>\n",
       "      <th>grade</th>\n",
       "      <th>sub_grade</th>\n",
       "      <th>emp_title</th>\n",
       "      <th>emp_length</th>\n",
       "      <th>home_ownership</th>\n",
       "      <th>annual_inc</th>\n",
       "      <th>verification_status</th>\n",
       "      <th>issue_d</th>\n",
       "      <th>loan_status</th>\n",
       "      <th>pymnt_plan</th>\n",
       "      <th>url</th>\n",
       "      <th>desc</th>\n",
       "      <th>purpose</th>\n",
       "      <th>title</th>\n",
       "      <th>zip_code</th>\n",
       "      <th>addr_state</th>\n",
       "      <th>dti</th>\n",
       "      <th>delinq_2yrs</th>\n",
       "      <th>earliest_cr_line</th>\n",
       "      <th>inq_last_6mths</th>\n",
       "      <th>mths_since_last_delinq</th>\n",
       "      <th>mths_since_last_record</th>\n",
       "      <th>open_acc</th>\n",
       "      <th>pub_rec</th>\n",
       "      <th>revol_bal</th>\n",
       "      <th>revol_util</th>\n",
       "      <th>total_acc</th>\n",
       "      <th>initial_list_status</th>\n",
       "      <th>out_prncp</th>\n",
       "      <th>out_prncp_inv</th>\n",
       "      <th>total_pymnt</th>\n",
       "      <th>total_pymnt_inv</th>\n",
       "      <th>total_rec_prncp</th>\n",
       "      <th>total_rec_int</th>\n",
       "      <th>total_rec_late_fee</th>\n",
       "      <th>recoveries</th>\n",
       "      <th>collection_recovery_fee</th>\n",
       "      <th>last_pymnt_d</th>\n",
       "      <th>last_pymnt_amnt</th>\n",
       "      <th>next_pymnt_d</th>\n",
       "      <th>last_credit_pull_d</th>\n",
       "      <th>collections_12_mths_ex_med</th>\n",
       "      <th>mths_since_last_major_derog</th>\n",
       "      <th>policy_code</th>\n",
       "      <th>application_type</th>\n",
       "      <th>annual_inc_joint</th>\n",
       "      <th>dti_joint</th>\n",
       "      <th>verification_status_joint</th>\n",
       "      <th>acc_now_delinq</th>\n",
       "      <th>tot_coll_amt</th>\n",
       "      <th>tot_cur_bal</th>\n",
       "      <th>open_acc_6m</th>\n",
       "      <th>open_il_6m</th>\n",
       "      <th>open_il_12m</th>\n",
       "      <th>open_il_24m</th>\n",
       "      <th>mths_since_rcnt_il</th>\n",
       "      <th>total_bal_il</th>\n",
       "      <th>il_util</th>\n",
       "      <th>open_rv_12m</th>\n",
       "      <th>open_rv_24m</th>\n",
       "      <th>max_bal_bc</th>\n",
       "      <th>all_util</th>\n",
       "      <th>total_rev_hi_lim</th>\n",
       "      <th>inq_fi</th>\n",
       "      <th>total_cu_tl</th>\n",
       "      <th>inq_last_12m</th>\n",
       "      <th>acc_open_past_24mths</th>\n",
       "      <th>avg_cur_bal</th>\n",
       "      <th>bc_open_to_buy</th>\n",
       "      <th>bc_util</th>\n",
       "      <th>chargeoff_within_12_mths</th>\n",
       "      <th>delinq_amnt</th>\n",
       "      <th>mo_sin_old_il_acct</th>\n",
       "      <th>mo_sin_old_rev_tl_op</th>\n",
       "      <th>mo_sin_rcnt_rev_tl_op</th>\n",
       "      <th>mo_sin_rcnt_tl</th>\n",
       "      <th>mort_acc</th>\n",
       "      <th>mths_since_recent_bc</th>\n",
       "      <th>mths_since_recent_bc_dlq</th>\n",
       "      <th>mths_since_recent_inq</th>\n",
       "      <th>mths_since_recent_revol_delinq</th>\n",
       "      <th>num_accts_ever_120_pd</th>\n",
       "      <th>num_actv_bc_tl</th>\n",
       "      <th>num_actv_rev_tl</th>\n",
       "      <th>num_bc_sats</th>\n",
       "      <th>num_bc_tl</th>\n",
       "      <th>num_il_tl</th>\n",
       "      <th>num_op_rev_tl</th>\n",
       "      <th>num_rev_accts</th>\n",
       "      <th>num_rev_tl_bal_gt_0</th>\n",
       "      <th>num_sats</th>\n",
       "      <th>num_tl_120dpd_2m</th>\n",
       "      <th>num_tl_30dpd</th>\n",
       "      <th>num_tl_90g_dpd_24m</th>\n",
       "      <th>num_tl_op_past_12m</th>\n",
       "      <th>pct_tl_nvr_dlq</th>\n",
       "      <th>percent_bc_gt_75</th>\n",
       "      <th>pub_rec_bankruptcies</th>\n",
       "      <th>tax_liens</th>\n",
       "      <th>tot_hi_cred_lim</th>\n",
       "      <th>total_bal_ex_mort</th>\n",
       "      <th>total_bc_limit</th>\n",
       "      <th>total_il_high_credit_limit</th>\n",
       "    </tr>\n",
       "  </thead>\n",
       "  <tbody>\n",
       "    <tr>\n",
       "      <th>0</th>\n",
       "      <td>68446746</td>\n",
       "      <td>73336569.0</td>\n",
       "      <td>12000.0</td>\n",
       "      <td>12000.0</td>\n",
       "      <td>12000.0</td>\n",
       "      <td>36 months</td>\n",
       "      <td>5.32%</td>\n",
       "      <td>361.38</td>\n",
       "      <td>A</td>\n",
       "      <td>A1</td>\n",
       "      <td>Network Operation Engineer</td>\n",
       "      <td>4 years</td>\n",
       "      <td>MORTGAGE</td>\n",
       "      <td>53750.0</td>\n",
       "      <td>Source Verified</td>\n",
       "      <td>Dec-15</td>\n",
       "      <td>Current</td>\n",
       "      <td>n</td>\n",
       "      <td>https://lendingclub.com/browse/loanDetail.acti...</td>\n",
       "      <td>NaN</td>\n",
       "      <td>debt_consolidation</td>\n",
       "      <td>Debt consolidation</td>\n",
       "      <td>850xx</td>\n",
       "      <td>AZ</td>\n",
       "      <td>15.30</td>\n",
       "      <td>1.0</td>\n",
       "      <td>Sep-07</td>\n",
       "      <td>0.0</td>\n",
       "      <td>19.0</td>\n",
       "      <td>NaN</td>\n",
       "      <td>8.0</td>\n",
       "      <td>0.0</td>\n",
       "      <td>3172.0</td>\n",
       "      <td>17.20%</td>\n",
       "      <td>19.0</td>\n",
       "      <td>w</td>\n",
       "      <td>9176.68</td>\n",
       "      <td>9176.68</td>\n",
       "      <td>3243.55</td>\n",
       "      <td>3243.55</td>\n",
       "      <td>2823.32</td>\n",
       "      <td>420.23</td>\n",
       "      <td>0.0</td>\n",
       "      <td>0.0</td>\n",
       "      <td>0.0</td>\n",
       "      <td>Oct-16</td>\n",
       "      <td>361.38</td>\n",
       "      <td>Oct-16</td>\n",
       "      <td>Oct-16</td>\n",
       "      <td>0.0</td>\n",
       "      <td>NaN</td>\n",
       "      <td>1.0</td>\n",
       "      <td>INDIVIDUAL</td>\n",
       "      <td>NaN</td>\n",
       "      <td>NaN</td>\n",
       "      <td>NaN</td>\n",
       "      <td>0.0</td>\n",
       "      <td>0.0</td>\n",
       "      <td>142615.0</td>\n",
       "      <td>0.0</td>\n",
       "      <td>1.0</td>\n",
       "      <td>0.0</td>\n",
       "      <td>2.0</td>\n",
       "      <td>17.0</td>\n",
       "      <td>6468.0</td>\n",
       "      <td>22.3</td>\n",
       "      <td>0.0</td>\n",
       "      <td>0.0</td>\n",
       "      <td>0.0</td>\n",
       "      <td>22.2</td>\n",
       "      <td>18400.0</td>\n",
       "      <td>2.0</td>\n",
       "      <td>6.0</td>\n",
       "      <td>1.0</td>\n",
       "      <td>3.0</td>\n",
       "      <td>17827.0</td>\n",
       "      <td>8500.0</td>\n",
       "      <td>0.0</td>\n",
       "      <td>0.0</td>\n",
       "      <td>0.0</td>\n",
       "      <td>99.0</td>\n",
       "      <td>60.0</td>\n",
       "      <td>35.0</td>\n",
       "      <td>9.0</td>\n",
       "      <td>2.0</td>\n",
       "      <td>37.0</td>\n",
       "      <td>19.0</td>\n",
       "      <td>11.0</td>\n",
       "      <td>19.0</td>\n",
       "      <td>0.0</td>\n",
       "      <td>0.0</td>\n",
       "      <td>3.0</td>\n",
       "      <td>2.0</td>\n",
       "      <td>3.0</td>\n",
       "      <td>10.0</td>\n",
       "      <td>5.0</td>\n",
       "      <td>6.0</td>\n",
       "      <td>3.0</td>\n",
       "      <td>8.0</td>\n",
       "      <td>0.0</td>\n",
       "      <td>0.0</td>\n",
       "      <td>0.0</td>\n",
       "      <td>1.0</td>\n",
       "      <td>94.7</td>\n",
       "      <td>0.0</td>\n",
       "      <td>0.0</td>\n",
       "      <td>0.0</td>\n",
       "      <td>183062.0</td>\n",
       "      <td>11146.0</td>\n",
       "      <td>8500.0</td>\n",
       "      <td>29053.0</td>\n",
       "    </tr>\n",
       "    <tr>\n",
       "      <th>1</th>\n",
       "      <td>68338832</td>\n",
       "      <td>73542831.0</td>\n",
       "      <td>1400.0</td>\n",
       "      <td>1400.0</td>\n",
       "      <td>1400.0</td>\n",
       "      <td>36 months</td>\n",
       "      <td>12.88%</td>\n",
       "      <td>47.10</td>\n",
       "      <td>C</td>\n",
       "      <td>C2</td>\n",
       "      <td>Logistics Manager</td>\n",
       "      <td>3 years</td>\n",
       "      <td>MORTGAGE</td>\n",
       "      <td>64000.0</td>\n",
       "      <td>Not Verified</td>\n",
       "      <td>Dec-15</td>\n",
       "      <td>Current</td>\n",
       "      <td>n</td>\n",
       "      <td>https://lendingclub.com/browse/loanDetail.acti...</td>\n",
       "      <td>NaN</td>\n",
       "      <td>other</td>\n",
       "      <td>NaN</td>\n",
       "      <td>275xx</td>\n",
       "      <td>NC</td>\n",
       "      <td>34.95</td>\n",
       "      <td>0.0</td>\n",
       "      <td>Jun-96</td>\n",
       "      <td>0.0</td>\n",
       "      <td>NaN</td>\n",
       "      <td>NaN</td>\n",
       "      <td>17.0</td>\n",
       "      <td>0.0</td>\n",
       "      <td>37828.0</td>\n",
       "      <td>67.20%</td>\n",
       "      <td>24.0</td>\n",
       "      <td>w</td>\n",
       "      <td>1098.63</td>\n",
       "      <td>1098.63</td>\n",
       "      <td>421.40</td>\n",
       "      <td>421.40</td>\n",
       "      <td>301.37</td>\n",
       "      <td>120.03</td>\n",
       "      <td>0.0</td>\n",
       "      <td>0.0</td>\n",
       "      <td>0.0</td>\n",
       "      <td>Oct-16</td>\n",
       "      <td>47.10</td>\n",
       "      <td>Oct-16</td>\n",
       "      <td>Oct-16</td>\n",
       "      <td>0.0</td>\n",
       "      <td>NaN</td>\n",
       "      <td>1.0</td>\n",
       "      <td>INDIVIDUAL</td>\n",
       "      <td>NaN</td>\n",
       "      <td>NaN</td>\n",
       "      <td>NaN</td>\n",
       "      <td>0.0</td>\n",
       "      <td>0.0</td>\n",
       "      <td>325695.0</td>\n",
       "      <td>1.0</td>\n",
       "      <td>3.0</td>\n",
       "      <td>1.0</td>\n",
       "      <td>2.0</td>\n",
       "      <td>2.0</td>\n",
       "      <td>37430.0</td>\n",
       "      <td>67.4</td>\n",
       "      <td>0.0</td>\n",
       "      <td>2.0</td>\n",
       "      <td>7386.0</td>\n",
       "      <td>67.3</td>\n",
       "      <td>56300.0</td>\n",
       "      <td>0.0</td>\n",
       "      <td>2.0</td>\n",
       "      <td>0.0</td>\n",
       "      <td>4.0</td>\n",
       "      <td>19159.0</td>\n",
       "      <td>7940.0</td>\n",
       "      <td>77.0</td>\n",
       "      <td>0.0</td>\n",
       "      <td>0.0</td>\n",
       "      <td>46.0</td>\n",
       "      <td>234.0</td>\n",
       "      <td>18.0</td>\n",
       "      <td>2.0</td>\n",
       "      <td>4.0</td>\n",
       "      <td>28.0</td>\n",
       "      <td>NaN</td>\n",
       "      <td>18.0</td>\n",
       "      <td>NaN</td>\n",
       "      <td>0.0</td>\n",
       "      <td>7.0</td>\n",
       "      <td>11.0</td>\n",
       "      <td>8.0</td>\n",
       "      <td>11.0</td>\n",
       "      <td>3.0</td>\n",
       "      <td>12.0</td>\n",
       "      <td>17.0</td>\n",
       "      <td>11.0</td>\n",
       "      <td>17.0</td>\n",
       "      <td>0.0</td>\n",
       "      <td>0.0</td>\n",
       "      <td>0.0</td>\n",
       "      <td>1.0</td>\n",
       "      <td>100.0</td>\n",
       "      <td>75.0</td>\n",
       "      <td>0.0</td>\n",
       "      <td>0.0</td>\n",
       "      <td>372109.0</td>\n",
       "      <td>75258.0</td>\n",
       "      <td>34500.0</td>\n",
       "      <td>55501.0</td>\n",
       "    </tr>\n",
       "    <tr>\n",
       "      <th>2</th>\n",
       "      <td>68341763</td>\n",
       "      <td>72928789.0</td>\n",
       "      <td>20000.0</td>\n",
       "      <td>20000.0</td>\n",
       "      <td>20000.0</td>\n",
       "      <td>60 months</td>\n",
       "      <td>10.78%</td>\n",
       "      <td>432.66</td>\n",
       "      <td>B</td>\n",
       "      <td>B4</td>\n",
       "      <td>truck driver</td>\n",
       "      <td>10+ years</td>\n",
       "      <td>MORTGAGE</td>\n",
       "      <td>63000.0</td>\n",
       "      <td>Not Verified</td>\n",
       "      <td>Dec-15</td>\n",
       "      <td>Current</td>\n",
       "      <td>n</td>\n",
       "      <td>https://lendingclub.com/browse/loanDetail.acti...</td>\n",
       "      <td>NaN</td>\n",
       "      <td>home_improvement</td>\n",
       "      <td>NaN</td>\n",
       "      <td>605xx</td>\n",
       "      <td>IL</td>\n",
       "      <td>10.78</td>\n",
       "      <td>0.0</td>\n",
       "      <td>Aug-00</td>\n",
       "      <td>0.0</td>\n",
       "      <td>NaN</td>\n",
       "      <td>NaN</td>\n",
       "      <td>6.0</td>\n",
       "      <td>0.0</td>\n",
       "      <td>7869.0</td>\n",
       "      <td>56.20%</td>\n",
       "      <td>18.0</td>\n",
       "      <td>w</td>\n",
       "      <td>17639.50</td>\n",
       "      <td>17639.50</td>\n",
       "      <td>3864.00</td>\n",
       "      <td>3864.00</td>\n",
       "      <td>2360.50</td>\n",
       "      <td>1503.50</td>\n",
       "      <td>0.0</td>\n",
       "      <td>0.0</td>\n",
       "      <td>0.0</td>\n",
       "      <td>Oct-16</td>\n",
       "      <td>432.66</td>\n",
       "      <td>Oct-16</td>\n",
       "      <td>Oct-16</td>\n",
       "      <td>0.0</td>\n",
       "      <td>NaN</td>\n",
       "      <td>1.0</td>\n",
       "      <td>JOINT</td>\n",
       "      <td>71000.0</td>\n",
       "      <td>13.85</td>\n",
       "      <td>Not Verified</td>\n",
       "      <td>0.0</td>\n",
       "      <td>0.0</td>\n",
       "      <td>189699.0</td>\n",
       "      <td>0.0</td>\n",
       "      <td>1.0</td>\n",
       "      <td>0.0</td>\n",
       "      <td>4.0</td>\n",
       "      <td>19.0</td>\n",
       "      <td>10827.0</td>\n",
       "      <td>72.8</td>\n",
       "      <td>0.0</td>\n",
       "      <td>2.0</td>\n",
       "      <td>2081.0</td>\n",
       "      <td>64.7</td>\n",
       "      <td>14000.0</td>\n",
       "      <td>2.0</td>\n",
       "      <td>5.0</td>\n",
       "      <td>1.0</td>\n",
       "      <td>6.0</td>\n",
       "      <td>31617.0</td>\n",
       "      <td>2737.0</td>\n",
       "      <td>55.9</td>\n",
       "      <td>0.0</td>\n",
       "      <td>0.0</td>\n",
       "      <td>125.0</td>\n",
       "      <td>184.0</td>\n",
       "      <td>14.0</td>\n",
       "      <td>14.0</td>\n",
       "      <td>5.0</td>\n",
       "      <td>101.0</td>\n",
       "      <td>NaN</td>\n",
       "      <td>10.0</td>\n",
       "      <td>NaN</td>\n",
       "      <td>0.0</td>\n",
       "      <td>2.0</td>\n",
       "      <td>3.0</td>\n",
       "      <td>2.0</td>\n",
       "      <td>4.0</td>\n",
       "      <td>6.0</td>\n",
       "      <td>4.0</td>\n",
       "      <td>7.0</td>\n",
       "      <td>3.0</td>\n",
       "      <td>6.0</td>\n",
       "      <td>0.0</td>\n",
       "      <td>0.0</td>\n",
       "      <td>0.0</td>\n",
       "      <td>0.0</td>\n",
       "      <td>100.0</td>\n",
       "      <td>50.0</td>\n",
       "      <td>0.0</td>\n",
       "      <td>0.0</td>\n",
       "      <td>218418.0</td>\n",
       "      <td>18696.0</td>\n",
       "      <td>6200.0</td>\n",
       "      <td>14877.0</td>\n",
       "    </tr>\n",
       "    <tr>\n",
       "      <th>3</th>\n",
       "      <td>68415473</td>\n",
       "      <td>73305264.0</td>\n",
       "      <td>25000.0</td>\n",
       "      <td>25000.0</td>\n",
       "      <td>25000.0</td>\n",
       "      <td>60 months</td>\n",
       "      <td>13.99%</td>\n",
       "      <td>581.58</td>\n",
       "      <td>C</td>\n",
       "      <td>C4</td>\n",
       "      <td>Executive Assistant</td>\n",
       "      <td>9 years</td>\n",
       "      <td>MORTGAGE</td>\n",
       "      <td>79000.0</td>\n",
       "      <td>Not Verified</td>\n",
       "      <td>Dec-15</td>\n",
       "      <td>Current</td>\n",
       "      <td>n</td>\n",
       "      <td>https://lendingclub.com/browse/loanDetail.acti...</td>\n",
       "      <td>NaN</td>\n",
       "      <td>debt_consolidation</td>\n",
       "      <td>Debt consolidation</td>\n",
       "      <td>212xx</td>\n",
       "      <td>MD</td>\n",
       "      <td>34.53</td>\n",
       "      <td>0.0</td>\n",
       "      <td>Jun-01</td>\n",
       "      <td>1.0</td>\n",
       "      <td>NaN</td>\n",
       "      <td>NaN</td>\n",
       "      <td>33.0</td>\n",
       "      <td>0.0</td>\n",
       "      <td>22519.0</td>\n",
       "      <td>18.60%</td>\n",
       "      <td>72.0</td>\n",
       "      <td>w</td>\n",
       "      <td>22263.77</td>\n",
       "      <td>22263.77</td>\n",
       "      <td>5185.64</td>\n",
       "      <td>5185.64</td>\n",
       "      <td>2736.23</td>\n",
       "      <td>2449.41</td>\n",
       "      <td>0.0</td>\n",
       "      <td>0.0</td>\n",
       "      <td>0.0</td>\n",
       "      <td>Oct-16</td>\n",
       "      <td>581.58</td>\n",
       "      <td>Oct-16</td>\n",
       "      <td>Oct-16</td>\n",
       "      <td>0.0</td>\n",
       "      <td>NaN</td>\n",
       "      <td>1.0</td>\n",
       "      <td>INDIVIDUAL</td>\n",
       "      <td>NaN</td>\n",
       "      <td>NaN</td>\n",
       "      <td>NaN</td>\n",
       "      <td>0.0</td>\n",
       "      <td>171.0</td>\n",
       "      <td>265233.0</td>\n",
       "      <td>3.0</td>\n",
       "      <td>3.0</td>\n",
       "      <td>2.0</td>\n",
       "      <td>4.0</td>\n",
       "      <td>5.0</td>\n",
       "      <td>67459.0</td>\n",
       "      <td>62.1</td>\n",
       "      <td>4.0</td>\n",
       "      <td>8.0</td>\n",
       "      <td>5447.0</td>\n",
       "      <td>27.9</td>\n",
       "      <td>121200.0</td>\n",
       "      <td>2.0</td>\n",
       "      <td>6.0</td>\n",
       "      <td>3.0</td>\n",
       "      <td>12.0</td>\n",
       "      <td>8556.0</td>\n",
       "      <td>57049.0</td>\n",
       "      <td>21.4</td>\n",
       "      <td>0.0</td>\n",
       "      <td>0.0</td>\n",
       "      <td>124.0</td>\n",
       "      <td>174.0</td>\n",
       "      <td>1.0</td>\n",
       "      <td>1.0</td>\n",
       "      <td>6.0</td>\n",
       "      <td>2.0</td>\n",
       "      <td>NaN</td>\n",
       "      <td>2.0</td>\n",
       "      <td>NaN</td>\n",
       "      <td>0.0</td>\n",
       "      <td>6.0</td>\n",
       "      <td>16.0</td>\n",
       "      <td>12.0</td>\n",
       "      <td>21.0</td>\n",
       "      <td>15.0</td>\n",
       "      <td>29.0</td>\n",
       "      <td>51.0</td>\n",
       "      <td>16.0</td>\n",
       "      <td>33.0</td>\n",
       "      <td>0.0</td>\n",
       "      <td>0.0</td>\n",
       "      <td>0.0</td>\n",
       "      <td>6.0</td>\n",
       "      <td>100.0</td>\n",
       "      <td>0.0</td>\n",
       "      <td>0.0</td>\n",
       "      <td>0.0</td>\n",
       "      <td>389002.0</td>\n",
       "      <td>89978.0</td>\n",
       "      <td>72600.0</td>\n",
       "      <td>81802.0</td>\n",
       "    </tr>\n",
       "    <tr>\n",
       "      <th>4</th>\n",
       "      <td>68495092</td>\n",
       "      <td>73384866.0</td>\n",
       "      <td>8650.0</td>\n",
       "      <td>8650.0</td>\n",
       "      <td>8650.0</td>\n",
       "      <td>36 months</td>\n",
       "      <td>19.89%</td>\n",
       "      <td>320.99</td>\n",
       "      <td>E</td>\n",
       "      <td>E3</td>\n",
       "      <td>Program Coordinator</td>\n",
       "      <td>8 years</td>\n",
       "      <td>RENT</td>\n",
       "      <td>55000.0</td>\n",
       "      <td>Verified</td>\n",
       "      <td>Dec-15</td>\n",
       "      <td>Fully Paid</td>\n",
       "      <td>n</td>\n",
       "      <td>https://lendingclub.com/browse/loanDetail.acti...</td>\n",
       "      <td>NaN</td>\n",
       "      <td>debt_consolidation</td>\n",
       "      <td>Debt consolidation</td>\n",
       "      <td>462xx</td>\n",
       "      <td>IN</td>\n",
       "      <td>25.49</td>\n",
       "      <td>0.0</td>\n",
       "      <td>Mar-05</td>\n",
       "      <td>4.0</td>\n",
       "      <td>NaN</td>\n",
       "      <td>30.0</td>\n",
       "      <td>18.0</td>\n",
       "      <td>1.0</td>\n",
       "      <td>9568.0</td>\n",
       "      <td>46%</td>\n",
       "      <td>19.0</td>\n",
       "      <td>w</td>\n",
       "      <td>0.00</td>\n",
       "      <td>0.00</td>\n",
       "      <td>9190.49</td>\n",
       "      <td>9190.49</td>\n",
       "      <td>8650.00</td>\n",
       "      <td>540.49</td>\n",
       "      <td>0.0</td>\n",
       "      <td>0.0</td>\n",
       "      <td>0.0</td>\n",
       "      <td>May-16</td>\n",
       "      <td>8251.42</td>\n",
       "      <td>NaN</td>\n",
       "      <td>Jun-16</td>\n",
       "      <td>0.0</td>\n",
       "      <td>NaN</td>\n",
       "      <td>1.0</td>\n",
       "      <td>INDIVIDUAL</td>\n",
       "      <td>NaN</td>\n",
       "      <td>NaN</td>\n",
       "      <td>NaN</td>\n",
       "      <td>0.0</td>\n",
       "      <td>0.0</td>\n",
       "      <td>18926.0</td>\n",
       "      <td>6.0</td>\n",
       "      <td>1.0</td>\n",
       "      <td>0.0</td>\n",
       "      <td>1.0</td>\n",
       "      <td>19.0</td>\n",
       "      <td>9358.0</td>\n",
       "      <td>51.0</td>\n",
       "      <td>12.0</td>\n",
       "      <td>16.0</td>\n",
       "      <td>653.0</td>\n",
       "      <td>46.0</td>\n",
       "      <td>20750.0</td>\n",
       "      <td>2.0</td>\n",
       "      <td>0.0</td>\n",
       "      <td>5.0</td>\n",
       "      <td>17.0</td>\n",
       "      <td>1051.0</td>\n",
       "      <td>1375.0</td>\n",
       "      <td>45.0</td>\n",
       "      <td>0.0</td>\n",
       "      <td>0.0</td>\n",
       "      <td>129.0</td>\n",
       "      <td>95.0</td>\n",
       "      <td>0.0</td>\n",
       "      <td>0.0</td>\n",
       "      <td>0.0</td>\n",
       "      <td>8.0</td>\n",
       "      <td>NaN</td>\n",
       "      <td>0.0</td>\n",
       "      <td>NaN</td>\n",
       "      <td>0.0</td>\n",
       "      <td>2.0</td>\n",
       "      <td>17.0</td>\n",
       "      <td>2.0</td>\n",
       "      <td>2.0</td>\n",
       "      <td>2.0</td>\n",
       "      <td>17.0</td>\n",
       "      <td>17.0</td>\n",
       "      <td>13.0</td>\n",
       "      <td>18.0</td>\n",
       "      <td>NaN</td>\n",
       "      <td>0.0</td>\n",
       "      <td>0.0</td>\n",
       "      <td>12.0</td>\n",
       "      <td>100.0</td>\n",
       "      <td>50.0</td>\n",
       "      <td>1.0</td>\n",
       "      <td>0.0</td>\n",
       "      <td>38998.0</td>\n",
       "      <td>18926.0</td>\n",
       "      <td>2750.0</td>\n",
       "      <td>18248.0</td>\n",
       "    </tr>\n",
       "  </tbody>\n",
       "</table>\n",
       "</div>"
      ],
      "text/plain": [
       "         id   member_id  loan_amnt  funded_amnt  funded_amnt_inv        term  \\\n",
       "0  68446746  73336569.0    12000.0      12000.0          12000.0   36 months   \n",
       "1  68338832  73542831.0     1400.0       1400.0           1400.0   36 months   \n",
       "2  68341763  72928789.0    20000.0      20000.0          20000.0   60 months   \n",
       "3  68415473  73305264.0    25000.0      25000.0          25000.0   60 months   \n",
       "4  68495092  73384866.0     8650.0       8650.0           8650.0   36 months   \n",
       "\n",
       "  int_rate  installment grade sub_grade                   emp_title  \\\n",
       "0    5.32%       361.38     A        A1  Network Operation Engineer   \n",
       "1   12.88%        47.10     C        C2           Logistics Manager   \n",
       "2   10.78%       432.66     B        B4                truck driver   \n",
       "3   13.99%       581.58     C        C4         Executive Assistant   \n",
       "4   19.89%       320.99     E        E3        Program Coordinator    \n",
       "\n",
       "  emp_length home_ownership  annual_inc verification_status issue_d  \\\n",
       "0    4 years       MORTGAGE     53750.0     Source Verified  Dec-15   \n",
       "1    3 years       MORTGAGE     64000.0        Not Verified  Dec-15   \n",
       "2  10+ years       MORTGAGE     63000.0        Not Verified  Dec-15   \n",
       "3    9 years       MORTGAGE     79000.0        Not Verified  Dec-15   \n",
       "4    8 years           RENT     55000.0            Verified  Dec-15   \n",
       "\n",
       "  loan_status pymnt_plan                                                url  \\\n",
       "0     Current          n  https://lendingclub.com/browse/loanDetail.acti...   \n",
       "1     Current          n  https://lendingclub.com/browse/loanDetail.acti...   \n",
       "2     Current          n  https://lendingclub.com/browse/loanDetail.acti...   \n",
       "3     Current          n  https://lendingclub.com/browse/loanDetail.acti...   \n",
       "4  Fully Paid          n  https://lendingclub.com/browse/loanDetail.acti...   \n",
       "\n",
       "  desc             purpose               title zip_code addr_state    dti  \\\n",
       "0  NaN  debt_consolidation  Debt consolidation    850xx         AZ  15.30   \n",
       "1  NaN               other                 NaN    275xx         NC  34.95   \n",
       "2  NaN    home_improvement                 NaN    605xx         IL  10.78   \n",
       "3  NaN  debt_consolidation  Debt consolidation    212xx         MD  34.53   \n",
       "4  NaN  debt_consolidation  Debt consolidation    462xx         IN  25.49   \n",
       "\n",
       "   delinq_2yrs earliest_cr_line  inq_last_6mths  mths_since_last_delinq  \\\n",
       "0          1.0           Sep-07             0.0                    19.0   \n",
       "1          0.0           Jun-96             0.0                     NaN   \n",
       "2          0.0           Aug-00             0.0                     NaN   \n",
       "3          0.0           Jun-01             1.0                     NaN   \n",
       "4          0.0           Mar-05             4.0                     NaN   \n",
       "\n",
       "   mths_since_last_record  open_acc  pub_rec  revol_bal revol_util  total_acc  \\\n",
       "0                     NaN       8.0      0.0     3172.0     17.20%       19.0   \n",
       "1                     NaN      17.0      0.0    37828.0     67.20%       24.0   \n",
       "2                     NaN       6.0      0.0     7869.0     56.20%       18.0   \n",
       "3                     NaN      33.0      0.0    22519.0     18.60%       72.0   \n",
       "4                    30.0      18.0      1.0     9568.0        46%       19.0   \n",
       "\n",
       "  initial_list_status  out_prncp  out_prncp_inv  total_pymnt  total_pymnt_inv  \\\n",
       "0                   w    9176.68        9176.68      3243.55          3243.55   \n",
       "1                   w    1098.63        1098.63       421.40           421.40   \n",
       "2                   w   17639.50       17639.50      3864.00          3864.00   \n",
       "3                   w   22263.77       22263.77      5185.64          5185.64   \n",
       "4                   w       0.00           0.00      9190.49          9190.49   \n",
       "\n",
       "   total_rec_prncp  total_rec_int  total_rec_late_fee  recoveries  \\\n",
       "0          2823.32         420.23                 0.0         0.0   \n",
       "1           301.37         120.03                 0.0         0.0   \n",
       "2          2360.50        1503.50                 0.0         0.0   \n",
       "3          2736.23        2449.41                 0.0         0.0   \n",
       "4          8650.00         540.49                 0.0         0.0   \n",
       "\n",
       "   collection_recovery_fee last_pymnt_d  last_pymnt_amnt next_pymnt_d  \\\n",
       "0                      0.0       Oct-16           361.38       Oct-16   \n",
       "1                      0.0       Oct-16            47.10       Oct-16   \n",
       "2                      0.0       Oct-16           432.66       Oct-16   \n",
       "3                      0.0       Oct-16           581.58       Oct-16   \n",
       "4                      0.0       May-16          8251.42          NaN   \n",
       "\n",
       "  last_credit_pull_d  collections_12_mths_ex_med  mths_since_last_major_derog  \\\n",
       "0             Oct-16                         0.0                          NaN   \n",
       "1             Oct-16                         0.0                          NaN   \n",
       "2             Oct-16                         0.0                          NaN   \n",
       "3             Oct-16                         0.0                          NaN   \n",
       "4             Jun-16                         0.0                          NaN   \n",
       "\n",
       "   policy_code application_type  annual_inc_joint  dti_joint  \\\n",
       "0          1.0       INDIVIDUAL               NaN        NaN   \n",
       "1          1.0       INDIVIDUAL               NaN        NaN   \n",
       "2          1.0            JOINT           71000.0      13.85   \n",
       "3          1.0       INDIVIDUAL               NaN        NaN   \n",
       "4          1.0       INDIVIDUAL               NaN        NaN   \n",
       "\n",
       "  verification_status_joint  acc_now_delinq  tot_coll_amt  tot_cur_bal  \\\n",
       "0                       NaN             0.0           0.0     142615.0   \n",
       "1                       NaN             0.0           0.0     325695.0   \n",
       "2              Not Verified             0.0           0.0     189699.0   \n",
       "3                       NaN             0.0         171.0     265233.0   \n",
       "4                       NaN             0.0           0.0      18926.0   \n",
       "\n",
       "   open_acc_6m  open_il_6m  open_il_12m  open_il_24m  mths_since_rcnt_il  \\\n",
       "0          0.0         1.0          0.0          2.0                17.0   \n",
       "1          1.0         3.0          1.0          2.0                 2.0   \n",
       "2          0.0         1.0          0.0          4.0                19.0   \n",
       "3          3.0         3.0          2.0          4.0                 5.0   \n",
       "4          6.0         1.0          0.0          1.0                19.0   \n",
       "\n",
       "   total_bal_il  il_util  open_rv_12m  open_rv_24m  max_bal_bc  all_util  \\\n",
       "0        6468.0     22.3          0.0          0.0         0.0      22.2   \n",
       "1       37430.0     67.4          0.0          2.0      7386.0      67.3   \n",
       "2       10827.0     72.8          0.0          2.0      2081.0      64.7   \n",
       "3       67459.0     62.1          4.0          8.0      5447.0      27.9   \n",
       "4        9358.0     51.0         12.0         16.0       653.0      46.0   \n",
       "\n",
       "   total_rev_hi_lim  inq_fi  total_cu_tl  inq_last_12m  acc_open_past_24mths  \\\n",
       "0           18400.0     2.0          6.0           1.0                   3.0   \n",
       "1           56300.0     0.0          2.0           0.0                   4.0   \n",
       "2           14000.0     2.0          5.0           1.0                   6.0   \n",
       "3          121200.0     2.0          6.0           3.0                  12.0   \n",
       "4           20750.0     2.0          0.0           5.0                  17.0   \n",
       "\n",
       "   avg_cur_bal  bc_open_to_buy  bc_util  chargeoff_within_12_mths  \\\n",
       "0      17827.0          8500.0      0.0                       0.0   \n",
       "1      19159.0          7940.0     77.0                       0.0   \n",
       "2      31617.0          2737.0     55.9                       0.0   \n",
       "3       8556.0         57049.0     21.4                       0.0   \n",
       "4       1051.0          1375.0     45.0                       0.0   \n",
       "\n",
       "   delinq_amnt  mo_sin_old_il_acct  mo_sin_old_rev_tl_op  \\\n",
       "0          0.0                99.0                  60.0   \n",
       "1          0.0                46.0                 234.0   \n",
       "2          0.0               125.0                 184.0   \n",
       "3          0.0               124.0                 174.0   \n",
       "4          0.0               129.0                  95.0   \n",
       "\n",
       "   mo_sin_rcnt_rev_tl_op  mo_sin_rcnt_tl  mort_acc  mths_since_recent_bc  \\\n",
       "0                   35.0             9.0       2.0                  37.0   \n",
       "1                   18.0             2.0       4.0                  28.0   \n",
       "2                   14.0            14.0       5.0                 101.0   \n",
       "3                    1.0             1.0       6.0                   2.0   \n",
       "4                    0.0             0.0       0.0                   8.0   \n",
       "\n",
       "   mths_since_recent_bc_dlq  mths_since_recent_inq  \\\n",
       "0                      19.0                   11.0   \n",
       "1                       NaN                   18.0   \n",
       "2                       NaN                   10.0   \n",
       "3                       NaN                    2.0   \n",
       "4                       NaN                    0.0   \n",
       "\n",
       "   mths_since_recent_revol_delinq  num_accts_ever_120_pd  num_actv_bc_tl  \\\n",
       "0                            19.0                    0.0             0.0   \n",
       "1                             NaN                    0.0             7.0   \n",
       "2                             NaN                    0.0             2.0   \n",
       "3                             NaN                    0.0             6.0   \n",
       "4                             NaN                    0.0             2.0   \n",
       "\n",
       "   num_actv_rev_tl  num_bc_sats  num_bc_tl  num_il_tl  num_op_rev_tl  \\\n",
       "0              3.0          2.0        3.0       10.0            5.0   \n",
       "1             11.0          8.0       11.0        3.0           12.0   \n",
       "2              3.0          2.0        4.0        6.0            4.0   \n",
       "3             16.0         12.0       21.0       15.0           29.0   \n",
       "4             17.0          2.0        2.0        2.0           17.0   \n",
       "\n",
       "   num_rev_accts  num_rev_tl_bal_gt_0  num_sats  num_tl_120dpd_2m  \\\n",
       "0            6.0                  3.0       8.0               0.0   \n",
       "1           17.0                 11.0      17.0               0.0   \n",
       "2            7.0                  3.0       6.0               0.0   \n",
       "3           51.0                 16.0      33.0               0.0   \n",
       "4           17.0                 13.0      18.0               NaN   \n",
       "\n",
       "   num_tl_30dpd  num_tl_90g_dpd_24m  num_tl_op_past_12m  pct_tl_nvr_dlq  \\\n",
       "0           0.0                 0.0                 1.0            94.7   \n",
       "1           0.0                 0.0                 1.0           100.0   \n",
       "2           0.0                 0.0                 0.0           100.0   \n",
       "3           0.0                 0.0                 6.0           100.0   \n",
       "4           0.0                 0.0                12.0           100.0   \n",
       "\n",
       "   percent_bc_gt_75  pub_rec_bankruptcies  tax_liens  tot_hi_cred_lim  \\\n",
       "0               0.0                   0.0        0.0         183062.0   \n",
       "1              75.0                   0.0        0.0         372109.0   \n",
       "2              50.0                   0.0        0.0         218418.0   \n",
       "3               0.0                   0.0        0.0         389002.0   \n",
       "4              50.0                   1.0        0.0          38998.0   \n",
       "\n",
       "   total_bal_ex_mort  total_bc_limit  total_il_high_credit_limit  \n",
       "0            11146.0          8500.0                     29053.0  \n",
       "1            75258.0         34500.0                     55501.0  \n",
       "2            18696.0          6200.0                     14877.0  \n",
       "3            89978.0         72600.0                     81802.0  \n",
       "4            18926.0          2750.0                     18248.0  "
      ]
     },
     "execution_count": 8,
     "metadata": {},
     "output_type": "execute_result"
    }
   ],
   "source": [
    "loan_data.head()"
   ]
  },
  {
   "cell_type": "markdown",
   "metadata": {},
   "source": [
    "# 2: Summarize the types of “loan_status” presented in the LC dataset (e.g. frequency of types, etc)."
   ]
  },
  {
   "cell_type": "code",
   "execution_count": 9,
   "metadata": {
    "collapsed": false
   },
   "outputs": [
    {
     "data": {
      "text/plain": [
       "array(['Current', 'Fully Paid', 'Late (31-120 days)', 'Late (16-30 days)',\n",
       "       'In Grace Period', 'Charged Off', 'Default', nan], dtype=object)"
      ]
     },
     "execution_count": 9,
     "metadata": {},
     "output_type": "execute_result"
    }
   ],
   "source": [
    "loan_data.loan_status.unique()"
   ]
  },
  {
   "cell_type": "code",
   "execution_count": 10,
   "metadata": {
    "collapsed": false
   },
   "outputs": [
    {
     "data": {
      "text/html": [
       "<div>\n",
       "<table border=\"1\" class=\"dataframe\">\n",
       "  <thead>\n",
       "    <tr style=\"text-align: right;\">\n",
       "      <th></th>\n",
       "      <th>loan_status</th>\n",
       "    </tr>\n",
       "    <tr>\n",
       "      <th>loan_status</th>\n",
       "      <th></th>\n",
       "    </tr>\n",
       "  </thead>\n",
       "  <tbody>\n",
       "    <tr>\n",
       "      <th>Charged Off</th>\n",
       "      <td>19533</td>\n",
       "    </tr>\n",
       "    <tr>\n",
       "      <th>Current</th>\n",
       "      <td>317232</td>\n",
       "    </tr>\n",
       "    <tr>\n",
       "      <th>Default</th>\n",
       "      <td>423</td>\n",
       "    </tr>\n",
       "    <tr>\n",
       "      <th>Fully Paid</th>\n",
       "      <td>67748</td>\n",
       "    </tr>\n",
       "    <tr>\n",
       "      <th>In Grace Period</th>\n",
       "      <td>3860</td>\n",
       "    </tr>\n",
       "    <tr>\n",
       "      <th>Late (16-30 days)</th>\n",
       "      <td>2487</td>\n",
       "    </tr>\n",
       "    <tr>\n",
       "      <th>Late (31-120 days)</th>\n",
       "      <td>9812</td>\n",
       "    </tr>\n",
       "  </tbody>\n",
       "</table>\n",
       "</div>"
      ],
      "text/plain": [
       "                    loan_status\n",
       "loan_status                    \n",
       "Charged Off               19533\n",
       "Current                  317232\n",
       "Default                     423\n",
       "Fully Paid                67748\n",
       "In Grace Period            3860\n",
       "Late (16-30 days)          2487\n",
       "Late (31-120 days)         9812"
      ]
     },
     "execution_count": 10,
     "metadata": {},
     "output_type": "execute_result"
    }
   ],
   "source": [
    "# number of each unique loan status\n",
    "gloan_data = loan_data[['loan_status']].groupby([loan_data['loan_status']]).count()\n",
    "gloan_data"
   ]
  },
  {
   "cell_type": "code",
   "execution_count": 11,
   "metadata": {
    "collapsed": false
   },
   "outputs": [
    {
     "data": {
      "text/plain": [
       "<matplotlib.text.Text at 0x10c67ffd0>"
      ]
     },
     "execution_count": 11,
     "metadata": {},
     "output_type": "execute_result"
    },
    {
     "data": {
      "image/png": "[encoded data removed]",
      "text/plain": [
       "<matplotlib.figure.Figure at 0x10c5f1790>"
      ]
     },
     "metadata": {},
     "output_type": "display_data"
    }
   ],
   "source": [
    "# bar plot of num in each loan status category:\n",
    "%matplotlib inline\n",
    "from itertools import cycle, islice\n",
    "ax =  gloan_data.plot(kind='bar')\n",
    "ax.set_title(\"Amount Frequency\")\n",
    "ax.set_xlabel(\"Loan Type\")\n",
    "ax.set_ylabel(\"Frequency\")"
   ]
  },
  {
   "cell_type": "markdown",
   "metadata": {},
   "source": [
    "# 3:\tUsing loan status of Charged Off, Default, as indicators of a “bad loans”, describe the predictive relationship of earliest_cr_line, annual_inc, and dti on probability of default.\n",
    "\n",
    "Given dependent variables: 'Charged Off' and 'Defualt' & independent variables: 'earliest_cr_line', 'annual_inc', 'dti' ... what is the probability that a loan will defualt as opposed to be\n",
    "charged off"
   ]
  },
  {
   "cell_type": "markdown",
   "metadata": {},
   "source": [
    "# Observing, cleaning and standardizing the data"
   ]
  },
  {
   "cell_type": "code",
   "execution_count": 12,
   "metadata": {
    "collapsed": false
   },
   "outputs": [
    {
     "data": {
      "text/html": [
       "<div>\n",
       "<table border=\"1\" class=\"dataframe\">\n",
       "  <thead>\n",
       "    <tr style=\"text-align: right;\">\n",
       "      <th></th>\n",
       "      <th>earliest_cr_line</th>\n",
       "      <th>annual_inc</th>\n",
       "      <th>dti</th>\n",
       "      <th>loan_status</th>\n",
       "    </tr>\n",
       "  </thead>\n",
       "  <tbody>\n",
       "    <tr>\n",
       "      <th>0</th>\n",
       "      <td>Sep-07</td>\n",
       "      <td>53750.0</td>\n",
       "      <td>15.30</td>\n",
       "      <td>Current</td>\n",
       "    </tr>\n",
       "    <tr>\n",
       "      <th>1</th>\n",
       "      <td>Jun-96</td>\n",
       "      <td>64000.0</td>\n",
       "      <td>34.95</td>\n",
       "      <td>Current</td>\n",
       "    </tr>\n",
       "    <tr>\n",
       "      <th>2</th>\n",
       "      <td>Aug-00</td>\n",
       "      <td>63000.0</td>\n",
       "      <td>10.78</td>\n",
       "      <td>Current</td>\n",
       "    </tr>\n",
       "    <tr>\n",
       "      <th>3</th>\n",
       "      <td>Jun-01</td>\n",
       "      <td>79000.0</td>\n",
       "      <td>34.53</td>\n",
       "      <td>Current</td>\n",
       "    </tr>\n",
       "    <tr>\n",
       "      <th>4</th>\n",
       "      <td>Mar-05</td>\n",
       "      <td>55000.0</td>\n",
       "      <td>25.49</td>\n",
       "      <td>Fully Paid</td>\n",
       "    </tr>\n",
       "  </tbody>\n",
       "</table>\n",
       "</div>"
      ],
      "text/plain": [
       "  earliest_cr_line  annual_inc    dti loan_status\n",
       "0           Sep-07     53750.0  15.30     Current\n",
       "1           Jun-96     64000.0  34.95     Current\n",
       "2           Aug-00     63000.0  10.78     Current\n",
       "3           Jun-01     79000.0  34.53     Current\n",
       "4           Mar-05     55000.0  25.49  Fully Paid"
      ]
     },
     "execution_count": 12,
     "metadata": {},
     "output_type": "execute_result"
    }
   ],
   "source": [
    "# Extracting only the columns we need:\n",
    "loan_data[['earliest_cr_line', 'annual_inc', 'dti','loan_status']].head()"
   ]
  },
  {
   "cell_type": "code",
   "execution_count": 13,
   "metadata": {
    "collapsed": false
   },
   "outputs": [],
   "source": [
    "# extracting data that is of state: charged off or default\n",
    "bad_data_all = loan_data[(loan_data.loan_status == 'Charged Off') | (loan_data.loan_status == 'Default')]"
   ]
  },
  {
   "cell_type": "code",
   "execution_count": 14,
   "metadata": {
    "collapsed": false
   },
   "outputs": [],
   "source": [
    "# extracting the particular columns we want to observe:\n",
    "bad_data_small = bad_data_all[['earliest_cr_line', 'annual_inc', 'dti', 'loan_status']]"
   ]
  },
  {
   "cell_type": "code",
   "execution_count": 15,
   "metadata": {
    "collapsed": false
   },
   "outputs": [
    {
     "name": "stdout",
     "output_type": "stream",
     "text": [
      "earliest_cr_line     object\n",
      "annual_inc          float64\n",
      "dti                 float64\n",
      "loan_status          object\n",
      "dtype: object\n",
      "         annual_inc           dti\n",
      "count  1.995600e+04  19956.000000\n",
      "mean   7.018342e+04     21.749302\n",
      "std    9.887122e+04     71.191819\n",
      "min    0.000000e+00      0.000000\n",
      "25%    4.213250e+04     14.600000\n",
      "50%    6.000000e+04     21.150000\n",
      "75%    8.400000e+04     27.990000\n",
      "max    8.900060e+06   9999.000000\n"
     ]
    },
    {
     "name": "stderr",
     "output_type": "stream",
     "text": [
      "/anaconda/lib/python2.7/site-packages/ipykernel/__main__.py:8: FutureWarning: \n",
      "The default value for 'return_type' will change to 'axes' in a future release.\n",
      " To use the future behavior now, set return_type='axes'.\n",
      " To keep the previous behavior and silence this warning, set return_type='dict'.\n",
      "/anaconda/lib/python2.7/site-packages/ipykernel/__main__.py:9: FutureWarning: \n",
      "The default value for 'return_type' will change to 'axes' in a future release.\n",
      " To use the future behavior now, set return_type='axes'.\n",
      " To keep the previous behavior and silence this warning, set return_type='dict'.\n"
     ]
    },
    {
     "data": {
      "text/plain": [
       "{'boxes': [<matplotlib.lines.Line2D at 0x10cbe9910>],\n",
       " 'caps': [<matplotlib.lines.Line2D at 0x10cbf8c50>,\n",
       "  <matplotlib.lines.Line2D at 0x10cac4e90>],\n",
       " 'fliers': [<matplotlib.lines.Line2D at 0x10ca7da10>],\n",
       " 'means': [],\n",
       " 'medians': [<matplotlib.lines.Line2D at 0x10cabbad0>],\n",
       " 'whiskers': [<matplotlib.lines.Line2D at 0x10cbe9f10>,\n",
       "  <matplotlib.lines.Line2D at 0x10cbf8610>]}"
      ]
     },
     "execution_count": 15,
     "metadata": {},
     "output_type": "execute_result"
    },
    {
     "data": {
      "image/png": "[encoded data removed]",
      "text/plain": [
       "<matplotlib.figure.Figure at 0x10c6c0190>"
      ]
     },
     "metadata": {},
     "output_type": "display_data"
    }
   ],
   "source": [
    "# Observing data\n",
    "print bad_data_small.dtypes\n",
    "print bad_data_small.describe()\n",
    "\n",
    "# Outliers (represented by '+' in box plots) exist in both columns:\n",
    "import matplotlib.pyplot as plt\n",
    "fig, axes = plt.subplots(nrows=2, ncols=1)\n",
    "bad_data_small[['annual_inc']].boxplot(ax=axes[0])\n",
    "bad_data_small[['dti']].boxplot(ax=axes[1])"
   ]
  },
  {
   "cell_type": "code",
   "execution_count": 16,
   "metadata": {
    "collapsed": false
   },
   "outputs": [
    {
     "name": "stdout",
     "output_type": "stream",
     "text": [
      "iqr: 13.39\n",
      "lower outer fence: -25.57\n",
      "upper outer fence: 68.16\n",
      "      earliest_cr_line  annual_inc     dti  loan_status\n",
      "65662           Aug-78         0.0  9999.0  Charged Off\n",
      "Empty DataFrame\n",
      "Columns: [earliest_cr_line, annual_inc, dti, loan_status]\n",
      "Index: []\n"
     ]
    }
   ],
   "source": [
    "# Observing extreem DTI outliers:\n",
    "import numpy as np\n",
    "q75, q25 = np.percentile(bad_data_small[['dti']], [75 ,25])\n",
    "iqr = q75 - q25\n",
    "\n",
    "print 'iqr:', iqr\n",
    "\n",
    "print 'lower outer fence:', q25 - 3*iqr\n",
    "print 'upper outer fence:', q75 + 3*iqr \n",
    "\n",
    "print bad_data_small[bad_data_small.dti >= 68.13] # one data point higher than this value\n",
    "print bad_data_small[bad_data_small.dti < -25.53] # nothing lower than this value\n",
    "\n",
    "#Getting rid of extreme outlier:\n",
    "bad_data_small_corr1 = bad_data_small[bad_data_small.dti <= 68.13]"
   ]
  },
  {
   "cell_type": "code",
   "execution_count": 17,
   "metadata": {
    "collapsed": false
   },
   "outputs": [
    {
     "name": "stdout",
     "output_type": "stream",
     "text": [
      "         annual_inc           dti\n",
      "count  1.995500e+04  19955.000000\n",
      "mean   7.018694e+04     21.249315\n",
      "std    9.887245e+04      8.917871\n",
      "min    4.524000e+03      0.000000\n",
      "25%    4.215800e+04     14.600000\n",
      "50%    6.000000e+04     21.150000\n",
      "75%    8.400000e+04     27.990000\n",
      "max    8.900060e+06     54.430000\n"
     ]
    },
    {
     "name": "stderr",
     "output_type": "stream",
     "text": [
      "/anaconda/lib/python2.7/site-packages/ipykernel/__main__.py:5: FutureWarning: \n",
      "The default value for 'return_type' will change to 'axes' in a future release.\n",
      " To use the future behavior now, set return_type='axes'.\n",
      " To keep the previous behavior and silence this warning, set return_type='dict'.\n"
     ]
    },
    {
     "data": {
      "text/plain": [
       "{'boxes': [<matplotlib.lines.Line2D at 0x11054d7d0>],\n",
       " 'caps': [<matplotlib.lines.Line2D at 0x10cf0c6d0>,\n",
       "  <matplotlib.lines.Line2D at 0x10cf0cd10>],\n",
       " 'fliers': [<matplotlib.lines.Line2D at 0x10cf169d0>],\n",
       " 'means': [],\n",
       " 'medians': [<matplotlib.lines.Line2D at 0x10cf16390>],\n",
       " 'whiskers': [<matplotlib.lines.Line2D at 0x11054d990>,\n",
       "  <matplotlib.lines.Line2D at 0x10cf0c090>]}"
      ]
     },
     "execution_count": 17,
     "metadata": {},
     "output_type": "execute_result"
    },
    {
     "data": {
      "image/png": "[encoded data removed]",
      "text/plain": [
       "<matplotlib.figure.Figure at 0x10c736f90>"
      ]
     },
     "metadata": {},
     "output_type": "display_data"
    }
   ],
   "source": [
    "# are both columns now clean? Outliers still exists in annual_inc (i.e max annual_inc is  1.650000e+06!), \n",
    "# but while rare it is not unheard of and so do not have good reason to take these data points out.  \n",
    "\n",
    "print bad_data_small_corr1.describe()\n",
    "bad_data_small_corr1[['dti']].boxplot()"
   ]
  },
  {
   "cell_type": "code",
   "execution_count": 18,
   "metadata": {
    "collapsed": false
   },
   "outputs": [
    {
     "name": "stdout",
     "output_type": "stream",
     "text": [
      "iqr: 41842.0\n",
      "lower outer fence: -83368.0\n",
      "upper outer fence: 209526.0\n",
      "extreem outliers: 262\n"
     ]
    }
   ],
   "source": [
    "# Observing extreem annual_inc outliers: There are 260 extreem outliers, but we do not have a logical reason\n",
    "# to take all of them out of the data because, while some may be rare (i.e max annual_inc is  1.650000e+06), \n",
    "# this high value is still plausable. \n",
    "\n",
    "q75, q25 = np.percentile(bad_data_small_corr1[['annual_inc']], [75 ,25])\n",
    "iqr = q75 - q25\n",
    "\n",
    "print 'iqr:', iqr\n",
    "\n",
    "print 'lower outer fence:', q25 - 3*iqr\n",
    "print 'upper outer fence:', q75 + 3*iqr \n",
    "\n",
    "print \"extreem outliers:\", len(bad_data_small_corr1[bad_data_small_corr1.annual_inc >= 209532].sort_values(['annual_inc'])) "
   ]
  },
  {
   "cell_type": "code",
   "execution_count": 19,
   "metadata": {
    "collapsed": false
   },
   "outputs": [
    {
     "name": "stdout",
     "output_type": "stream",
     "text": [
      "       earliest_cr_line  annual_inc   dti  loan_status\n",
      "217571           Nov-06   8900060.0  0.09  Charged Off\n",
      "400705           Jul-00   8706582.0  0.11  Charged Off\n"
     ]
    }
   ],
   "source": [
    "# I will consider anything beyond annual_inc of 8,000,000 as inplausable and will remove these 2 values:\n",
    "print bad_data_small_corr1[bad_data_small_corr1.annual_inc >= 8000000]\n",
    "bad_data_small_corr2 = bad_data_small_corr1[bad_data_small_corr1.annual_inc <= 8000000]\n",
    "#bad_data_small[['annual_inc']].boxplot()"
   ]
  },
  {
   "cell_type": "code",
   "execution_count": 20,
   "metadata": {
    "collapsed": false
   },
   "outputs": [
    {
     "name": "stdout",
     "output_type": "stream",
     "text": [
      "         annual_inc           dti\n",
      "count  1.995300e+04  19953.000000\n",
      "mean   6.931157e+04     21.251435\n",
      "std    4.615111e+04      8.915804\n",
      "min    4.524000e+03      0.000000\n",
      "25%    4.215600e+04     14.610000\n",
      "50%    6.000000e+04     21.150000\n",
      "75%    8.400000e+04     27.990000\n",
      "max    1.650000e+06     54.430000\n"
     ]
    },
    {
     "name": "stderr",
     "output_type": "stream",
     "text": [
      "/anaconda/lib/python2.7/site-packages/ipykernel/__main__.py:3: FutureWarning: \n",
      "The default value for 'return_type' will change to 'axes' in a future release.\n",
      " To use the future behavior now, set return_type='axes'.\n",
      " To keep the previous behavior and silence this warning, set return_type='dict'.\n",
      "  app.launch_new_instance()\n",
      "/anaconda/lib/python2.7/site-packages/ipykernel/__main__.py:4: FutureWarning: \n",
      "The default value for 'return_type' will change to 'axes' in a future release.\n",
      " To use the future behavior now, set return_type='axes'.\n",
      " To keep the previous behavior and silence this warning, set return_type='dict'.\n"
     ]
    },
    {
     "data": {
      "text/plain": [
       "{'boxes': [<matplotlib.lines.Line2D at 0x1107625d0>],\n",
       " 'caps': [<matplotlib.lines.Line2D at 0x1106ea210>,\n",
       "  <matplotlib.lines.Line2D at 0x1105bd3d0>],\n",
       " 'fliers': [<matplotlib.lines.Line2D at 0x1105a94d0>],\n",
       " 'means': [],\n",
       " 'medians': [<matplotlib.lines.Line2D at 0x1105b17d0>],\n",
       " 'whiskers': [<matplotlib.lines.Line2D at 0x1107580d0>,\n",
       "  <matplotlib.lines.Line2D at 0x11074dfd0>]}"
      ]
     },
     "execution_count": 20,
     "metadata": {},
     "output_type": "execute_result"
    },
    {
     "data": {
      "image/png": "[encoded data removed]",
      "text/plain": [
       "<matplotlib.figure.Figure at 0x10cc87810>"
      ]
     },
     "metadata": {},
     "output_type": "display_data"
    }
   ],
   "source": [
    "print bad_data_small_corr2.describe()\n",
    "fig, axes = plt.subplots(nrows=2, ncols=1)\n",
    "bad_data_small_corr2[['annual_inc']].boxplot(ax=axes[0])\n",
    "bad_data_small_corr2[['dti']].boxplot(ax=axes[1])"
   ]
  },
  {
   "cell_type": "code",
   "execution_count": 21,
   "metadata": {
    "collapsed": false
   },
   "outputs": [
    {
     "data": {
      "text/plain": [
       "<matplotlib.axes._subplots.AxesSubplot at 0x111d53750>"
      ]
     },
     "execution_count": 21,
     "metadata": {},
     "output_type": "execute_result"
    },
    {
     "data": {
      "image/png": "[encoded data removed]",
      "text/plain": [
       "<matplotlib.figure.Figure at 0x10c7368d0>"
      ]
     },
     "metadata": {},
     "output_type": "display_data"
    }
   ],
   "source": [
    "# Problem: annual_inc is not normally distributed\n",
    "bad_data_small_corr2['annual_inc'].plot(kind = \"hist\")"
   ]
  },
  {
   "cell_type": "code",
   "execution_count": 22,
   "metadata": {
    "collapsed": false
   },
   "outputs": [
    {
     "name": "stderr",
     "output_type": "stream",
     "text": [
      "/anaconda/lib/python2.7/site-packages/ipykernel/__main__.py:3: SettingWithCopyWarning: \n",
      "A value is trying to be set on a copy of a slice from a DataFrame.\n",
      "Try using .loc[row_indexer,col_indexer] = value instead\n",
      "\n",
      "See the caveats in the documentation: http://pandas.pydata.org/pandas-docs/stable/indexing.html#indexing-view-versus-copy\n",
      "  app.launch_new_instance()\n"
     ]
    },
    {
     "name": "stdout",
     "output_type": "stream",
     "text": [
      "Axes(0.125,0.125;0.775x0.775)\n",
      "Index([u'earliest_cr_line', u'annual_inc', u'dti', u'loan_status',\n",
      "       u'annual_inc_log'],\n",
      "      dtype='object')\n"
     ]
    },
    {
     "data": {
      "image/png": "[encoded data removed]",
      "text/plain": [
       "<matplotlib.figure.Figure at 0x111d30f90>"
      ]
     },
     "metadata": {},
     "output_type": "display_data"
    }
   ],
   "source": [
    "# Natural log reduces the variation caused by extreme values.\n",
    "# hist. shows data is more normally distributed.\n",
    "bad_data_small_corr2['annual_inc_log'] = np.log(bad_data_small_corr2['annual_inc'])\n",
    "\n",
    "# By taking the natural log, we now have a gaussian distribution:\n",
    "print np.log(bad_data_small_corr2['annual_inc']).plot(kind = \"hist\")\n",
    "print bad_data_small_corr2.columns"
   ]
  },
  {
   "cell_type": "code",
   "execution_count": 23,
   "metadata": {
    "collapsed": false
   },
   "outputs": [
    {
     "data": {
      "text/html": [
       "<div>\n",
       "<table border=\"1\" class=\"dataframe\">\n",
       "  <thead>\n",
       "    <tr style=\"text-align: right;\">\n",
       "      <th></th>\n",
       "      <th>earliest_cr_line</th>\n",
       "      <th>annual_inc</th>\n",
       "      <th>dti</th>\n",
       "      <th>loan_status</th>\n",
       "      <th>annual_inc_log</th>\n",
       "    </tr>\n",
       "  </thead>\n",
       "  <tbody>\n",
       "    <tr>\n",
       "      <th>197</th>\n",
       "      <td>Nov-06</td>\n",
       "      <td>73320.0</td>\n",
       "      <td>17.02</td>\n",
       "      <td>Charged Off</td>\n",
       "      <td>11.202589</td>\n",
       "    </tr>\n",
       "    <tr>\n",
       "      <th>223</th>\n",
       "      <td>Jan-02</td>\n",
       "      <td>68000.0</td>\n",
       "      <td>31.68</td>\n",
       "      <td>Charged Off</td>\n",
       "      <td>11.127263</td>\n",
       "    </tr>\n",
       "    <tr>\n",
       "      <th>254</th>\n",
       "      <td>May-03</td>\n",
       "      <td>125000.0</td>\n",
       "      <td>6.20</td>\n",
       "      <td>Charged Off</td>\n",
       "      <td>11.736069</td>\n",
       "    </tr>\n",
       "    <tr>\n",
       "      <th>456</th>\n",
       "      <td>Feb-96</td>\n",
       "      <td>160000.0</td>\n",
       "      <td>18.41</td>\n",
       "      <td>Charged Off</td>\n",
       "      <td>11.982929</td>\n",
       "    </tr>\n",
       "    <tr>\n",
       "      <th>641</th>\n",
       "      <td>Aug-97</td>\n",
       "      <td>89000.0</td>\n",
       "      <td>34.58</td>\n",
       "      <td>Charged Off</td>\n",
       "      <td>11.396392</td>\n",
       "    </tr>\n",
       "  </tbody>\n",
       "</table>\n",
       "</div>"
      ],
      "text/plain": [
       "    earliest_cr_line  annual_inc    dti  loan_status  annual_inc_log\n",
       "197           Nov-06     73320.0  17.02  Charged Off       11.202589\n",
       "223           Jan-02     68000.0  31.68  Charged Off       11.127263\n",
       "254           May-03    125000.0   6.20  Charged Off       11.736069\n",
       "456           Feb-96    160000.0  18.41  Charged Off       11.982929\n",
       "641           Aug-97     89000.0  34.58  Charged Off       11.396392"
      ]
     },
     "execution_count": 23,
     "metadata": {},
     "output_type": "execute_result"
    }
   ],
   "source": [
    "bad_data_small_corr2.head()"
   ]
  },
  {
   "cell_type": "code",
   "execution_count": 24,
   "metadata": {
    "collapsed": false
   },
   "outputs": [
    {
     "name": "stderr",
     "output_type": "stream",
     "text": [
      "/anaconda/lib/python2.7/site-packages/ipykernel/__main__.py:3: SettingWithCopyWarning: \n",
      "A value is trying to be set on a copy of a slice from a DataFrame.\n",
      "Try using .loc[row_indexer,col_indexer] = value instead\n",
      "\n",
      "See the caveats in the documentation: http://pandas.pydata.org/pandas-docs/stable/indexing.html#indexing-view-versus-copy\n",
      "  app.launch_new_instance()\n"
     ]
    }
   ],
   "source": [
    "# Cleaning date varable:\n",
    "# converting date stored as an object to a date stored as datetime so as to use in logistic regression model:\n",
    "bad_data_small_corr2['earliest_cr_line_date'] = pd.to_datetime(bad_data_small_corr2['earliest_cr_line'], format=\"%b-%y\")"
   ]
  },
  {
   "cell_type": "code",
   "execution_count": 25,
   "metadata": {
    "collapsed": false,
    "scrolled": true
   },
   "outputs": [
    {
     "name": "stdout",
     "output_type": "stream",
     "text": [
      "earliest_cr_line                 object\n",
      "annual_inc                      float64\n",
      "dti                             float64\n",
      "loan_status                      object\n",
      "annual_inc_log                  float64\n",
      "earliest_cr_line_date    datetime64[ns]\n",
      "dtype: object\n"
     ]
    },
    {
     "data": {
      "text/html": [
       "<div>\n",
       "<table border=\"1\" class=\"dataframe\">\n",
       "  <thead>\n",
       "    <tr style=\"text-align: right;\">\n",
       "      <th></th>\n",
       "      <th>earliest_cr_line</th>\n",
       "      <th>annual_inc</th>\n",
       "      <th>dti</th>\n",
       "      <th>loan_status</th>\n",
       "      <th>annual_inc_log</th>\n",
       "      <th>earliest_cr_line_date</th>\n",
       "    </tr>\n",
       "  </thead>\n",
       "  <tbody>\n",
       "    <tr>\n",
       "      <th>197</th>\n",
       "      <td>Nov-06</td>\n",
       "      <td>73320.0</td>\n",
       "      <td>17.02</td>\n",
       "      <td>Charged Off</td>\n",
       "      <td>11.202589</td>\n",
       "      <td>2006-11-01</td>\n",
       "    </tr>\n",
       "    <tr>\n",
       "      <th>223</th>\n",
       "      <td>Jan-02</td>\n",
       "      <td>68000.0</td>\n",
       "      <td>31.68</td>\n",
       "      <td>Charged Off</td>\n",
       "      <td>11.127263</td>\n",
       "      <td>2002-01-01</td>\n",
       "    </tr>\n",
       "    <tr>\n",
       "      <th>254</th>\n",
       "      <td>May-03</td>\n",
       "      <td>125000.0</td>\n",
       "      <td>6.20</td>\n",
       "      <td>Charged Off</td>\n",
       "      <td>11.736069</td>\n",
       "      <td>2003-05-01</td>\n",
       "    </tr>\n",
       "    <tr>\n",
       "      <th>456</th>\n",
       "      <td>Feb-96</td>\n",
       "      <td>160000.0</td>\n",
       "      <td>18.41</td>\n",
       "      <td>Charged Off</td>\n",
       "      <td>11.982929</td>\n",
       "      <td>1996-02-01</td>\n",
       "    </tr>\n",
       "    <tr>\n",
       "      <th>641</th>\n",
       "      <td>Aug-97</td>\n",
       "      <td>89000.0</td>\n",
       "      <td>34.58</td>\n",
       "      <td>Charged Off</td>\n",
       "      <td>11.396392</td>\n",
       "      <td>1997-08-01</td>\n",
       "    </tr>\n",
       "  </tbody>\n",
       "</table>\n",
       "</div>"
      ],
      "text/plain": [
       "    earliest_cr_line  annual_inc    dti  loan_status  annual_inc_log  \\\n",
       "197           Nov-06     73320.0  17.02  Charged Off       11.202589   \n",
       "223           Jan-02     68000.0  31.68  Charged Off       11.127263   \n",
       "254           May-03    125000.0   6.20  Charged Off       11.736069   \n",
       "456           Feb-96    160000.0  18.41  Charged Off       11.982929   \n",
       "641           Aug-97     89000.0  34.58  Charged Off       11.396392   \n",
       "\n",
       "    earliest_cr_line_date  \n",
       "197            2006-11-01  \n",
       "223            2002-01-01  \n",
       "254            2003-05-01  \n",
       "456            1996-02-01  \n",
       "641            1997-08-01  "
      ]
     },
     "execution_count": 25,
     "metadata": {},
     "output_type": "execute_result"
    }
   ],
   "source": [
    "print bad_data_small_corr2.dtypes\n",
    "pd.set_option(\"display.max_rows\",100)\n",
    "bad_data_small_corr2.head()"
   ]
  },
  {
   "cell_type": "code",
   "execution_count": 26,
   "metadata": {
    "collapsed": false
   },
   "outputs": [],
   "source": [
    "# resetting index:\n",
    "bad_data_small_corr2 = bad_data_small_corr2.reset_index(drop=True)"
   ]
  },
  {
   "cell_type": "code",
   "execution_count": 27,
   "metadata": {
    "collapsed": false
   },
   "outputs": [
    {
     "data": {
      "text/plain": [
       "[<matplotlib.lines.Line2D at 0x1006352d0>]"
      ]
     },
     "execution_count": 27,
     "metadata": {},
     "output_type": "execute_result"
    },
    {
     "data": {
      "image/png": "[encoded data removed]",
      "text/plain": [
       "<matplotlib.figure.Figure at 0x111fe1550>"
      ]
     },
     "metadata": {},
     "output_type": "display_data"
    }
   ],
   "source": [
    "# plot shows outliers in x (date) that need to be fixed or removed.\n",
    "\n",
    "fig, axarr = plt.subplots(nrows = 2, ncols=1, sharex=True)\n",
    "axarr[0].plot_date(bad_data_small_corr2.earliest_cr_line_date, bad_data_small_corr2.annual_inc)\n",
    "axarr[0].set_title('Sharing X axis')\n",
    "axarr[1].plot_date(bad_data_small_corr2.earliest_cr_line_date, bad_data_small_corr2.dti)"
   ]
  },
  {
   "cell_type": "code",
   "execution_count": 28,
   "metadata": {
    "collapsed": false
   },
   "outputs": [
    {
     "name": "stdout",
     "output_type": "stream",
     "text": [
      "count of dates > 2016: 74\n",
      "count of all dates: 19953\n",
      "    earliest_cr_line  annual_inc    dti  loan_status  annual_inc_log  \\\n",
      "156           Jan-64     89000.0  31.28  Charged Off       11.396392   \n",
      "\n",
      "    earliest_cr_line_date  \n",
      "156            2064-01-01  \n"
     ]
    },
    {
     "data": {
      "text/plain": [
       "[<matplotlib.lines.Line2D at 0x11255a750>]"
      ]
     },
     "execution_count": 28,
     "metadata": {},
     "output_type": "execute_result"
    },
    {
     "data": {
      "image/png": "[encoded data removed]",
      "text/plain": [
       "<matplotlib.figure.Figure at 0x10ad37810>"
      ]
     },
     "metadata": {},
     "output_type": "display_data"
    }
   ],
   "source": [
    "# Cutting out dates > 2016\n",
    "print \"count of dates > 2016:\", len(bad_data_small_corr2[bad_data_small_corr2['earliest_cr_line_date'].dt.year > 2016])\n",
    "print \"count of all dates:\", len(bad_data_small_corr2['earliest_cr_line_date'])\n",
    "\n",
    "# 2012 is earliest correct year in dataset: \n",
    "print bad_data_small_corr2[bad_data_small_corr2['earliest_cr_line_date'].dt.year >= 2013].head(1)\n",
    "bd_final = bad_data_small_corr2[bad_data_small_corr2['earliest_cr_line_date'].dt.year <= 2012]\n",
    "\n",
    "bd_final.head()\n",
    "\n",
    "fig, axarr = plt.subplots(nrows = 2, ncols=1, sharex=True)\n",
    "axarr[0].plot_date(bd_final.earliest_cr_line_date, bd_final.annual_inc)\n",
    "axarr[0].set_title('Sharing X axis')\n",
    "axarr[1].plot_date(bd_final.earliest_cr_line_date, bd_final.dti)"
   ]
  },
  {
   "cell_type": "code",
   "execution_count": 29,
   "metadata": {
    "collapsed": false,
    "scrolled": true
   },
   "outputs": [
    {
     "name": "stdout",
     "output_type": "stream",
     "text": [
      "1969-05-01 00:00:00\n"
     ]
    },
    {
     "name": "stderr",
     "output_type": "stream",
     "text": [
      "/anaconda/lib/python2.7/site-packages/ipykernel/__main__.py:4: SettingWithCopyWarning: \n",
      "A value is trying to be set on a copy of a slice from a DataFrame.\n",
      "Try using .loc[row_indexer,col_indexer] = value instead\n",
      "\n",
      "See the caveats in the documentation: http://pandas.pydata.org/pandas-docs/stable/indexing.html#indexing-view-versus-copy\n",
      "/anaconda/lib/python2.7/site-packages/ipykernel/__main__.py:8: FutureWarning: \n",
      "The default value for 'return_type' will change to 'axes' in a future release.\n",
      " To use the future behavior now, set return_type='axes'.\n",
      " To keep the previous behavior and silence this warning, set return_type='dict'.\n"
     ]
    },
    {
     "data": {
      "text/plain": [
       "{'boxes': [<matplotlib.lines.Line2D at 0x112316790>],\n",
       " 'caps': [<matplotlib.lines.Line2D at 0x112325690>,\n",
       "  <matplotlib.lines.Line2D at 0x112325cd0>],\n",
       " 'fliers': [<matplotlib.lines.Line2D at 0x11232e990>],\n",
       " 'means': [],\n",
       " 'medians': [<matplotlib.lines.Line2D at 0x11232e350>],\n",
       " 'whiskers': [<matplotlib.lines.Line2D at 0x112316950>,\n",
       "  <matplotlib.lines.Line2D at 0x112325050>]}"
      ]
     },
     "execution_count": 29,
     "metadata": {},
     "output_type": "execute_result"
    },
    {
     "data": {
      "image/png": "[encoded data removed]",
      "text/plain": [
       "<matplotlib.figure.Figure at 0x112551e50>"
      ]
     },
     "metadata": {},
     "output_type": "display_data"
    }
   ],
   "source": [
    "# converting date to months since 05-1969, assuming an average of 365/12 = 30.42 in a month.\n",
    "print min(bd_final.earliest_cr_line_date)\n",
    "\n",
    "bd_final['months_since'] = ((bd_final.earliest_cr_line_date - pd.to_datetime('1969-05-01')).astype('timedelta64[D]'))/30.42\n",
    "#bd_final['months_since_log'] = np.log(bd_final[['months_since']])\n",
    "#del bd_final['months_since_log']\n",
    "\n",
    "bd_final[['months_since']].boxplot()\n"
   ]
  },
  {
   "cell_type": "code",
   "execution_count": 30,
   "metadata": {
    "collapsed": false
   },
   "outputs": [
    {
     "name": "stdout",
     "output_type": "stream",
     "text": [
      "Mean after standardization:\n",
      "annual_inc_log=-0.00000000000000032, dti=-0.00000000000000002, months_since=0.00000000000000040\n",
      "\n",
      "Standard deviation after standardization:\n",
      "annual_inc_log=1.00, dti=1.00, months_since=1.00\n"
     ]
    }
   ],
   "source": [
    "# Standardizing the data so that they have the properties of a standard normal distribution with\n",
    "# μ=0\n",
    "# and σ=1\n",
    "\n",
    "from sklearn import preprocessing\n",
    "\n",
    "std_scale = preprocessing.StandardScaler().fit(bd_final[['annual_inc_log', 'dti', 'months_since']])\n",
    "df_std = std_scale.transform(bd_final[['annual_inc_log', 'dti', 'months_since']])\n",
    "\n",
    "print('Mean after standardization:\\nannual_inc_log={:.17f}, dti={:.17f}, months_since={:.17f}'\n",
    "      .format(df_std[:,0].mean(), df_std[:,1].mean(), df_std[:,2].mean()))\n",
    "print('\\nStandard deviation after standardization:\\nannual_inc_log={:.2f}, dti={:.2f}, months_since={:.2f}'\n",
    "      .format(df_std[:,0].std(), df_std[:,1].std(), df_std[:,2].std()))"
   ]
  },
  {
   "cell_type": "code",
   "execution_count": 31,
   "metadata": {
    "collapsed": false,
    "scrolled": true
   },
   "outputs": [
    {
     "name": "stdout",
     "output_type": "stream",
     "text": [
      "   annual_inc_log       dti  months_since\n",
      "0        0.381372 -0.474205      0.972853\n",
      "1        0.237265  1.170515      0.289222\n",
      "2        1.401981 -1.688111      0.477076\n",
      "3        1.874253 -0.318259     -0.547790\n",
      "4        0.752139  1.495869     -0.335922\n"
     ]
    },
    {
     "data": {
      "text/plain": [
       "array([[<matplotlib.axes._subplots.AxesSubplot object at 0x10ad53310>,\n",
       "        <matplotlib.axes._subplots.AxesSubplot object at 0x115cb89d0>],\n",
       "       [<matplotlib.axes._subplots.AxesSubplot object at 0x115d47fd0>,\n",
       "        <matplotlib.axes._subplots.AxesSubplot object at 0x116006110>]], dtype=object)"
      ]
     },
     "execution_count": 31,
     "metadata": {},
     "output_type": "execute_result"
    },
    {
     "data": {
      "image/png": "[encoded data removed]",
      "text/plain": [
       "<matplotlib.figure.Figure at 0x11267da90>"
      ]
     },
     "metadata": {},
     "output_type": "display_data"
    }
   ],
   "source": [
    "bd_std = (pd.DataFrame(df_std, columns = ['annual_inc_log', 'dti', 'months_since']))\n",
    "print bd_std.head()\n",
    "bd_std.hist()"
   ]
  },
  {
   "cell_type": "code",
   "execution_count": 32,
   "metadata": {
    "collapsed": false
   },
   "outputs": [
    {
     "data": {
      "text/html": [
       "<div>\n",
       "<table border=\"1\" class=\"dataframe\">\n",
       "  <thead>\n",
       "    <tr style=\"text-align: right;\">\n",
       "      <th></th>\n",
       "      <th>annual_inc_log</th>\n",
       "      <th>dti</th>\n",
       "      <th>months_since</th>\n",
       "    </tr>\n",
       "  </thead>\n",
       "  <tbody>\n",
       "    <tr>\n",
       "      <th>0</th>\n",
       "      <td>0.381372</td>\n",
       "      <td>-0.474205</td>\n",
       "      <td>0.972853</td>\n",
       "    </tr>\n",
       "    <tr>\n",
       "      <th>1</th>\n",
       "      <td>0.237265</td>\n",
       "      <td>1.170515</td>\n",
       "      <td>0.289222</td>\n",
       "    </tr>\n",
       "    <tr>\n",
       "      <th>2</th>\n",
       "      <td>1.401981</td>\n",
       "      <td>-1.688111</td>\n",
       "      <td>0.477076</td>\n",
       "    </tr>\n",
       "    <tr>\n",
       "      <th>3</th>\n",
       "      <td>1.874253</td>\n",
       "      <td>-0.318259</td>\n",
       "      <td>-0.547790</td>\n",
       "    </tr>\n",
       "    <tr>\n",
       "      <th>4</th>\n",
       "      <td>0.752139</td>\n",
       "      <td>1.495869</td>\n",
       "      <td>-0.335922</td>\n",
       "    </tr>\n",
       "  </tbody>\n",
       "</table>\n",
       "</div>"
      ],
      "text/plain": [
       "   annual_inc_log       dti  months_since\n",
       "0        0.381372 -0.474205      0.972853\n",
       "1        0.237265  1.170515      0.289222\n",
       "2        1.401981 -1.688111      0.477076\n",
       "3        1.874253 -0.318259     -0.547790\n",
       "4        0.752139  1.495869     -0.335922"
      ]
     },
     "execution_count": 32,
     "metadata": {},
     "output_type": "execute_result"
    }
   ],
   "source": [
    "bd_std.head()"
   ]
  },
  {
   "cell_type": "code",
   "execution_count": 33,
   "metadata": {
    "collapsed": false,
    "scrolled": true
   },
   "outputs": [
    {
     "name": "stdout",
     "output_type": "stream",
     "text": [
      "19879\n"
     ]
    },
    {
     "name": "stderr",
     "output_type": "stream",
     "text": [
      "/anaconda/lib/python2.7/site-packages/ipykernel/__main__.py:9: SettingWithCopyWarning: \n",
      "A value is trying to be set on a copy of a slice from a DataFrame.\n",
      "Try using .loc[row_indexer,col_indexer] = value instead\n",
      "\n",
      "See the caveats in the documentation: http://pandas.pydata.org/pandas-docs/stable/indexing.html#indexing-view-versus-copy\n"
     ]
    }
   ],
   "source": [
    "# maping categorical label to numerical in order to perform logistic regression analysis: Charged Off = 0, Default = 1\n",
    "\n",
    "# Initialize label encoder\n",
    "from sklearn import preprocessing\n",
    "label_encoder = preprocessing.LabelEncoder()\n",
    "\n",
    "# Creating labels\n",
    "encoded_status = label_encoder.fit_transform(bd_final['loan_status'])\n",
    "bd_final['encoded_status'] = encoded_status\n",
    "\n",
    "bd_final.head()\n",
    "print len(encoded_status)"
   ]
  },
  {
   "cell_type": "code",
   "execution_count": 34,
   "metadata": {
    "collapsed": false,
    "scrolled": true
   },
   "outputs": [
    {
     "name": "stdout",
     "output_type": "stream",
     "text": [
      "19879\n",
      "Count charged off: 19385\n",
      "Count default: 420\n"
     ]
    },
    {
     "data": {
      "image/png": "[encoded data removed]",
      "text/plain": [
       "<matplotlib.figure.Figure at 0x11617c8d0>"
      ]
     },
     "metadata": {},
     "output_type": "display_data"
    }
   ],
   "source": [
    "bd_std_final = bd_std.join(bd_final['encoded_status'])\n",
    "bd_std_final.hist()\n",
    "\n",
    "# Unequal ratio between charged off and default status.\n",
    "print len(bd_std_final.encoded_status)\n",
    "print 'Count charged off:',len(bd_std_final[bd_std_final.encoded_status == 0])\n",
    "print 'Count default:',len(bd_std_final[bd_std_final.encoded_status == 1])"
   ]
  },
  {
   "cell_type": "code",
   "execution_count": 35,
   "metadata": {
    "collapsed": false,
    "scrolled": true
   },
   "outputs": [],
   "source": [
    "#bd_std_final.plot(kind='scatter', x=bd_std_final.annual_inc_log, y=bd_std_final.months_since)"
   ]
  },
  {
   "cell_type": "markdown",
   "metadata": {},
   "source": [
    "# defining the predictive relationship between earliest_cr_line, annual_inc, and dti on probability of default"
   ]
  },
  {
   "cell_type": "markdown",
   "metadata": {},
   "source": [
    "# Logistic Regression"
   ]
  },
  {
   "cell_type": "code",
   "execution_count": 36,
   "metadata": {
    "collapsed": false
   },
   "outputs": [
    {
     "data": {
      "text/html": [
       "<div>\n",
       "<table border=\"1\" class=\"dataframe\">\n",
       "  <thead>\n",
       "    <tr style=\"text-align: right;\">\n",
       "      <th></th>\n",
       "      <th>earliest_cr_line</th>\n",
       "      <th>annual_inc</th>\n",
       "      <th>dti</th>\n",
       "      <th>loan_status</th>\n",
       "      <th>annual_inc_log</th>\n",
       "      <th>earliest_cr_line_date</th>\n",
       "      <th>months_since</th>\n",
       "      <th>encoded_status</th>\n",
       "    </tr>\n",
       "  </thead>\n",
       "  <tbody>\n",
       "    <tr>\n",
       "      <th>0</th>\n",
       "      <td>Nov-06</td>\n",
       "      <td>73320.0</td>\n",
       "      <td>17.02</td>\n",
       "      <td>Charged Off</td>\n",
       "      <td>11.202589</td>\n",
       "      <td>2006-11-01</td>\n",
       "      <td>450.295858</td>\n",
       "      <td>0</td>\n",
       "    </tr>\n",
       "    <tr>\n",
       "      <th>1</th>\n",
       "      <td>Jan-02</td>\n",
       "      <td>68000.0</td>\n",
       "      <td>31.68</td>\n",
       "      <td>Charged Off</td>\n",
       "      <td>11.127263</td>\n",
       "      <td>2002-01-01</td>\n",
       "      <td>392.274819</td>\n",
       "      <td>0</td>\n",
       "    </tr>\n",
       "    <tr>\n",
       "      <th>2</th>\n",
       "      <td>May-03</td>\n",
       "      <td>125000.0</td>\n",
       "      <td>6.20</td>\n",
       "      <td>Charged Off</td>\n",
       "      <td>11.736069</td>\n",
       "      <td>2003-05-01</td>\n",
       "      <td>408.218277</td>\n",
       "      <td>0</td>\n",
       "    </tr>\n",
       "    <tr>\n",
       "      <th>3</th>\n",
       "      <td>Feb-96</td>\n",
       "      <td>160000.0</td>\n",
       "      <td>18.41</td>\n",
       "      <td>Charged Off</td>\n",
       "      <td>11.982929</td>\n",
       "      <td>1996-02-01</td>\n",
       "      <td>321.236029</td>\n",
       "      <td>0</td>\n",
       "    </tr>\n",
       "    <tr>\n",
       "      <th>4</th>\n",
       "      <td>Aug-97</td>\n",
       "      <td>89000.0</td>\n",
       "      <td>34.58</td>\n",
       "      <td>Charged Off</td>\n",
       "      <td>11.396392</td>\n",
       "      <td>1997-08-01</td>\n",
       "      <td>339.217620</td>\n",
       "      <td>0</td>\n",
       "    </tr>\n",
       "  </tbody>\n",
       "</table>\n",
       "</div>"
      ],
      "text/plain": [
       "  earliest_cr_line  annual_inc    dti  loan_status  annual_inc_log  \\\n",
       "0           Nov-06     73320.0  17.02  Charged Off       11.202589   \n",
       "1           Jan-02     68000.0  31.68  Charged Off       11.127263   \n",
       "2           May-03    125000.0   6.20  Charged Off       11.736069   \n",
       "3           Feb-96    160000.0  18.41  Charged Off       11.982929   \n",
       "4           Aug-97     89000.0  34.58  Charged Off       11.396392   \n",
       "\n",
       "  earliest_cr_line_date  months_since  encoded_status  \n",
       "0            2006-11-01    450.295858               0  \n",
       "1            2002-01-01    392.274819               0  \n",
       "2            2003-05-01    408.218277               0  \n",
       "3            1996-02-01    321.236029               0  \n",
       "4            1997-08-01    339.217620               0  "
      ]
     },
     "execution_count": 36,
     "metadata": {},
     "output_type": "execute_result"
    }
   ],
   "source": [
    "bd_final.head()"
   ]
  },
  {
   "cell_type": "code",
   "execution_count": 37,
   "metadata": {
    "collapsed": false
   },
   "outputs": [
    {
     "name": "stdout",
     "output_type": "stream",
     "text": [
      "Index([u'Intercept', u'annual_inc_log', u'dti', u'months_since'], dtype='object')\n",
      "['Charged Off', 'Default']\n",
      "Charged Off: 0, defualt: 1\n"
     ]
    },
    {
     "name": "stderr",
     "output_type": "stream",
     "text": [
      "//anaconda/lib/python2.7/site-packages/sklearn/cross_validation.py:44: DeprecationWarning: This module was deprecated in version 0.18 in favor of the model_selection module into which all the refactored classes and functions are moved. Also note that the interface of the new CV iterators are different from that of this module. This module will be removed in 0.20.\n",
      "  \"This module will be removed in 0.20.\", DeprecationWarning)\n"
     ]
    }
   ],
   "source": [
    "import numpy as np\n",
    "from patsy import dmatrices\n",
    "from sklearn.cross_validation import train_test_split\n",
    "\n",
    "y, X = dmatrices('encoded_status ~ annual_inc_log + dti + months_since', bd_final, return_type=\"dataframe\")\n",
    "\n",
    "print X.columns\n",
    "y = np.ravel(y)\n",
    "print list(label_encoder.inverse_transform([0,1]))\n",
    "print \"Charged Off: 0, defualt: 1\""
   ]
  },
  {
   "cell_type": "code",
   "execution_count": 38,
   "metadata": {
    "collapsed": false
   },
   "outputs": [],
   "source": [
    "# Classes are not equally balanced, so we will want to stratisfy the data:\n",
    "from sklearn import cross_validation, datasets \n",
    "Xlr, Xtestlr, ylr, ytestlr = train_test_split(X,y,train_size=.8,stratify=y)"
   ]
  },
  {
   "cell_type": "markdown",
   "metadata": {},
   "source": [
    "from sklearn.model_selection import StratifiedKFold\n",
    "skf = StratifiedKFold(n_splits=3)\n",
    "\n",
    "for train, test in skf.split(X, y):\n",
    "    print(\"%s %s\" % (train, test))\n",
    "#Xlr, Xtestlr, ylr, ytestlr = skf.split(X, y)"
   ]
  },
  {
   "cell_type": "code",
   "execution_count": 39,
   "metadata": {
    "collapsed": false
   },
   "outputs": [
    {
     "name": "stderr",
     "output_type": "stream",
     "text": [
      "//anaconda/lib/python2.7/site-packages/sklearn/grid_search.py:43: DeprecationWarning: This module was deprecated in version 0.18 in favor of the model_selection module into which all the refactored classes and functions are moved. This module will be removed in 0.20.\n",
      "  DeprecationWarning)\n"
     ]
    },
    {
     "data": {
      "text/plain": [
       "(LogisticRegression(C=100, class_weight='balanced', dual=False,\n",
       "           fit_intercept=False, intercept_scaling=1, max_iter=100,\n",
       "           multi_class='ovr', n_jobs=1, penalty='l2', random_state=None,\n",
       "           solver='liblinear', tol=0.0001, verbose=0, warm_start=False),\n",
       " {'C': 100},\n",
       " 0.525938502169402,\n",
       " [mean: 0.50009, std: 0.03593, params: {'C': 0.0001},\n",
       "  mean: 0.49010, std: 0.02673, params: {'C': 0.001},\n",
       "  mean: 0.51078, std: 0.00709, params: {'C': 0.1},\n",
       "  mean: 0.52292, std: 0.01280, params: {'C': 1},\n",
       "  mean: 0.52544, std: 0.01428, params: {'C': 10},\n",
       "  mean: 0.52594, std: 0.01399, params: {'C': 100}])"
      ]
     },
     "execution_count": 39,
     "metadata": {},
     "output_type": "execute_result"
    }
   ],
   "source": [
    "#from sklearn.linear_model import LogisticRegression\n",
    "import sklearn.linear_model as lm\n",
    "from sklearn.grid_search import GridSearchCV\n",
    "from sklearn import svm, datasets\n",
    "\n",
    "clfl2=lm.LogisticRegression(class_weight='balanced', fit_intercept=False)  # class_weight='balanced' should weight unbalanced classes evenly. \n",
    "parameters = {\"C\": [0.0001, 0.001, 0.1, 1, 10, 100]}\n",
    "fitmodel = GridSearchCV(clfl2, param_grid=parameters, cv=5, scoring=\"accuracy\")\n",
    "fitmodel.fit(Xlr, ylr)\n",
    "fitmodel.best_estimator_, fitmodel.best_params_, fitmodel.best_score_, fitmodel.grid_scores_"
   ]
  },
  {
   "cell_type": "markdown",
   "metadata": {},
   "source": [
    "from sklearn.grid_search import GridSearchCV\n",
    "from sklearn import svm, datasets\n",
    "clfl2=LogisticRegression(class_weight='auto')\n",
    "parameters = {'kernel':('linear', 'rbf')}\n",
    "svr = svm.SVC()\n",
    "fitmodel = GridSearchCV(svr, param_grid=parameters, cv=5, scoring=\"accuracy\")\n",
    "fitmodel.fit(X, y)\n",
    "fitmodel.best_estimator_, fitmodel.best_params_, fitmodel.best_score_, fitmodel.grid_scores_"
   ]
  },
  {
   "cell_type": "markdown",
   "metadata": {},
   "source": [
    "# Answer #3"
   ]
  },
  {
   "cell_type": "code",
   "execution_count": 40,
   "metadata": {
    "collapsed": false
   },
   "outputs": [
    {
     "name": "stdout",
     "output_type": "stream",
     "text": [
      "[  Charged Off    Default]\n",
      "[[ 0.49239545  0.50760455]\n",
      " [ 0.5112793   0.4887207 ]\n",
      " [ 0.48806007  0.51193993]\n",
      " ..., \n",
      " [ 0.48877448  0.51122552]\n",
      " [ 0.5265367   0.4734633 ]\n",
      " [ 0.51121796  0.48878204]]\n",
      "-------------------------------------\n",
      "accuracy of model: 0.506036217304\n",
      "roc_auc: 0.492741521069\n",
      "-------------------------------------\n",
      "confusion matrix:\n",
      "[[1978   50]\n",
      " [1914   34]]\n",
      "-------------------------------------\n",
      "precision vs recall:\n",
      "             precision    recall  f1-score   support\n",
      "\n",
      "Charged Off       0.51      0.98      0.67      2028\n",
      "    default       0.40      0.02      0.03      1948\n",
      "\n",
      "avg / total       0.46      0.51      0.36      3976\n",
      "\n",
      "Precision: measure of a classifiers exactness\n",
      "Recall: measure of a classifiers completeness\n",
      "f1-score: the harmonic mean of precision and recall\n",
      "support: number of samples of the true response that lie in that class\n"
     ]
    }
   ],
   "source": [
    "from sklearn import metrics\n",
    "from sklearn.metrics import accuracy_score\n",
    "\n",
    "clfl2=lm.LogisticRegression(C=fitmodel.best_params_['C'], class_weight='balanced')\n",
    "clfl2.fit(Xlr, ylr)\n",
    "ypred2=clfl2.predict(Xtestlr)\n",
    "print \"[  Charged Off    Default]\"\n",
    "probs = clfl2.predict_proba(Xtestlr)\n",
    "print probs\n",
    "print \"-------------------------------------\"\n",
    "print 'accuracy of model:', accuracy_score(ypred2, ytestlr) \n",
    "print 'roc_auc:', metrics.roc_auc_score(ytestlr, probs[:, 1]) # area under the curve very low (i.e. 0.47) due to unbalanced classes\n",
    "\n",
    "# ROC_AUC_score:\n",
    "# if the classifier is very good, the true positive rate will increase quickly and the area under the curve will be \n",
    "# close to 1. If the classifier is no better than random guessing, the true positive rate will increase linearly \n",
    "# with the false positive rate and the area under the curve will be around 0.5.\n",
    "# One characteristic of the AUC is that it is independent of the fraction of the test population which is class 0 or class 1: \n",
    "# which is useful here since our classifiers are unbalanced.\n",
    "\n",
    "print \"-------------------------------------\"\n",
    "print \"confusion matrix:\"\n",
    "print metrics.confusion_matrix(ypred2, ytestlr)\n",
    "print \"-------------------------------------\"\n",
    "print \"precision vs recall:\"\n",
    "print metrics.classification_report(ypred2, ytestlr, target_names = ['Charged Off', 'default'])\n",
    "\n",
    "print \"Precision: measure of a classifiers exactness\"\n",
    "print \"Recall: measure of a classifiers completeness\" \n",
    "#... recall is very low (i.e 0) on defualt since we have unbalanced classes.\n",
    "print \"f1-score: the harmonic mean of precision and recall\"\n",
    "print \"support: number of samples of the true response that lie in that class\""
   ]
  },
  {
   "cell_type": "code",
   "execution_count": 41,
   "metadata": {
    "collapsed": false
   },
   "outputs": [
    {
     "data": {
      "text/html": [
       "<div>\n",
       "<table border=\"1\" class=\"dataframe\">\n",
       "  <thead>\n",
       "    <tr style=\"text-align: right;\">\n",
       "      <th></th>\n",
       "      <th>annual_inc_log</th>\n",
       "      <th>dti</th>\n",
       "      <th>months_since</th>\n",
       "    </tr>\n",
       "  </thead>\n",
       "  <tbody>\n",
       "    <tr>\n",
       "      <th>annual_inc_log</th>\n",
       "      <td>1.000000</td>\n",
       "      <td>-0.225016</td>\n",
       "      <td>-0.166022</td>\n",
       "    </tr>\n",
       "    <tr>\n",
       "      <th>dti</th>\n",
       "      <td>-0.225016</td>\n",
       "      <td>1.000000</td>\n",
       "      <td>-0.054496</td>\n",
       "    </tr>\n",
       "    <tr>\n",
       "      <th>months_since</th>\n",
       "      <td>-0.166022</td>\n",
       "      <td>-0.054496</td>\n",
       "      <td>1.000000</td>\n",
       "    </tr>\n",
       "  </tbody>\n",
       "</table>\n",
       "</div>"
      ],
      "text/plain": [
       "                annual_inc_log       dti  months_since\n",
       "annual_inc_log        1.000000 -0.225016     -0.166022\n",
       "dti                  -0.225016  1.000000     -0.054496\n",
       "months_since         -0.166022 -0.054496      1.000000"
      ]
     },
     "execution_count": 41,
     "metadata": {},
     "output_type": "execute_result"
    }
   ],
   "source": [
    "# a negative but low correlation ( person's r = -0.225) exists between annual_inc and dti\n",
    "# a negative but low correlation ( person's r = -0.166) exists between annual_inc and months_since\n",
    "# a negative but very low correlation ( person's r = -0.054) exists between dti and months_since\n",
    "\n",
    "bd_final[['annual_inc_log','dti','months_since']].corr(method='pearson')"
   ]
  },
  {
   "cell_type": "code",
   "execution_count": 42,
   "metadata": {
    "collapsed": false
   },
   "outputs": [
    {
     "data": {
      "text/html": [
       "<div>\n",
       "<table border=\"1\" class=\"dataframe\">\n",
       "  <thead>\n",
       "    <tr style=\"text-align: right;\">\n",
       "      <th></th>\n",
       "      <th>0</th>\n",
       "      <th>1</th>\n",
       "    </tr>\n",
       "  </thead>\n",
       "  <tbody>\n",
       "    <tr>\n",
       "      <th>0</th>\n",
       "      <td>annual_inc_log</td>\n",
       "      <td>[-0.896869571177]</td>\n",
       "    </tr>\n",
       "    <tr>\n",
       "      <th>1</th>\n",
       "      <td>dti</td>\n",
       "      <td>[0.167845780973]</td>\n",
       "    </tr>\n",
       "    <tr>\n",
       "      <th>2</th>\n",
       "      <td>months_since</td>\n",
       "      <td>[-0.00354254255777]</td>\n",
       "    </tr>\n",
       "  </tbody>\n",
       "</table>\n",
       "</div>"
      ],
      "text/plain": [
       "                0                    1\n",
       "0  annual_inc_log    [-0.896869571177]\n",
       "1             dti     [0.167845780973]\n",
       "2    months_since  [-0.00354254255777]"
      ]
     },
     "execution_count": 42,
     "metadata": {},
     "output_type": "execute_result"
    }
   ],
   "source": [
    "# Regression coefficients represent the mean change in the response variable (i.e. default) for one unit of change in \n",
    "# the predictor variable (e.g. dti), while holding other predictors (e.g. annual_inc_log, months_since) in the model \n",
    "# constant. \n",
    "\n",
    "# for example, dti increases the likelihood of defualting, all else equal, by 0.10.\n",
    "\n",
    "# Unfortunatly, the problem that remains is that my model is extremely biased toward predicting a charged off outcome...\n",
    "import sklearn.linear_model as lm\n",
    "coefficients = pd.DataFrame(zip(bd_final[['annual_inc_log','dti','months_since']].columns, np.transpose(clfl2.coef_)))\n",
    "coefficients"
   ]
  },
  {
   "cell_type": "markdown",
   "metadata": {},
   "source": [
    "# 4.\tWhat is the frequency of “bad loan” within the grades provided by the lending club? Provide a graphic summarizing your results. How do you interpret these results?"
   ]
  },
  {
   "cell_type": "code",
   "execution_count": 43,
   "metadata": {
    "collapsed": false
   },
   "outputs": [
    {
     "data": {
      "text/plain": [
       "loan_status    421095\n",
       "dtype: int64"
      ]
     },
     "execution_count": 43,
     "metadata": {},
     "output_type": "execute_result"
    }
   ],
   "source": [
    "gloan_data.sum()"
   ]
  },
  {
   "cell_type": "code",
   "execution_count": 44,
   "metadata": {
    "collapsed": false
   },
   "outputs": [
    {
     "data": {
      "text/plain": [
       "array(['Current', 'Fully Paid', 'Late (31-120 days)', 'Late (16-30 days)',\n",
       "       'In Grace Period', 'Charged Off', 'Default', nan], dtype=object)"
      ]
     },
     "execution_count": 44,
     "metadata": {},
     "output_type": "execute_result"
    }
   ],
   "source": [
    "loan_data.loan_status.unique()"
   ]
  },
  {
   "cell_type": "code",
   "execution_count": 69,
   "metadata": {
    "collapsed": false
   },
   "outputs": [],
   "source": [
    "# Combining Default and Charged off loans to created \"Bad Loan\" category:\n",
    "\n",
    "bl_rename = loan_data.loan_status.replace(['Current', 'Fully Paid', 'Late (31-120 days)', 'Late (16-30 days)', \\\n",
    "                               'In Grace Period', 'Charged Off', 'Default'\n",
    "                              ], \\\n",
    "                               ['Current', 'Fully Paid', 'Late (31-120 days)', 'Late (16-30 days)', \\\n",
    "                                'In Grace Period', 'Bad_Loan', 'Bad_Loan'\n",
    "                               ])\n"
   ]
  },
  {
   "cell_type": "code",
   "execution_count": 46,
   "metadata": {
    "collapsed": false
   },
   "outputs": [
    {
     "data": {
      "text/plain": [
       "array(['Current', 'Fully Paid', 'Late (31-120 days)', 'Late (16-30 days)',\n",
       "       'In Grace Period', 'Bad_Loan', nan], dtype=object)"
      ]
     },
     "execution_count": 46,
     "metadata": {},
     "output_type": "execute_result"
    }
   ],
   "source": [
    "bl_rename = pd.DataFrame(bl_rename)\n",
    "bl_rename.loan_status.unique()"
   ]
  },
  {
   "cell_type": "markdown",
   "metadata": {},
   "source": [
    "# Answer #4"
   ]
  },
  {
   "cell_type": "code",
   "execution_count": 47,
   "metadata": {
    "collapsed": false
   },
   "outputs": [
    {
     "name": "stdout",
     "output_type": "stream",
     "text": [
      "                    loan_status\n",
      "loan_status                    \n",
      "Bad_Loan                  19956\n",
      "Current                  317232\n",
      "Fully Paid                67748\n",
      "In Grace Period            3860\n",
      "Late (16-30 days)          2487\n",
      "Late (31-120 days)         9812\n"
     ]
    },
    {
     "data": {
      "image/png": "[encoded data removed]",
      "text/plain": [
       "<matplotlib.figure.Figure at 0x117ef3110>"
      ]
     },
     "metadata": {},
     "output_type": "display_data"
    }
   ],
   "source": [
    "# bar graph displaying of counts of unique loans types:\n",
    "\n",
    "gbl_rename = bl_rename[['loan_status']].groupby([bl_rename['loan_status']]).count()\n",
    "ax = gbl_rename.plot(kind = 'bar')\n",
    "ax.set_title(\"Amount Frequency\")\n",
    "ax.set_xlabel(\"Loan Type\")\n",
    "ax.set_ylabel(\"Frequency\")\n",
    "print gbl_rename"
   ]
  },
  {
   "cell_type": "code",
   "execution_count": 48,
   "metadata": {
    "collapsed": false
   },
   "outputs": [
    {
     "name": "stdout",
     "output_type": "stream",
     "text": [
      "Total count bad loans: loan_status    421095\n",
      "dtype: int64\n",
      "% of the time Bad Loans occur: loan_status    4.739073\n",
      "dtype: float64\n"
     ]
    }
   ],
   "source": [
    "# Frequency of Bad Loans = Bad loans / Total loans :\n",
    "gbl_sum = gbl_rename.sum()\n",
    "print \"Total count bad loans:\", gbl_sum\n",
    "print \"% of the time Bad Loans occur:\", (gbl_rename['loan_status']['Bad_Loan']/gbl_sum)*100"
   ]
  },
  {
   "cell_type": "markdown",
   "metadata": {},
   "source": [
    "# 5.\tSelect one of the below topics and explain it to: \n",
    "a.\tSomeone with significant mathematical experience, and \n",
    "b.\tSomeone with little mathematical experience. You can use graphics/diagrams if you wish.\n",
    "\n",
    "Topic: Logistic regression\n",
    "\n",
    "a. Logistic regression measures the relationship between the categorical dependent variable and one or more independent variables by estimating probabilities using an sigmoid shaped distribution function. This function constrains the estimated probabilities to lie between 0 and 1. Additionally, the logistic regression model is a non-linear transformation of linear regression.\n",
    "\n",
    "b. Logistic Regression is used to classify data into given categories, where the category type is dependent upon a data point's particular attributes. For example, say a clothing store owner would like to predict a new customer's t-shirt size (i.e. small, medium or large) based on that customer's height. \n",
    "Given a sample of people with known t-shirt sizes and heights, he could use logistic regression to predict a new \n",
    "customer's t-shirt size based on their given height."
   ]
  },
  {
   "cell_type": "markdown",
   "metadata": {},
   "source": [
    "# Set B1 (answer at least one question) \n",
    "1. LC uses a number of variables to determine the pricing for its loans. Review and attempt to explain the relationship between the \n",
    "a) sub_grade\n",
    "b) the int_rate\n",
    "c) the loan_amnt, and d) the loan term (variable= term). \n"
   ]
  },
  {
   "cell_type": "code",
   "execution_count": 49,
   "metadata": {
    "collapsed": false
   },
   "outputs": [
    {
     "data": {
      "text/html": [
       "<div>\n",
       "<table border=\"1\" class=\"dataframe\">\n",
       "  <thead>\n",
       "    <tr style=\"text-align: right;\">\n",
       "      <th></th>\n",
       "      <th>sub_grade</th>\n",
       "      <th>int_rate</th>\n",
       "      <th>loan_amnt</th>\n",
       "      <th>term</th>\n",
       "    </tr>\n",
       "  </thead>\n",
       "  <tbody>\n",
       "    <tr>\n",
       "      <th>421092</th>\n",
       "      <td>D2</td>\n",
       "      <td>15.99%</td>\n",
       "      <td>13000.0</td>\n",
       "      <td>60 months</td>\n",
       "    </tr>\n",
       "    <tr>\n",
       "      <th>421093</th>\n",
       "      <td>E3</td>\n",
       "      <td>19.99%</td>\n",
       "      <td>12000.0</td>\n",
       "      <td>60 months</td>\n",
       "    </tr>\n",
       "    <tr>\n",
       "      <th>421094</th>\n",
       "      <td>B5</td>\n",
       "      <td>11.99%</td>\n",
       "      <td>20000.0</td>\n",
       "      <td>36 months</td>\n",
       "    </tr>\n",
       "    <tr>\n",
       "      <th>421095</th>\n",
       "      <td>NaN</td>\n",
       "      <td>NaN</td>\n",
       "      <td>NaN</td>\n",
       "      <td>NaN</td>\n",
       "    </tr>\n",
       "    <tr>\n",
       "      <th>421096</th>\n",
       "      <td>NaN</td>\n",
       "      <td>NaN</td>\n",
       "      <td>NaN</td>\n",
       "      <td>NaN</td>\n",
       "    </tr>\n",
       "  </tbody>\n",
       "</table>\n",
       "</div>"
      ],
      "text/plain": [
       "       sub_grade int_rate  loan_amnt        term\n",
       "421092        D2   15.99%    13000.0   60 months\n",
       "421093        E3   19.99%    12000.0   60 months\n",
       "421094        B5   11.99%    20000.0   36 months\n",
       "421095       NaN      NaN        NaN         NaN\n",
       "421096       NaN      NaN        NaN         NaN"
      ]
     },
     "execution_count": 49,
     "metadata": {},
     "output_type": "execute_result"
    }
   ],
   "source": [
    "pricing_df = loan_data[['sub_grade', 'int_rate', 'loan_amnt','term']]\n",
    "pricing_df.tail()"
   ]
  },
  {
   "cell_type": "markdown",
   "metadata": {},
   "source": [
    "# Cleaning columns"
   ]
  },
  {
   "cell_type": "code",
   "execution_count": 51,
   "metadata": {
    "collapsed": false
   },
   "outputs": [
    {
     "name": "stdout",
     "output_type": "stream",
     "text": [
      "421097\n",
      "421096\n"
     ]
    }
   ],
   "source": [
    "int_rate_clean = []\n",
    "try:\n",
    "    for item in pricing_df.int_rate:\n",
    "        int_rate_clean.append(float(item[0:-1]))\n",
    "except:\n",
    "    #pass\n",
    "    int_rate_clean.append(0)\n",
    "print len(pricing_df.int_rate)\n",
    "print len(pd.DataFrame(int_rate_clean))\n",
    "int_rate_clean = pd.DataFrame(int_rate_clean, columns=['int_clean'])"
   ]
  },
  {
   "cell_type": "code",
   "execution_count": 52,
   "metadata": {
    "collapsed": false,
    "scrolled": true
   },
   "outputs": [],
   "source": [
    "pricing_df_a = int_rate_clean.join(pricing_df)"
   ]
  },
  {
   "cell_type": "code",
   "execution_count": 53,
   "metadata": {
    "collapsed": false
   },
   "outputs": [
    {
     "data": {
      "text/plain": [
       "int_clean    float64\n",
       "sub_grade     object\n",
       "int_rate      object\n",
       "loan_amnt    float64\n",
       "term          object\n",
       "dtype: object"
      ]
     },
     "execution_count": 53,
     "metadata": {},
     "output_type": "execute_result"
    }
   ],
   "source": [
    "pricing_df_a.dtypes"
   ]
  },
  {
   "cell_type": "code",
   "execution_count": 54,
   "metadata": {
    "collapsed": false
   },
   "outputs": [
    {
     "name": "stdout",
     "output_type": "stream",
     "text": [
      "421096\n",
      "421096\n"
     ]
    }
   ],
   "source": [
    "term_count = []\n",
    "try:\n",
    "    for item in pricing_df.term:\n",
    "        term_count.append(float(item[0:-6]))\n",
    "except:\n",
    "    #pass\n",
    "    term_count.append(0)\n",
    "print len(pricing_df_a.term)\n",
    "print len(pd.DataFrame(term_count))\n",
    "term_count_df = pd.DataFrame(term_count, columns=['term_count'])"
   ]
  },
  {
   "cell_type": "code",
   "execution_count": 103,
   "metadata": {
    "collapsed": false
   },
   "outputs": [],
   "source": [
    "pricing_df_b = term_count_df.join(pricing_df_a)"
   ]
  },
  {
   "cell_type": "code",
   "execution_count": 104,
   "metadata": {
    "collapsed": false
   },
   "outputs": [
    {
     "name": "stdout",
     "output_type": "stream",
     "text": [
      "term_count    float64\n",
      "int_clean     float64\n",
      "sub_grade      object\n",
      "int_rate       object\n",
      "loan_amnt     float64\n",
      "term           object\n",
      "dtype: object\n"
     ]
    },
    {
     "data": {
      "text/plain": [
       "array(['A1', 'A2', 'A3', 'A4', 'A5', 'B1', 'B2', 'B3', 'B4', 'B5', 'C1',\n",
       "       'C2', 'C3', 'C4', 'C5', 'D1', 'D2', 'D3', 'D4', 'D5', 'E1', 'E2',\n",
       "       'E3', 'E4', 'E5', 'F1', 'F2', 'F3', 'F4', 'F5', 'G1', 'G2', 'G3',\n",
       "       'G4', 'G5', nan], dtype=object)"
      ]
     },
     "execution_count": 104,
     "metadata": {},
     "output_type": "execute_result"
    }
   ],
   "source": [
    "print pricing_df_b.dtypes\n",
    "pricing_df_b.sub_grade.sort_values().unique()\n",
    "# can convert this to matrix of 1 and zeros"
   ]
  },
  {
   "cell_type": "code",
   "execution_count": 105,
   "metadata": {
    "collapsed": false
   },
   "outputs": [],
   "source": [
    "# Combining categories to make result more manageable:\n",
    "\n",
    "sub_grade_rename = pricing_df_b.sub_grade.replace(['A1', 'A2', 'A3', 'A4', 'A5', 'B1', 'B2', 'B3', 'B4', 'B5', 'C1',\n",
    "       'C2', 'C3', 'C4', 'C5', 'D1', 'D2', 'D3', 'D4', 'D5', 'E1', 'E2',\n",
    "       'E3', 'E4', 'E5', 'F1', 'F2', 'F3', 'F4', 'F5', 'G1', 'G2', 'G3',\n",
    "       'G4', 'G5'], \\\n",
    "                               ['A', 'A', 'A', 'A', 'A', 'B', 'B', 'B', 'B', 'B', 'C',\n",
    "       'C', 'C', 'C', 'C', 'D', 'D', 'D', 'D', 'D', 'E', 'E',\n",
    "       'E', 'E', 'E', 'F', 'F', 'F', 'F', 'F', 'G', 'G', 'G',\n",
    "       'G', 'G'])"
   ]
  },
  {
   "cell_type": "code",
   "execution_count": 106,
   "metadata": {
    "collapsed": false
   },
   "outputs": [],
   "source": [
    "pricing_df_b['sub_grade_rename'] = sub_grade_rename"
   ]
  },
  {
   "cell_type": "code",
   "execution_count": 119,
   "metadata": {
    "collapsed": false
   },
   "outputs": [
    {
     "data": {
      "text/html": [
       "<div>\n",
       "<table border=\"1\" class=\"dataframe\">\n",
       "  <thead>\n",
       "    <tr style=\"text-align: right;\">\n",
       "      <th></th>\n",
       "      <th>term_count</th>\n",
       "      <th>int_clean</th>\n",
       "      <th>sub_grade</th>\n",
       "      <th>int_rate</th>\n",
       "      <th>loan_amnt</th>\n",
       "      <th>term</th>\n",
       "      <th>sub_grade_rename</th>\n",
       "    </tr>\n",
       "  </thead>\n",
       "  <tbody>\n",
       "    <tr>\n",
       "      <th>0</th>\n",
       "      <td>36.0</td>\n",
       "      <td>5.32</td>\n",
       "      <td>A1</td>\n",
       "      <td>5.32%</td>\n",
       "      <td>12000.0</td>\n",
       "      <td>36 months</td>\n",
       "      <td>A</td>\n",
       "    </tr>\n",
       "    <tr>\n",
       "      <th>1</th>\n",
       "      <td>36.0</td>\n",
       "      <td>12.88</td>\n",
       "      <td>C2</td>\n",
       "      <td>12.88%</td>\n",
       "      <td>1400.0</td>\n",
       "      <td>36 months</td>\n",
       "      <td>C</td>\n",
       "    </tr>\n",
       "    <tr>\n",
       "      <th>2</th>\n",
       "      <td>60.0</td>\n",
       "      <td>10.78</td>\n",
       "      <td>B4</td>\n",
       "      <td>10.78%</td>\n",
       "      <td>20000.0</td>\n",
       "      <td>60 months</td>\n",
       "      <td>B</td>\n",
       "    </tr>\n",
       "    <tr>\n",
       "      <th>3</th>\n",
       "      <td>60.0</td>\n",
       "      <td>13.99</td>\n",
       "      <td>C4</td>\n",
       "      <td>13.99%</td>\n",
       "      <td>25000.0</td>\n",
       "      <td>60 months</td>\n",
       "      <td>C</td>\n",
       "    </tr>\n",
       "    <tr>\n",
       "      <th>4</th>\n",
       "      <td>36.0</td>\n",
       "      <td>19.89</td>\n",
       "      <td>E3</td>\n",
       "      <td>19.89%</td>\n",
       "      <td>8650.0</td>\n",
       "      <td>36 months</td>\n",
       "      <td>E</td>\n",
       "    </tr>\n",
       "  </tbody>\n",
       "</table>\n",
       "</div>"
      ],
      "text/plain": [
       "   term_count  int_clean sub_grade int_rate  loan_amnt        term  \\\n",
       "0        36.0       5.32        A1    5.32%    12000.0   36 months   \n",
       "1        36.0      12.88        C2   12.88%     1400.0   36 months   \n",
       "2        60.0      10.78        B4   10.78%    20000.0   60 months   \n",
       "3        60.0      13.99        C4   13.99%    25000.0   60 months   \n",
       "4        36.0      19.89        E3   19.89%     8650.0   36 months   \n",
       "\n",
       "  sub_grade_rename  \n",
       "0                A  \n",
       "1                C  \n",
       "2                B  \n",
       "3                C  \n",
       "4                E  "
      ]
     },
     "execution_count": 119,
     "metadata": {},
     "output_type": "execute_result"
    }
   ],
   "source": [
    "pricing_df_b.head()"
   ]
  },
  {
   "cell_type": "code",
   "execution_count": 130,
   "metadata": {
    "collapsed": false,
    "scrolled": true
   },
   "outputs": [
    {
     "data": {
      "text/html": [
       "<div>\n",
       "<table border=\"1\" class=\"dataframe\">\n",
       "  <thead>\n",
       "    <tr style=\"text-align: right;\">\n",
       "      <th></th>\n",
       "      <th>term_count</th>\n",
       "      <th>int_clean</th>\n",
       "      <th>sub_grade</th>\n",
       "      <th>int_rate</th>\n",
       "      <th>loan_amnt</th>\n",
       "      <th>term</th>\n",
       "      <th>sub_grade_rename</th>\n",
       "      <th>A</th>\n",
       "      <th>B</th>\n",
       "      <th>C</th>\n",
       "      <th>D</th>\n",
       "      <th>E</th>\n",
       "      <th>F</th>\n",
       "      <th>G</th>\n",
       "    </tr>\n",
       "  </thead>\n",
       "  <tbody>\n",
       "    <tr>\n",
       "      <th>0</th>\n",
       "      <td>36.0</td>\n",
       "      <td>5.32</td>\n",
       "      <td>A1</td>\n",
       "      <td>5.32%</td>\n",
       "      <td>12000.0</td>\n",
       "      <td>36 months</td>\n",
       "      <td>A</td>\n",
       "      <td>1.0</td>\n",
       "      <td>0.0</td>\n",
       "      <td>0.0</td>\n",
       "      <td>0.0</td>\n",
       "      <td>0.0</td>\n",
       "      <td>0.0</td>\n",
       "      <td>0.0</td>\n",
       "    </tr>\n",
       "    <tr>\n",
       "      <th>1</th>\n",
       "      <td>36.0</td>\n",
       "      <td>12.88</td>\n",
       "      <td>C2</td>\n",
       "      <td>12.88%</td>\n",
       "      <td>1400.0</td>\n",
       "      <td>36 months</td>\n",
       "      <td>C</td>\n",
       "      <td>0.0</td>\n",
       "      <td>0.0</td>\n",
       "      <td>1.0</td>\n",
       "      <td>0.0</td>\n",
       "      <td>0.0</td>\n",
       "      <td>0.0</td>\n",
       "      <td>0.0</td>\n",
       "    </tr>\n",
       "    <tr>\n",
       "      <th>2</th>\n",
       "      <td>60.0</td>\n",
       "      <td>10.78</td>\n",
       "      <td>B4</td>\n",
       "      <td>10.78%</td>\n",
       "      <td>20000.0</td>\n",
       "      <td>60 months</td>\n",
       "      <td>B</td>\n",
       "      <td>0.0</td>\n",
       "      <td>1.0</td>\n",
       "      <td>0.0</td>\n",
       "      <td>0.0</td>\n",
       "      <td>0.0</td>\n",
       "      <td>0.0</td>\n",
       "      <td>0.0</td>\n",
       "    </tr>\n",
       "    <tr>\n",
       "      <th>3</th>\n",
       "      <td>60.0</td>\n",
       "      <td>13.99</td>\n",
       "      <td>C4</td>\n",
       "      <td>13.99%</td>\n",
       "      <td>25000.0</td>\n",
       "      <td>60 months</td>\n",
       "      <td>C</td>\n",
       "      <td>0.0</td>\n",
       "      <td>0.0</td>\n",
       "      <td>1.0</td>\n",
       "      <td>0.0</td>\n",
       "      <td>0.0</td>\n",
       "      <td>0.0</td>\n",
       "      <td>0.0</td>\n",
       "    </tr>\n",
       "    <tr>\n",
       "      <th>4</th>\n",
       "      <td>36.0</td>\n",
       "      <td>19.89</td>\n",
       "      <td>E3</td>\n",
       "      <td>19.89%</td>\n",
       "      <td>8650.0</td>\n",
       "      <td>36 months</td>\n",
       "      <td>E</td>\n",
       "      <td>0.0</td>\n",
       "      <td>0.0</td>\n",
       "      <td>0.0</td>\n",
       "      <td>0.0</td>\n",
       "      <td>1.0</td>\n",
       "      <td>0.0</td>\n",
       "      <td>0.0</td>\n",
       "    </tr>\n",
       "  </tbody>\n",
       "</table>\n",
       "</div>"
      ],
      "text/plain": [
       "   term_count  int_clean sub_grade int_rate  loan_amnt        term  \\\n",
       "0        36.0       5.32        A1    5.32%    12000.0   36 months   \n",
       "1        36.0      12.88        C2   12.88%     1400.0   36 months   \n",
       "2        60.0      10.78        B4   10.78%    20000.0   60 months   \n",
       "3        60.0      13.99        C4   13.99%    25000.0   60 months   \n",
       "4        36.0      19.89        E3   19.89%     8650.0   36 months   \n",
       "\n",
       "  sub_grade_rename    A    B    C    D    E    F    G  \n",
       "0                A  1.0  0.0  0.0  0.0  0.0  0.0  0.0  \n",
       "1                C  0.0  0.0  1.0  0.0  0.0  0.0  0.0  \n",
       "2                B  0.0  1.0  0.0  0.0  0.0  0.0  0.0  \n",
       "3                C  0.0  0.0  1.0  0.0  0.0  0.0  0.0  \n",
       "4                E  0.0  0.0  0.0  0.0  1.0  0.0  0.0  "
      ]
     },
     "execution_count": 130,
     "metadata": {},
     "output_type": "execute_result"
    }
   ],
   "source": [
    "# One hot encoding into matrix of ones and zeros:\n",
    "df = pd.DataFrame({'sub_grade_rename': pricing_df_b.sub_grade_rename.tolist()})\n",
    "one_hot = pd.get_dummies(df['sub_grade_rename'])\n",
    "pricing_df_final = pricing_df_b.join(one_hot)\n",
    "pricing_df_final.head()"
   ]
  },
  {
   "cell_type": "code",
   "execution_count": 127,
   "metadata": {
    "collapsed": false
   },
   "outputs": [
    {
     "name": "stdout",
     "output_type": "stream",
     "text": [
      "loan_amnt     float64\n",
      "term_count    float64\n",
      "int_clean     float64\n",
      "A             float64\n",
      "B             float64\n",
      "C             float64\n",
      "D             float64\n",
      "E             float64\n",
      "F             float64\n",
      "G             float64\n",
      "dtype: object\n"
     ]
    }
   ],
   "source": [
    "print pricing_df_final.dtypes\n",
    "pricing_df_final.tail()\n",
    "#pricing_df_final = pricing_df_final[pricing_df_final.term_count != 0.00]\n",
    "pricing_df_B1 = pricing_df_final[['loan_amnt','term_count','int_clean','A','B','C','D','E','F','G']]"
   ]
  },
  {
   "cell_type": "code",
   "execution_count": null,
   "metadata": {
    "collapsed": true
   },
   "outputs": [],
   "source": [
    "pricing_df_B1.hist()"
   ]
  },
  {
   "cell_type": "code",
   "execution_count": 124,
   "metadata": {
    "collapsed": false
   },
   "outputs": [
    {
     "data": {
      "text/plain": [
       "array([[<matplotlib.axes._subplots.AxesSubplot object at 0x11d0f2d90>,\n",
       "        <matplotlib.axes._subplots.AxesSubplot object at 0x124703d10>],\n",
       "       [<matplotlib.axes._subplots.AxesSubplot object at 0x124781e90>,\n",
       "        <matplotlib.axes._subplots.AxesSubplot object at 0x1247ee250>]], dtype=object)"
      ]
     },
     "execution_count": 124,
     "metadata": {},
     "output_type": "execute_result"
    },
    {
     "data": {
      "image/png": "[encoded data removed]",
      "text/plain": [
       "<matplotlib.figure.Figure at 0x12053db90>"
      ]
     },
     "metadata": {},
     "output_type": "display_data"
    }
   ],
   "source": [
    "pricing_df_B1[['loan_amnt','term_count','int_clean']].hist()"
   ]
  },
  {
   "cell_type": "code",
   "execution_count": 58,
   "metadata": {
    "collapsed": false
   },
   "outputs": [],
   "source": [
    "#from pandas.tools.plotting import scatter_matrix\n",
    "#df = pricing_df_final\n",
    "#scatter_matrix(df, alpha=0.2, figsize=(6, 6), diagonal='kde')"
   ]
  },
  {
   "cell_type": "code",
   "execution_count": 59,
   "metadata": {
    "collapsed": false
   },
   "outputs": [
    {
     "name": "stderr",
     "output_type": "stream",
     "text": [
      "/anaconda/lib/python2.7/site-packages/ipykernel/__main__.py:2: FutureWarning: \n",
      "The default value for 'return_type' will change to 'axes' in a future release.\n",
      " To use the future behavior now, set return_type='axes'.\n",
      " To keep the previous behavior and silence this warning, set return_type='dict'.\n",
      "  from ipykernel import kernelapp as app\n",
      "/anaconda/lib/python2.7/site-packages/ipykernel/__main__.py:3: FutureWarning: \n",
      "The default value for 'return_type' will change to 'axes' in a future release.\n",
      " To use the future behavior now, set return_type='axes'.\n",
      " To keep the previous behavior and silence this warning, set return_type='dict'.\n",
      "  app.launch_new_instance()\n",
      "/anaconda/lib/python2.7/site-packages/ipykernel/__main__.py:4: FutureWarning: \n",
      "The default value for 'return_type' will change to 'axes' in a future release.\n",
      " To use the future behavior now, set return_type='axes'.\n",
      " To keep the previous behavior and silence this warning, set return_type='dict'.\n"
     ]
    },
    {
     "data": {
      "text/plain": [
       "{'boxes': [<matplotlib.lines.Line2D at 0x1164b0050>],\n",
       " 'caps': [<matplotlib.lines.Line2D at 0x1164d8990>,\n",
       "  <matplotlib.lines.Line2D at 0x1164d8fd0>],\n",
       " 'fliers': [<matplotlib.lines.Line2D at 0x1164dcc90>],\n",
       " 'means': [],\n",
       " 'medians': [<matplotlib.lines.Line2D at 0x1164dc650>],\n",
       " 'whiskers': [<matplotlib.lines.Line2D at 0x1164b0490>,\n",
       "  <matplotlib.lines.Line2D at 0x1164d8350>]}"
      ]
     },
     "execution_count": 59,
     "metadata": {},
     "output_type": "execute_result"
    },
    {
     "data": {
      "image/png": "[encoded data removed]",
      "text/plain": [
       "<matplotlib.figure.Figure at 0x118326810>"
      ]
     },
     "metadata": {},
     "output_type": "display_data"
    }
   ],
   "source": [
    "fig, axes = plt.subplots(nrows=3, ncols=1)\n",
    "pricing_df_B1[['loan_amnt']].boxplot(ax=axes[0])\n",
    "pricing_df_B1[['term_count']].boxplot(ax=axes[1])\n",
    "pricing_df_B1[['int_clean']].boxplot(ax=axes[2])"
   ]
  },
  {
   "cell_type": "markdown",
   "metadata": {},
   "source": [
    "# Answer B1"
   ]
  },
  {
   "cell_type": "code",
   "execution_count": 129,
   "metadata": {
    "collapsed": false
   },
   "outputs": [
    {
     "data": {
      "text/html": [
       "<div>\n",
       "<table border=\"1\" class=\"dataframe\">\n",
       "  <thead>\n",
       "    <tr style=\"text-align: right;\">\n",
       "      <th></th>\n",
       "      <th>loan_amnt</th>\n",
       "      <th>term_count</th>\n",
       "      <th>int_clean</th>\n",
       "      <th>A</th>\n",
       "      <th>B</th>\n",
       "      <th>C</th>\n",
       "      <th>D</th>\n",
       "      <th>E</th>\n",
       "      <th>F</th>\n",
       "      <th>G</th>\n",
       "    </tr>\n",
       "  </thead>\n",
       "  <tbody>\n",
       "    <tr>\n",
       "      <th>loan_amnt</th>\n",
       "      <td>1.000000</td>\n",
       "      <td>0.406855</td>\n",
       "      <td>0.140605</td>\n",
       "      <td>-0.029380</td>\n",
       "      <td>-0.071790</td>\n",
       "      <td>-0.036556</td>\n",
       "      <td>0.034481</td>\n",
       "      <td>0.113454</td>\n",
       "      <td>0.087421</td>\n",
       "      <td>0.043529</td>\n",
       "    </tr>\n",
       "    <tr>\n",
       "      <th>term_count</th>\n",
       "      <td>0.406855</td>\n",
       "      <td>1.000000</td>\n",
       "      <td>0.438833</td>\n",
       "      <td>-0.277728</td>\n",
       "      <td>-0.143191</td>\n",
       "      <td>0.040532</td>\n",
       "      <td>0.133553</td>\n",
       "      <td>0.257731</td>\n",
       "      <td>0.175668</td>\n",
       "      <td>0.085516</td>\n",
       "    </tr>\n",
       "    <tr>\n",
       "      <th>int_clean</th>\n",
       "      <td>0.140605</td>\n",
       "      <td>0.438833</td>\n",
       "      <td>1.000000</td>\n",
       "      <td>-0.601757</td>\n",
       "      <td>-0.368437</td>\n",
       "      <td>0.102464</td>\n",
       "      <td>0.399402</td>\n",
       "      <td>0.466127</td>\n",
       "      <td>0.394357</td>\n",
       "      <td>0.237072</td>\n",
       "    </tr>\n",
       "    <tr>\n",
       "      <th>A</th>\n",
       "      <td>-0.029380</td>\n",
       "      <td>-0.277728</td>\n",
       "      <td>-0.601757</td>\n",
       "      <td>1.000000</td>\n",
       "      <td>-0.285865</td>\n",
       "      <td>-0.290864</td>\n",
       "      <td>-0.191992</td>\n",
       "      <td>-0.138151</td>\n",
       "      <td>-0.070948</td>\n",
       "      <td>-0.033028</td>\n",
       "    </tr>\n",
       "    <tr>\n",
       "      <th>B</th>\n",
       "      <td>-0.071790</td>\n",
       "      <td>-0.143191</td>\n",
       "      <td>-0.368437</td>\n",
       "      <td>-0.285865</td>\n",
       "      <td>1.000000</td>\n",
       "      <td>-0.394288</td>\n",
       "      <td>-0.260260</td>\n",
       "      <td>-0.187274</td>\n",
       "      <td>-0.096175</td>\n",
       "      <td>-0.044772</td>\n",
       "    </tr>\n",
       "    <tr>\n",
       "      <th>C</th>\n",
       "      <td>-0.036556</td>\n",
       "      <td>0.040532</td>\n",
       "      <td>0.102464</td>\n",
       "      <td>-0.290864</td>\n",
       "      <td>-0.394288</td>\n",
       "      <td>1.000000</td>\n",
       "      <td>-0.264811</td>\n",
       "      <td>-0.190548</td>\n",
       "      <td>-0.097857</td>\n",
       "      <td>-0.045554</td>\n",
       "    </tr>\n",
       "    <tr>\n",
       "      <th>D</th>\n",
       "      <td>0.034481</td>\n",
       "      <td>0.133553</td>\n",
       "      <td>0.399402</td>\n",
       "      <td>-0.191992</td>\n",
       "      <td>-0.260260</td>\n",
       "      <td>-0.264811</td>\n",
       "      <td>1.000000</td>\n",
       "      <td>-0.125776</td>\n",
       "      <td>-0.064593</td>\n",
       "      <td>-0.030069</td>\n",
       "    </tr>\n",
       "    <tr>\n",
       "      <th>E</th>\n",
       "      <td>0.113454</td>\n",
       "      <td>0.257731</td>\n",
       "      <td>0.466127</td>\n",
       "      <td>-0.138151</td>\n",
       "      <td>-0.187274</td>\n",
       "      <td>-0.190548</td>\n",
       "      <td>-0.125776</td>\n",
       "      <td>1.000000</td>\n",
       "      <td>-0.046479</td>\n",
       "      <td>-0.021637</td>\n",
       "    </tr>\n",
       "    <tr>\n",
       "      <th>F</th>\n",
       "      <td>0.087421</td>\n",
       "      <td>0.175668</td>\n",
       "      <td>0.394357</td>\n",
       "      <td>-0.070948</td>\n",
       "      <td>-0.096175</td>\n",
       "      <td>-0.097857</td>\n",
       "      <td>-0.064593</td>\n",
       "      <td>-0.046479</td>\n",
       "      <td>1.000000</td>\n",
       "      <td>-0.011112</td>\n",
       "    </tr>\n",
       "    <tr>\n",
       "      <th>G</th>\n",
       "      <td>0.043529</td>\n",
       "      <td>0.085516</td>\n",
       "      <td>0.237072</td>\n",
       "      <td>-0.033028</td>\n",
       "      <td>-0.044772</td>\n",
       "      <td>-0.045554</td>\n",
       "      <td>-0.030069</td>\n",
       "      <td>-0.021637</td>\n",
       "      <td>-0.011112</td>\n",
       "      <td>1.000000</td>\n",
       "    </tr>\n",
       "  </tbody>\n",
       "</table>\n",
       "</div>"
      ],
      "text/plain": [
       "            loan_amnt  term_count  int_clean         A         B         C  \\\n",
       "loan_amnt    1.000000    0.406855   0.140605 -0.029380 -0.071790 -0.036556   \n",
       "term_count   0.406855    1.000000   0.438833 -0.277728 -0.143191  0.040532   \n",
       "int_clean    0.140605    0.438833   1.000000 -0.601757 -0.368437  0.102464   \n",
       "A           -0.029380   -0.277728  -0.601757  1.000000 -0.285865 -0.290864   \n",
       "B           -0.071790   -0.143191  -0.368437 -0.285865  1.000000 -0.394288   \n",
       "C           -0.036556    0.040532   0.102464 -0.290864 -0.394288  1.000000   \n",
       "D            0.034481    0.133553   0.399402 -0.191992 -0.260260 -0.264811   \n",
       "E            0.113454    0.257731   0.466127 -0.138151 -0.187274 -0.190548   \n",
       "F            0.087421    0.175668   0.394357 -0.070948 -0.096175 -0.097857   \n",
       "G            0.043529    0.085516   0.237072 -0.033028 -0.044772 -0.045554   \n",
       "\n",
       "                   D         E         F         G  \n",
       "loan_amnt   0.034481  0.113454  0.087421  0.043529  \n",
       "term_count  0.133553  0.257731  0.175668  0.085516  \n",
       "int_clean   0.399402  0.466127  0.394357  0.237072  \n",
       "A          -0.191992 -0.138151 -0.070948 -0.033028  \n",
       "B          -0.260260 -0.187274 -0.096175 -0.044772  \n",
       "C          -0.264811 -0.190548 -0.097857 -0.045554  \n",
       "D           1.000000 -0.125776 -0.064593 -0.030069  \n",
       "E          -0.125776  1.000000 -0.046479 -0.021637  \n",
       "F          -0.064593 -0.046479  1.000000 -0.011112  \n",
       "G          -0.030069 -0.021637 -0.011112  1.000000  "
      ]
     },
     "execution_count": 129,
     "metadata": {},
     "output_type": "execute_result"
    }
   ],
   "source": [
    "# a positive but low correlation ( person's r = 0.140) exists between loan_amount and int_rate\n",
    "# a positive and medium correlation ( person's r = 0.407) exists between loan_amount and term_count\n",
    "# a positive and medium correlation ( person's r = 0.439) exists between int_rate and term_count\n",
    "# You can also see the relationship between each of the loan term categories (i.e. A-G) and other variables. \n",
    "pricing_df_B1.corr(method='pearson')"
   ]
  },
  {
   "cell_type": "markdown",
   "metadata": {},
   "source": [
    "# Set B2 (answer at least one question) \n",
    "1. The LC risk model has assigned records to different pricing tiers, indicated within the sub_grade variable. Using the sub_grade as the dependent variable, determine which other variables are most related/predictive and attempt to explain why. "
   ]
  },
  {
   "cell_type": "code",
   "execution_count": 131,
   "metadata": {
    "collapsed": false
   },
   "outputs": [
    {
     "data": {
      "text/html": [
       "<div>\n",
       "<table border=\"1\" class=\"dataframe\">\n",
       "  <thead>\n",
       "    <tr style=\"text-align: right;\">\n",
       "      <th></th>\n",
       "      <th>term_count</th>\n",
       "      <th>int_clean</th>\n",
       "      <th>sub_grade</th>\n",
       "      <th>int_rate</th>\n",
       "      <th>loan_amnt</th>\n",
       "      <th>term</th>\n",
       "      <th>sub_grade_rename</th>\n",
       "      <th>A</th>\n",
       "      <th>B</th>\n",
       "      <th>C</th>\n",
       "      <th>D</th>\n",
       "      <th>E</th>\n",
       "      <th>F</th>\n",
       "      <th>G</th>\n",
       "    </tr>\n",
       "  </thead>\n",
       "  <tbody>\n",
       "    <tr>\n",
       "      <th>0</th>\n",
       "      <td>36.0</td>\n",
       "      <td>5.32</td>\n",
       "      <td>A1</td>\n",
       "      <td>5.32%</td>\n",
       "      <td>12000.0</td>\n",
       "      <td>36 months</td>\n",
       "      <td>A</td>\n",
       "      <td>1.0</td>\n",
       "      <td>0.0</td>\n",
       "      <td>0.0</td>\n",
       "      <td>0.0</td>\n",
       "      <td>0.0</td>\n",
       "      <td>0.0</td>\n",
       "      <td>0.0</td>\n",
       "    </tr>\n",
       "    <tr>\n",
       "      <th>1</th>\n",
       "      <td>36.0</td>\n",
       "      <td>12.88</td>\n",
       "      <td>C2</td>\n",
       "      <td>12.88%</td>\n",
       "      <td>1400.0</td>\n",
       "      <td>36 months</td>\n",
       "      <td>C</td>\n",
       "      <td>0.0</td>\n",
       "      <td>0.0</td>\n",
       "      <td>1.0</td>\n",
       "      <td>0.0</td>\n",
       "      <td>0.0</td>\n",
       "      <td>0.0</td>\n",
       "      <td>0.0</td>\n",
       "    </tr>\n",
       "    <tr>\n",
       "      <th>2</th>\n",
       "      <td>60.0</td>\n",
       "      <td>10.78</td>\n",
       "      <td>B4</td>\n",
       "      <td>10.78%</td>\n",
       "      <td>20000.0</td>\n",
       "      <td>60 months</td>\n",
       "      <td>B</td>\n",
       "      <td>0.0</td>\n",
       "      <td>1.0</td>\n",
       "      <td>0.0</td>\n",
       "      <td>0.0</td>\n",
       "      <td>0.0</td>\n",
       "      <td>0.0</td>\n",
       "      <td>0.0</td>\n",
       "    </tr>\n",
       "    <tr>\n",
       "      <th>3</th>\n",
       "      <td>60.0</td>\n",
       "      <td>13.99</td>\n",
       "      <td>C4</td>\n",
       "      <td>13.99%</td>\n",
       "      <td>25000.0</td>\n",
       "      <td>60 months</td>\n",
       "      <td>C</td>\n",
       "      <td>0.0</td>\n",
       "      <td>0.0</td>\n",
       "      <td>1.0</td>\n",
       "      <td>0.0</td>\n",
       "      <td>0.0</td>\n",
       "      <td>0.0</td>\n",
       "      <td>0.0</td>\n",
       "    </tr>\n",
       "    <tr>\n",
       "      <th>4</th>\n",
       "      <td>36.0</td>\n",
       "      <td>19.89</td>\n",
       "      <td>E3</td>\n",
       "      <td>19.89%</td>\n",
       "      <td>8650.0</td>\n",
       "      <td>36 months</td>\n",
       "      <td>E</td>\n",
       "      <td>0.0</td>\n",
       "      <td>0.0</td>\n",
       "      <td>0.0</td>\n",
       "      <td>0.0</td>\n",
       "      <td>1.0</td>\n",
       "      <td>0.0</td>\n",
       "      <td>0.0</td>\n",
       "    </tr>\n",
       "  </tbody>\n",
       "</table>\n",
       "</div>"
      ],
      "text/plain": [
       "   term_count  int_clean sub_grade int_rate  loan_amnt        term  \\\n",
       "0        36.0       5.32        A1    5.32%    12000.0   36 months   \n",
       "1        36.0      12.88        C2   12.88%     1400.0   36 months   \n",
       "2        60.0      10.78        B4   10.78%    20000.0   60 months   \n",
       "3        60.0      13.99        C4   13.99%    25000.0   60 months   \n",
       "4        36.0      19.89        E3   19.89%     8650.0   36 months   \n",
       "\n",
       "  sub_grade_rename    A    B    C    D    E    F    G  \n",
       "0                A  1.0  0.0  0.0  0.0  0.0  0.0  0.0  \n",
       "1                C  0.0  0.0  1.0  0.0  0.0  0.0  0.0  \n",
       "2                B  0.0  1.0  0.0  0.0  0.0  0.0  0.0  \n",
       "3                C  0.0  0.0  1.0  0.0  0.0  0.0  0.0  \n",
       "4                E  0.0  0.0  0.0  0.0  1.0  0.0  0.0  "
      ]
     },
     "execution_count": 131,
     "metadata": {},
     "output_type": "execute_result"
    }
   ],
   "source": [
    "pricing_df_final.head()"
   ]
  },
  {
   "cell_type": "code",
   "execution_count": 132,
   "metadata": {
    "collapsed": false
   },
   "outputs": [
    {
     "name": "stdout",
     "output_type": "stream",
     "text": [
      "421096\n"
     ]
    },
    {
     "data": {
      "text/html": [
       "<div>\n",
       "<table border=\"1\" class=\"dataframe\">\n",
       "  <thead>\n",
       "    <tr style=\"text-align: right;\">\n",
       "      <th></th>\n",
       "      <th>term_count</th>\n",
       "      <th>int_clean</th>\n",
       "      <th>sub_grade</th>\n",
       "      <th>int_rate</th>\n",
       "      <th>loan_amnt</th>\n",
       "      <th>term</th>\n",
       "      <th>sub_grade_rename</th>\n",
       "      <th>A</th>\n",
       "      <th>B</th>\n",
       "      <th>C</th>\n",
       "      <th>D</th>\n",
       "      <th>E</th>\n",
       "      <th>F</th>\n",
       "      <th>G</th>\n",
       "      <th>encoded_grade</th>\n",
       "    </tr>\n",
       "  </thead>\n",
       "  <tbody>\n",
       "    <tr>\n",
       "      <th>0</th>\n",
       "      <td>36.0</td>\n",
       "      <td>5.32</td>\n",
       "      <td>A1</td>\n",
       "      <td>5.32%</td>\n",
       "      <td>12000.0</td>\n",
       "      <td>36 months</td>\n",
       "      <td>A</td>\n",
       "      <td>1.0</td>\n",
       "      <td>0.0</td>\n",
       "      <td>0.0</td>\n",
       "      <td>0.0</td>\n",
       "      <td>0.0</td>\n",
       "      <td>0.0</td>\n",
       "      <td>0.0</td>\n",
       "      <td>1</td>\n",
       "    </tr>\n",
       "    <tr>\n",
       "      <th>1</th>\n",
       "      <td>36.0</td>\n",
       "      <td>12.88</td>\n",
       "      <td>C2</td>\n",
       "      <td>12.88%</td>\n",
       "      <td>1400.0</td>\n",
       "      <td>36 months</td>\n",
       "      <td>C</td>\n",
       "      <td>0.0</td>\n",
       "      <td>0.0</td>\n",
       "      <td>1.0</td>\n",
       "      <td>0.0</td>\n",
       "      <td>0.0</td>\n",
       "      <td>0.0</td>\n",
       "      <td>0.0</td>\n",
       "      <td>3</td>\n",
       "    </tr>\n",
       "    <tr>\n",
       "      <th>2</th>\n",
       "      <td>60.0</td>\n",
       "      <td>10.78</td>\n",
       "      <td>B4</td>\n",
       "      <td>10.78%</td>\n",
       "      <td>20000.0</td>\n",
       "      <td>60 months</td>\n",
       "      <td>B</td>\n",
       "      <td>0.0</td>\n",
       "      <td>1.0</td>\n",
       "      <td>0.0</td>\n",
       "      <td>0.0</td>\n",
       "      <td>0.0</td>\n",
       "      <td>0.0</td>\n",
       "      <td>0.0</td>\n",
       "      <td>2</td>\n",
       "    </tr>\n",
       "    <tr>\n",
       "      <th>3</th>\n",
       "      <td>60.0</td>\n",
       "      <td>13.99</td>\n",
       "      <td>C4</td>\n",
       "      <td>13.99%</td>\n",
       "      <td>25000.0</td>\n",
       "      <td>60 months</td>\n",
       "      <td>C</td>\n",
       "      <td>0.0</td>\n",
       "      <td>0.0</td>\n",
       "      <td>1.0</td>\n",
       "      <td>0.0</td>\n",
       "      <td>0.0</td>\n",
       "      <td>0.0</td>\n",
       "      <td>0.0</td>\n",
       "      <td>3</td>\n",
       "    </tr>\n",
       "    <tr>\n",
       "      <th>4</th>\n",
       "      <td>36.0</td>\n",
       "      <td>19.89</td>\n",
       "      <td>E3</td>\n",
       "      <td>19.89%</td>\n",
       "      <td>8650.0</td>\n",
       "      <td>36 months</td>\n",
       "      <td>E</td>\n",
       "      <td>0.0</td>\n",
       "      <td>0.0</td>\n",
       "      <td>0.0</td>\n",
       "      <td>0.0</td>\n",
       "      <td>1.0</td>\n",
       "      <td>0.0</td>\n",
       "      <td>0.0</td>\n",
       "      <td>5</td>\n",
       "    </tr>\n",
       "  </tbody>\n",
       "</table>\n",
       "</div>"
      ],
      "text/plain": [
       "   term_count  int_clean sub_grade int_rate  loan_amnt        term  \\\n",
       "0        36.0       5.32        A1    5.32%    12000.0   36 months   \n",
       "1        36.0      12.88        C2   12.88%     1400.0   36 months   \n",
       "2        60.0      10.78        B4   10.78%    20000.0   60 months   \n",
       "3        60.0      13.99        C4   13.99%    25000.0   60 months   \n",
       "4        36.0      19.89        E3   19.89%     8650.0   36 months   \n",
       "\n",
       "  sub_grade_rename    A    B    C    D    E    F    G  encoded_grade  \n",
       "0                A  1.0  0.0  0.0  0.0  0.0  0.0  0.0              1  \n",
       "1                C  0.0  0.0  1.0  0.0  0.0  0.0  0.0              3  \n",
       "2                B  0.0  1.0  0.0  0.0  0.0  0.0  0.0              2  \n",
       "3                C  0.0  0.0  1.0  0.0  0.0  0.0  0.0              3  \n",
       "4                E  0.0  0.0  0.0  0.0  1.0  0.0  0.0              5  "
      ]
     },
     "execution_count": 132,
     "metadata": {},
     "output_type": "execute_result"
    }
   ],
   "source": [
    "# maping categorical label to numerical in order to perform logistic regression analysis:\n",
    "\n",
    "# Initialize label encoder\n",
    "from sklearn import preprocessing\n",
    "label_encoder = preprocessing.LabelEncoder()\n",
    "\n",
    "# Creating labels\n",
    "encoded_grade = label_encoder.fit_transform(pricing_df_final['sub_grade_rename'])\n",
    "pricing_df_final['encoded_grade'] = encoded_grade\n",
    "\n",
    "print len(pricing_df_final)\n",
    "pricing_df_final.head()"
   ]
  },
  {
   "cell_type": "code",
   "execution_count": 144,
   "metadata": {
    "collapsed": false
   },
   "outputs": [
    {
     "name": "stdout",
     "output_type": "stream",
     "text": [
      "Index([u'Intercept', u'loan_amnt', u'term_count', u'int_clean'], dtype='object')\n",
      "[0 1 2 3 4 5 6 7]\n",
      "[nan, 'A', 'B', 'C', 'D', 'E', 'F', 'G']\n"
     ]
    }
   ],
   "source": [
    "y2, X2 = dmatrices('encoded_grade ~ loan_amnt + term_count + int_clean', pricing_df_final[['loan_amnt','term_count','int_clean','encoded_grade']], return_type=\"dataframe\")\n",
    "\n",
    "print X2.columns\n",
    "y2 = np.ravel(y2)\n",
    "\n",
    "print pricing_df_final.encoded_grade.sort_values().unique()\n",
    "print list(label_encoder.inverse_transform([ 0,  1,  2,  3,  4,  5,  6,  7]))\n"
   ]
  },
  {
   "cell_type": "code",
   "execution_count": 146,
   "metadata": {
    "collapsed": false
   },
   "outputs": [],
   "source": [
    "X2lr, X2testlr, y2lr, y2testlr = train_test_split(X2, y2)"
   ]
  },
  {
   "cell_type": "code",
   "execution_count": 149,
   "metadata": {
    "collapsed": false
   },
   "outputs": [],
   "source": [
    "#pricing_df_final.corr(method='pearson')"
   ]
  },
  {
   "cell_type": "code",
   "execution_count": 148,
   "metadata": {
    "collapsed": false
   },
   "outputs": [
    {
     "data": {
      "text/plain": [
       "(LogisticRegression(C=10, class_weight='balanced', dual=False,\n",
       "           fit_intercept=False, intercept_scaling=1, max_iter=100,\n",
       "           multi_class='ovr', n_jobs=1, penalty='l2', random_state=None,\n",
       "           solver='liblinear', tol=0.0001, verbose=0, warm_start=False),\n",
       " {'C': 10},\n",
       " 0.36205635470725506,\n",
       " [mean: 0.35994, std: 0.00640, params: {'C': 1},\n",
       "  mean: 0.36206, std: 0.00751, params: {'C': 10}])"
      ]
     },
     "execution_count": 148,
     "metadata": {},
     "output_type": "execute_result"
    }
   ],
   "source": [
    "from sklearn.linear_model import LogisticRegression\n",
    "from sklearn.grid_search import GridSearchCV\n",
    "from sklearn import svm, datasets\n",
    "clfl2=LogisticRegression(class_weight='balanced', fit_intercept=False)  # class_weight='auto' should help with balancing unbalanced classes \n",
    "parameters = {\"C\": [ 1, 10]}\n",
    "fitmodel = GridSearchCV(clfl2, param_grid=parameters, cv=5, scoring=\"accuracy\")\n",
    "fitmodel.fit(X2lr, y2lr)\n",
    "fitmodel.best_estimator_, fitmodel.best_params_, fitmodel.best_score_, fitmodel.grid_scores_"
   ]
  },
  {
   "cell_type": "code",
   "execution_count": 154,
   "metadata": {
    "collapsed": false
   },
   "outputs": [
    {
     "name": "stdout",
     "output_type": "stream",
     "text": [
      "[[  1.86588606e-03   7.98901395e-02   1.66908080e-01 ...,   4.80356501e-01\n",
      "    1.22268814e-01   5.19103512e-03]\n",
      " [  4.79646772e-01   2.88346590e-01   1.66820065e-01 ...,   4.48128050e-03\n",
      "    2.42757458e-07   1.09252112e-08]\n",
      " [  1.94981829e-04   2.58363523e-02   1.49874221e-01 ...,   3.26397122e-01\n",
      "    1.01754530e-01   2.01478331e-02]\n",
      " ..., \n",
      " [  1.57060483e-02   1.55911414e-01   2.01476349e-01 ...,   4.51191415e-01\n",
      "    3.16120984e-02   1.10556553e-03]\n",
      " [  2.41803291e-01   3.20879550e-01   2.76724964e-01 ...,   1.62261782e-02\n",
      "    4.03272441e-06   2.22753183e-07]\n",
      " [  4.53825384e-02   2.30600788e-01   2.29738458e-01 ...,   3.53605544e-01\n",
      "    1.00908093e-02   3.07352418e-04]]\n",
      "-------------------------------------\n",
      "accuracy of model: 0.375933278872\n",
      "-------------------------------------\n",
      "precision vs recall:\n",
      "             precision    recall  f1-score   support\n",
      "\n",
      "          A       0.78      0.67      0.72     21684\n",
      "          B       0.23      0.33      0.27     20776\n",
      "          C       0.04      0.08      0.05     15030\n",
      "          D       0.52      0.27      0.36     30342\n",
      "          E       0.74      0.45      0.56     14331\n",
      "          F       1.00      0.79      0.88      3111\n",
      "          G       0.00      0.00      0.00         0\n",
      "\n",
      "avg / total       0.49      0.38      0.41    105274\n",
      "\n",
      "Precision: measure of a classifiers exactness\n",
      "Recall: measure of a classifiers completeness\n",
      "f1-score: the harmonic mean of precision and recall\n",
      "support: number of samples of the true response that lie in that class\n"
     ]
    }
   ],
   "source": [
    "from sklearn import metrics\n",
    "from sklearn.metrics import accuracy_score\n",
    "\n",
    "clfl2=lm.LogisticRegression(C=fitmodel.best_params_['C'], class_weight='balanced')\n",
    "clfl2.fit(X2lr, y2lr)\n",
    "y2pred2=clfl2.predict(X2testlr)\n",
    "\n",
    "probs = clfl2.predict_proba(X2testlr)\n",
    "print probs\n",
    "print \"-------------------------------------\"\n",
    "print 'accuracy of model:', accuracy_score(y2pred2, y2testlr) \n",
    "#print 'roc_auc:', metrics.roc_auc_score(y2testlr, probs[:, 1]) # area under the curve very low (i.e. 0.47) due to unbalanced classes\n",
    "\n",
    "#print \"-------------------------------------\"\n",
    "#print \"confusion matrix:\"\n",
    "#print metrics.confusion_matrix(y2pred2, y2testlr)\n",
    "print \"-------------------------------------\"\n",
    "print \"precision vs recall:\"\n",
    "print metrics.classification_report(y2pred2, y2testlr, target_names = ['A', 'B','C','D','E','F','G'])\n",
    "\n",
    "print \"Precision: measure of a classifiers exactness\"\n",
    "print \"Recall: measure of a classifiers completeness\" \n",
    "#... recall is very low (i.e 0) on defualt since we have unbalanced classes.\n",
    "print \"f1-score: the harmonic mean of precision and recall\"\n",
    "print \"support: number of samples of the true response that lie in that class\""
   ]
  },
  {
   "cell_type": "code",
   "execution_count": 153,
   "metadata": {
    "collapsed": false
   },
   "outputs": [
    {
     "data": {
      "text/html": [
       "<div>\n",
       "<table border=\"1\" class=\"dataframe\">\n",
       "  <thead>\n",
       "    <tr style=\"text-align: right;\">\n",
       "      <th></th>\n",
       "      <th>0</th>\n",
       "      <th>1</th>\n",
       "    </tr>\n",
       "  </thead>\n",
       "  <tbody>\n",
       "    <tr>\n",
       "      <th>0</th>\n",
       "      <td>Intercept</td>\n",
       "      <td>[0.524436996342, 0.00235213939537, -0.00084445...</td>\n",
       "    </tr>\n",
       "    <tr>\n",
       "      <th>1</th>\n",
       "      <td>loan_amnt</td>\n",
       "      <td>[3.96222739985e-05, -1.23399093336e-05, -2.432...</td>\n",
       "    </tr>\n",
       "    <tr>\n",
       "      <th>2</th>\n",
       "      <td>term_count</td>\n",
       "      <td>[0.069627282702, 0.0222689256688, -0.024651292...</td>\n",
       "    </tr>\n",
       "    <tr>\n",
       "      <th>3</th>\n",
       "      <td>int_clean</td>\n",
       "      <td>[-0.644146051702, -0.205543567515, -0.00662755...</td>\n",
       "    </tr>\n",
       "  </tbody>\n",
       "</table>\n",
       "</div>"
      ],
      "text/plain": [
       "            0                                                  1\n",
       "0   Intercept  [0.524436996342, 0.00235213939537, -0.00084445...\n",
       "1   loan_amnt  [3.96222739985e-05, -1.23399093336e-05, -2.432...\n",
       "2  term_count  [0.069627282702, 0.0222689256688, -0.024651292...\n",
       "3   int_clean  [-0.644146051702, -0.205543567515, -0.00662755..."
      ]
     },
     "execution_count": 153,
     "metadata": {},
     "output_type": "execute_result"
    }
   ],
   "source": [
    "import sklearn.linear_model as lm\n",
    "coefficients = pd.DataFrame(zip(X2.columns, np.transpose(clfl2.coef_)))\n",
    "coefficients"
   ]
  },
  {
   "cell_type": "code",
   "execution_count": null,
   "metadata": {
    "collapsed": true
   },
   "outputs": [],
   "source": []
  }
 ],
 "metadata": {
  "kernelspec": {
   "display_name": "Python 2",
   "language": "python",
   "name": "python2"
  },
  "language_info": {
   "codemirror_mode": {
    "name": "ipython",
    "version": 2
   },
   "file_extension": ".py",
   "mimetype": "text/x-python",
   "name": "python",
   "nbconvert_exporter": "python",
   "pygments_lexer": "ipython2",
   "version": "2.7.12"
  }
 },
 "nbformat": 4,
 "nbformat_minor": 0
}
